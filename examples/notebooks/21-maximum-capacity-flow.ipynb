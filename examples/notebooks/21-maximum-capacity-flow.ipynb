{
 "cells": [
  {
   "cell_type": "code",
   "execution_count": null,
   "metadata": {},
   "outputs": [],
   "source": [
    "from cedne import utils"
   ]
  },
  {
   "cell_type": "code",
   "execution_count": null,
   "metadata": {},
   "outputs": [],
   "source": [
    "## Make a worm\n",
    "w = utils.makeWorm()\n",
    "nn = w.networks[\"Neutral\"]\n",
    "\n",
    "## Adding some properties to the neurons (see Example 1)\n",
    "num_sensory = len([_ for n in nn.neurons if nn.neurons[n].type == 'sensory'])\n",
    "num_motor = len([_ for n in nn.neurons if nn.neurons[n].category == 'head motor neuron'])\n",
    "for n in nn.neurons:\n",
    "    if nn.neurons[n].type == 'sensory':\n",
    "        nn.neurons[n].set_property('demand', -num_motor)\n",
    "    #elif nn.neurons[n].type == 'motorneuron':\n",
    "    elif nn.neurons[n].category == 'head motor neuron':\n",
    "        nn.neurons[n].set_property('demand', num_sensory)\n",
    "    else:\n",
    "        nn.neurons[n].set_property('demand', 0) \n",
    "\n",
    "for e, conn in nn.connections.items():\n",
    "    conn.set_property('capacity', conn.weight)"
   ]
  },
  {
   "cell_type": "code",
   "execution_count": null,
   "metadata": {},
   "outputs": [],
   "source": [
    "total_demand = sum(nn.neurons[n].get_property('demand') for n in nn.neurons)\n",
    "print(total_demand)"
   ]
  },
  {
   "cell_type": "code",
   "execution_count": null,
   "metadata": {},
   "outputs": [],
   "source": [
    "disconnected = []\n",
    "for sensory in [nn.neurons[n] for n in nn.neurons if nn.neurons[n].type == \"sensory\"]:\n",
    "    if not any(utils.nx.has_path(nn, sensory, motor) for motor in [nn.neurons[n] for n in nn.neurons if nn.neurons[n].category == \"head motor neuron\"]):\n",
    "        disconnected.append(sensory)"
   ]
  },
  {
   "cell_type": "code",
   "execution_count": null,
   "metadata": {},
   "outputs": [],
   "source": [
    "print([n for n in nn.neurons if nn.neurons[n].category in [\"head motor neuron\"]])"
   ]
  },
  {
   "cell_type": "code",
   "execution_count": null,
   "metadata": {},
   "outputs": [],
   "source": [
    "def depth_first_search(source, target, direction='reverse', max_length=7):\n",
    "    \"\"\" Traverse the graph depth-first and write out the set of all paths between source and target neurons. \n",
    "    Traversal ends at a maximum of max_length steps.\"\"\"\n",
    "\n",
    "    source_n = nn.neurons[source]\n",
    "    target_n = nn.neurons[target]\n",
    "\n",
    "    def dfs(current, target, path, visited, paths, max_length):\n",
    "        if current == target:\n",
    "            paths.append(path)\n",
    "            return\n",
    "        if len(path) > max_length:\n",
    "            return\n",
    "        visited.add(current)\n",
    "        if direction == 'reverse':\n",
    "            for eid, conn in current.get_connections(direction='in').items():\n",
    "                if eid[0] not in visited:\n",
    "                    dfs(eid[0], target, path + [eid[0]], visited, paths, max_length)\n",
    "        elif direction == 'forward':\n",
    "            for eid, conn in current.get_connections(direction='out').items():\n",
    "                if eid[1] not in visited:\n",
    "                    dfs(eid[1], target, path + [eid[1]], visited, paths, max_length)\n",
    "        visited.remove(current)\n",
    "\n",
    "    paths = []\n",
    "    dfs(source_n, target_n, [source_n], set(), paths, max_length)\n",
    "    return paths\n"
   ]
  },
  {
   "cell_type": "code",
   "execution_count": null,
   "metadata": {},
   "outputs": [],
   "source": [
    "depth_first_search('RIAL', 'AWCL')"
   ]
  },
  {
   "cell_type": "code",
   "execution_count": null,
   "metadata": {},
   "outputs": [],
   "source": [
    "paths"
   ]
  },
  {
   "cell_type": "code",
   "execution_count": null,
   "metadata": {},
   "outputs": [],
   "source": []
  },
  {
   "cell_type": "code",
   "execution_count": null,
   "metadata": {},
   "outputs": [],
   "source": []
  }
 ],
 "metadata": {
  "language_info": {
   "name": "python"
  }
 },
 "nbformat": 4,
 "nbformat_minor": 2
}
