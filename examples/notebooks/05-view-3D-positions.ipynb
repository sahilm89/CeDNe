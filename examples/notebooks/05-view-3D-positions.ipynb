{
 "cells": [
  {
   "cell_type": "markdown",
   "metadata": {},
   "source": [
    "# View 3D positions of neurons based on selection\n",
    "\n",
    "It is also possible to visualize the 3D position of neurons with respect to the whole nervous system and the body of the worm based on selection"
   ]
  },
  {
   "cell_type": "markdown",
   "metadata": {},
   "source": [
    "\n",
    "### Here we look at ways to view positions of specific neurons in the neuronal network in different orientations, and select a subset of neurons based on their transcripts."
   ]
  },
  {
   "cell_type": "code",
   "execution_count": null,
   "metadata": {},
   "outputs": [],
   "source": [
    "from cedne import utils"
   ]
  },
  {
   "cell_type": "markdown",
   "metadata": {},
   "source": [
    "### Load the worm and neural network as usual"
   ]
  },
  {
   "cell_type": "code",
   "execution_count": null,
   "metadata": {},
   "outputs": [],
   "source": [
    "w = utils.makeWorm()\n",
    "nn = w.networks[\"Neutral\"]"
   ]
  },
  {
   "cell_type": "code",
   "execution_count": null,
   "metadata": {},
   "outputs": [],
   "source": [
    "cengen_threshold_level = 4\n",
    "utils.loadTranscripts(nn, threshold=cengen_threshold_level)\n",
    "transcript_of_interest =  'flp-1'"
   ]
  },
  {
   "cell_type": "markdown",
   "metadata": {},
   "source": [
    "### View positions of neurons of interest and neighbours in a 3D plot."
   ]
  },
  {
   "cell_type": "code",
   "execution_count": null,
   "metadata": {},
   "outputs": [],
   "source": [
    "neurons_of_interest = [n.name for n,t in nn.neurons_have('transcript').items() if t[transcript_of_interest]]"
   ]
  },
  {
   "cell_type": "code",
   "execution_count": null,
   "metadata": {},
   "outputs": [],
   "source": [
    "neurons_of_interest = ['AWCL', 'AIAL', 'RIS', 'AWAR']"
   ]
  },
  {
   "cell_type": "code",
   "execution_count": null,
   "metadata": {},
   "outputs": [],
   "source": [
    "%matplotlib qt \n",
    "utils.plot_position_3D(nn, highlight=neurons_of_interest,  title=transcript_of_interest, save=False)"
   ]
  }
 ],
 "metadata": {
  "language_info": {
   "name": "python"
  }
 },
 "nbformat": 4,
 "nbformat_minor": 2
}
