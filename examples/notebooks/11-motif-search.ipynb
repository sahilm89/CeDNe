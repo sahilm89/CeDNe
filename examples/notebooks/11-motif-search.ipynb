{
 "cells": [
  {
   "cell_type": "code",
   "execution_count": null,
   "metadata": {},
   "outputs": [],
   "source": [
    "from cedne import utils\n",
    "import matplotlib.pyplot as plt\n",
    "from collections import Counter\n",
    "import numpy as np\n",
    "import copy\n",
    "import os\n",
    "from matplotlib.offsetbox import OffsetImage, AnnotationBbox\n",
    "import numpy as np\n",
    "from matplotlib.backends.backend_agg import FigureCanvasAgg as FigureCanvas"
   ]
  },
  {
   "cell_type": "code",
   "execution_count": null,
   "metadata": {},
   "outputs": [],
   "source": [
    "if not os.path.isdir(utils.OUTPUT_DIR):\n",
    "    os.makedirs(utils.OUTPUT_DIR)"
   ]
  },
  {
   "cell_type": "code",
   "execution_count": null,
   "metadata": {},
   "outputs": [],
   "source": [
    "def simpleaxis(axes, every=False, outward=False):\n",
    "    if not isinstance(axes, (list, np.ndarray)):\n",
    "        axes = [axes]\n",
    "    for ax in axes:\n",
    "        ax.spines['top'].set_visible(False)\n",
    "        ax.spines['right'].set_visible(False)\n",
    "        if (outward):\n",
    "            ax.spines['bottom'].set_position(('outward', 10))\n",
    "            ax.spines['left'].set_position(('outward', 10))\n",
    "        if every:\n",
    "            ax.spines['bottom'].set_visible(False)\n",
    "            ax.spines['left'].set_visible(False)\n",
    "        ax.get_xaxis().tick_bottom()\n",
    "        ax.get_yaxis().tick_left()\n",
    "        ax.set_title('')"
   ]
  },
  {
   "cell_type": "code",
   "execution_count": null,
   "metadata": {},
   "outputs": [],
   "source": [
    "ntype = ['sensory', 'interneuron', 'motorneuron']\n",
    "facecolors = ['#FF6F61', '#FFD700', '#4682B4']\n",
    "ntype_pairs = [(nt1, nt2) for nt1 in ntype for nt2 in ntype]\n",
    "colors= plt.cm.magma(np.linspace(0,1,len(ntype_pairs)))\n",
    "type_color_dict = {p:color for (p,color) in zip(ntype_pairs, colors)}"
   ]
  },
  {
   "cell_type": "code",
   "execution_count": null,
   "metadata": {},
   "outputs": [],
   "source": [
    "w = utils.makeWorm(chem_only=True)\n",
    "nn = w.networks[\"Neutral\"]"
   ]
  },
  {
   "cell_type": "code",
   "execution_count": null,
   "metadata": {},
   "outputs": [],
   "source": [
    "triad_motifs = utils.return_triads()"
   ]
  },
  {
   "cell_type": "code",
   "execution_count": null,
   "metadata": {},
   "outputs": [],
   "source": [
    "nodesize=800\n",
    "pos = utils.nx.circular_layout(triad_motifs['300'])\n",
    "fig, ax = plt.subplots(ncols=len(triad_motifs), figsize=(len(triad_motifs)*2, 2), layout='constrained')\n",
    "for j,mot in enumerate(triad_motifs):\n",
    "    n = utils.nx.draw_networkx_nodes(triad_motifs[mot], node_size=nodesize, pos=pos, ax=ax[j], node_color='lightgray')\n",
    "    e = utils.nx.draw_networkx_edges(triad_motifs[mot], node_size=nodesize, pos=pos, ax= ax[j], arrowstyle='->', width=6, arrowsize=40) \n",
    "    l = utils.nx.draw_networkx_labels(triad_motifs[mot], pos=pos, ax= ax[j], font_size='xx-large')\n",
    "    ax[j].set_xlim((-0.75,1.25))\n",
    "    ax[j].set_ylim((-1.15,1.15))\n",
    "    ax[j].set_frame_on(False)\n",
    "    ax[j].spines['top'].set_visible(False)\n",
    "    ax[j].spines['bottom'].set_visible(False)\n",
    "    ax[j].spines['left'].set_visible(False)\n",
    "    ax[j].spines['right'].set_visible(False)\n",
    "    ax[j].set_title(mot, fontsize='xx-large')\n",
    "fig.set_facecolor('none')\n",
    "plt.show()"
   ]
  },
  {
   "cell_type": "code",
   "execution_count": null,
   "metadata": {},
   "outputs": [],
   "source": [
    "num_graphs = {}\n",
    "conn_types = {}\n",
    "ntype_motif = {}\n",
    "for mot in triad_motifs:\n",
    "    #utils.nx.draw_circular(triad_motifs[m], ax=ax, with_labels=True, node_color='gray', node_size=150)\n",
    "    conn_types[mot] = {n:0 for n in ntype_pairs}\n",
    "    all_matches = nn.search_motifs(triad_motifs[mot])\n",
    "    num_graphs[mot] = len(all_matches)\n",
    "    ntype_motif[mot] = {m:{n:0 for n in ntype} for m in triad_motifs[mot].nodes}\n",
    "    for sub in all_matches:\n",
    "        for motif_edge, network_edge in sub.items():\n",
    "            if all(n.type in ntype for n in network_edge):\n",
    "                for m,n in zip(motif_edge, network_edge):\n",
    "                    ntype_motif[mot][m][n.type] +=1\n",
    "                conn = (network_edge[0].type, network_edge[1].type)\n",
    "                conn_types[mot][conn] +=1"
   ]
  },
  {
   "cell_type": "code",
   "execution_count": null,
   "metadata": {},
   "outputs": [],
   "source": [
    "def hierarchical_alignment(conn_types_mot):\n",
    "    feedforward =  conn_types_mot[('sensory', 'interneuron')] + conn_types_mot[('sensory', 'motorneuron')] + conn_types_mot[('interneuron', 'motorneuron')] \n",
    "    feedback = conn_types_mot[('interneuron', 'sensory')] + conn_types_mot[('motorneuron', 'interneuron')] + conn_types_mot[('motorneuron', 'sensory')]\n",
    "    lateral = 0#conn_types_mot[('sensory', 'sensory')] + conn_types_mot[('interneuron', 'interneuron')] + conn_types_mot[('motorneuron', 'motorneuron')]\n",
    "    # return (feedforward+lateral)/(feedforward+lateral+feedback)\n",
    "    return (feedforward-feedback)/(feedforward+feedback+lateral)"
   ]
  },
  {
   "cell_type": "code",
   "execution_count": null,
   "metadata": {},
   "outputs": [],
   "source": [
    "from cedne.utils import OUTPUT_DIR\n",
    "\n",
    "\n",
    "ha = [hierarchical_alignment(conn_types[mot]) if not mot in ['003'] else np.nan for mot in triad_motifs ]\n",
    "\n",
    "def fig2array(fig):\n",
    "    canvas = FigureCanvas(fig)\n",
    "    canvas.draw()\n",
    "    width, height = fig.get_size_inches() * fig.get_dpi()\n",
    "    width, height = int(width), int(height)\n",
    "    return np.frombuffer(canvas.tostring_rgb(), dtype=np.uint8).reshape(height, width, 3)\n",
    "\n",
    "nodesize=300\n",
    "edgewidth = 2\n",
    "arrowsize=10\n",
    "figs = []\n",
    "pos = utils.nx.circular_layout(triad_motifs['300'])\n",
    "for mot in triad_motifs:\n",
    "    f, ax = plt.subplots(figsize=(1.5,1.5), dpi=300)\n",
    "    n = utils.nx.draw_networkx_nodes(triad_motifs[mot], node_size=nodesize, pos=pos, ax=ax, node_color='lightgray')\n",
    "    e = utils.nx.draw_networkx_edges(triad_motifs[mot], node_size=nodesize, pos=pos, ax= ax, arrowstyle='->', width=edgewidth, arrowsize=arrowsize) \n",
    "    l = utils.nx.draw_networkx_labels(triad_motifs[mot], pos=pos, ax= ax, font_size='xx-large')\n",
    "    ax.set_xlim((-0.75,1.25))\n",
    "    ax.set_ylim((-1.15,1.15))\n",
    "    ax.set_frame_on(False)\n",
    "    ax.spines['top'].set_visible(False)\n",
    "    ax.spines['bottom'].set_visible(False)\n",
    "    ax.spines['left'].set_visible(False)\n",
    "    ax.spines['right'].set_visible(False)\n",
    "    f.set_facecolor('none')\n",
    "    figs.append(f)\n",
    "    \n",
    "f, ax = plt.subplots(figsize=(20,3), layout='constrained')\n",
    "ax.scatter(np.arange(len(ha)), ha, color='k', s=100)\n",
    "ax.set_xticks(np.arange(len(ha)), list(triad_motifs.keys()), fontsize='xx-large', rotation=45)\n",
    "ax.tick_params(axis='y', labelsize='xx-large')\n",
    "simpleaxis(ax)\n",
    "ax.set_xlim(xmin=0)\n",
    "ax.set_ylabel(\"Hierarchical\\nAlignment\", fontsize='x-large')\n",
    "\n",
    "# create offset images from the plots\n",
    "offset_images = [OffsetImage(fig2array(fig), zoom=0.2) for fig in figs]\n",
    "\n",
    "# create annotation boxes\n",
    "ax.set_xticks(np.arange(len(triad_motifs)), np.arange(len(triad_motifs))+1,fontsize='x-large')\n",
    "# ax.set_xticklabels([mot for mot in triad_motifs], fontsize='x-large')\n",
    "ax.axhline(y=np.nanmax(ha), linestyle='--', color='gray')\n",
    "\n",
    "plt.tick_params(axis='y', labelsize='x-large')\n",
    "xticks = ax.get_xticks()\n",
    "ax.set_xlim((-0.5, len(triad_motifs)-0.5))\n",
    "ax.set_yticks([0,0.4,0.8])\n",
    "# xtick_labels = [ax.get_xticklabels()[i].get_position() for i in range(len(ax.get_xticklabels()))]\n",
    "annotation_boxes = [AnnotationBbox(offset_image, ((np.arange(len(triad_motifs))[i]+0.5)/len(triad_motifs), -0.4), frameon=False, xycoords='axes fraction') for i, offset_image in enumerate(offset_images)]\n",
    "# add the annotation boxes to the plot\n",
    "for annotation_box in annotation_boxes:\n",
    "    ax.add_artist(annotation_box)\n",
    "plt.savefig(OUTPUT_DIR + \"Hierarchical_alignment_triads.svg\", transparent=True)\n",
    "plt.show()"
   ]
  },
  {
   "cell_type": "code",
   "execution_count": null,
   "metadata": {},
   "outputs": [],
   "source": [
    "piesize=0.3\n",
    "edgewidth = 4\n",
    "arrowsize=20\n",
    "pos = utils.nx.circular_layout(triad_motifs['300'])\n",
    "for mot in triad_motifs:\n",
    "    # pos = utils.nx.kamada_kawai_layout(triad_motifs[mot])\n",
    "    # pos = utils.nx.circular_layout(triad_motifs[mot])\n",
    "    color_dict = {p:facecolors for p in pos.keys()}\n",
    "    alpha_dict = {p:1 for p in pos.keys()}\n",
    "    pie_division = {m: [ntype_motif[mot][m][n]/sum(ntype_motif[mot][m].values()) for n in ntype if sum(ntype_motif[mot][m].values())] for m in triad_motifs[mot].nodes}\n",
    "\n",
    "    if all ([pie_division[m] for m in pie_division.keys()]):\n",
    "        f, ax = plt.subplots(figsize=(2,2), layout='constrained')\n",
    "        utils.nx.draw_networkx_edges(triad_motifs[mot], pos=pos, node_size=600, connectionstyle='arc3', arrowstyle='->', width=edgewidth, arrowsize=arrowsize)\n",
    "        for n,p in pos.items():\n",
    "            utils.plot_pie(n=n, center=p, ax=ax, color_dict=color_dict, alpha_dict=alpha_dict, pie_division=pie_division[n], piesize=piesize)\n",
    "        # utils.nx.draw_networkx_labels(hm, pos=pos)\n",
    "        ax.set_xlim(-1, 1)\n",
    "        ax.set_ylim(-1, 1)\n",
    "        ax.set_aspect('equal')\n",
    "        ax.axis('off')  # Optionally turn off axis\n",
    "        f.suptitle(mot)\n",
    "        plt.show()\n",
    "    else:\n",
    "        print(f\"No edges found for {mot}\")\n",
    "    plt.savefig(f'{utils.OUTPUT_DIR}/motif_ntype_division-{mot}.svg', transparent=True)\n",
    "    plt.close()"
   ]
  },
  {
   "cell_type": "markdown",
   "metadata": {},
   "source": [
    "## Random graph search"
   ]
  },
  {
   "cell_type": "code",
   "execution_count": null,
   "metadata": {},
   "outputs": [],
   "source": [
    "num_graphs_random = {}\n",
    "graph_specs_random = {}\n",
    "\n",
    "nrgraphs=50\n",
    "for mot in triad_motifs:\n",
    "    graph_specs_random[mot] = {'conn_type':[], 'ntype':[]}\n",
    "    num_graphs_random[mot] = []\n",
    "    #utils.nx.draw_circular(triad_motifs[m], ax=ax, with_labels=True, node_color='gray', node_size=150)\n",
    "    for g in range(nrgraphs):\n",
    "        conn_types_random = {}\n",
    "        ntype_motif_random = {}\n",
    "        nnr = utils.randomize_graph(nn)\n",
    "\n",
    "        conn_types_random[mot] = {n:0 for n in ntype_pairs}\n",
    "        all_matches = nnr.search_motifs(triad_motifs[mot])\n",
    "        num_graphs_random[mot].append(len(all_matches))\n",
    "        ntype_motif_random[mot] = {m:{n:0 for n in ntype} for m in triad_motifs[mot].nodes}\n",
    "\n",
    "        for sub in all_matches:\n",
    "            for motif_edge, network_edge in sub.items():\n",
    "                if all(n.type in ntype for n in network_edge):\n",
    "                    for m,n in zip(motif_edge, network_edge):\n",
    "                        ntype_motif_random[mot][m][n.type] +=1\n",
    "                    conn = tuple([network_edge[0].type, network_edge[1].type])\n",
    "                    conn_types_random[mot][conn] +=1\n",
    "        \n",
    "        graph_specs_random[mot]['conn_type'].append(copy.deepcopy(conn_types_random))\n",
    "        graph_specs_random[mot]['ntype'].append(copy.deepcopy(ntype_motif_random))"
   ]
  },
  {
   "cell_type": "code",
   "execution_count": null,
   "metadata": {},
   "outputs": [],
   "source": [
    "\n",
    "\n",
    "def fig2array(fig):\n",
    "    canvas = FigureCanvas(fig)\n",
    "    canvas.draw()\n",
    "    width, height = fig.get_size_inches() * fig.get_dpi()\n",
    "    width, height = int(width), int(height)\n",
    "    return np.frombuffer(canvas.tostring_rgb(), dtype=np.uint8).reshape(height, width, 3)\n",
    "\n",
    "nodesize=300\n",
    "figs = []\n",
    "pos = utils.nx.circular_layout(triad_motifs['300'])\n",
    "for mot in triad_motifs:\n",
    "    f, ax = plt.subplots(figsize=(1.25,1.25), dpi=300)\n",
    "    n = utils.nx.draw_networkx_nodes(triad_motifs[mot], node_size=nodesize, pos=pos, ax=ax, node_color='lightgray')\n",
    "    e = utils.nx.draw_networkx_edges(triad_motifs[mot], node_size=nodesize, pos=pos, ax= ax, arrowstyle='->', width=2, arrowsize=10) \n",
    "    l = utils.nx.draw_networkx_labels(triad_motifs[mot], pos=pos, ax= ax, font_size='xx-large')\n",
    "    ax.set_xlim((-0.75,1.25))\n",
    "    ax.set_ylim((-1.15,1.15))\n",
    "    ax.set_frame_on(False)\n",
    "    ax.spines['top'].set_visible(False)\n",
    "    ax.spines['bottom'].set_visible(False)\n",
    "    ax.spines['left'].set_visible(False)\n",
    "    ax.spines['right'].set_visible(False)\n",
    "    f.set_facecolor('none')\n",
    "    figs.append(f)\n",
    "\n",
    "\n",
    "f, ax = plt.subplots(figsize=(16,4), layout='constrained')\n",
    "\n",
    "frac_num_graphs_random = {mot:num_graphs_random[mot]/np.sum([num_graphs_random[mot1] for mot1 in triad_motifs],axis=0) for mot in triad_motifs}\n",
    "frac_num_graphs = {mot:num_graphs[mot]/np.sum([num_graphs[mot1] for mot1 in triad_motifs]) for mot in triad_motifs}\n",
    "\n",
    "zscore_sig_single = [(frac_num_graphs[mot]- np.mean(frac_num_graphs_random[mot]))/np.std(frac_num_graphs_random[mot]) for mot in triad_motifs]\n",
    "zscore_sig_thres = 2.58\n",
    "\n",
    "for j,mot in enumerate(triad_motifs):\n",
    "    ax.scatter([j]*len(num_graphs_random[mot]), y=num_graphs_random[mot], color='gray', alpha=0.2)\n",
    "    \n",
    "zscore_sig_single_ind = np.where(np.abs(zscore_sig_single)>zscore_sig_thres)[0]\n",
    "\n",
    "ax.scatter(range(len(triad_motifs)), [num_graphs[mot] for mot in triad_motifs], color='purple')\n",
    "ax.scatter(range(len(triad_motifs)), y=[np.mean(num_graphs_random[mot]) for mot in triad_motifs], color='k')\n",
    "\n",
    "#ax.errorbar(range(len(triad_motifs)), y=[np.mean(num_graphs_random[mot]) for mot in triad_motifs], yerr=[np.std(num_graphs_random[mot]) for mot in triad_motifs],  color='gray', linestyle='None')\n",
    "ax.set_yscale('log')\n",
    "ax.set_ylim(ymin=1, ymax=10**8)\n",
    "# create offset images from the plots\n",
    "offset_images = [OffsetImage(fig2array(fig), zoom=0.2) for fig in figs]\n",
    "\n",
    "# create annotation boxes\n",
    "ax.set_xticks(range(len(triad_motifs)))\n",
    "ax.set_xticklabels([mot for mot in triad_motifs], fontsize='xx-large')\n",
    "\n",
    "plt.tick_params(axis='y', labelsize='xx-large')\n",
    "xticks = ax.get_xticks()\n",
    "ax.set_xlim((-0.5, len(triad_motifs)-0.5))\n",
    "xtick_labels = [ax.get_xticklabels()[i].get_position() for i in range(len(ax.get_xticklabels()))]\n",
    "annotation_boxes = [AnnotationBbox(offset_image, ((np.arange(len(triad_motifs))[i]+0.5)/len(triad_motifs), -0.4), frameon=False, xycoords='axes fraction') for i, offset_image in enumerate(offset_images)]\n",
    "# add the annotation boxes to the plot\n",
    "for annotation_box in annotation_boxes:\n",
    "    ax.add_artist(annotation_box)\n",
    "\n",
    "for x in zscore_sig_single_ind:\n",
    "    ax.text(x=x, y=10**8, s=\"**\", color='k')\n",
    "\n",
    "simpleaxis(ax)\n",
    "f.supylabel(\"Number of matched networks\", fontsize='xx-large')\n",
    "plt.savefig(f\"Single_triads_50_random_networks.svg\", format='svg', transparent=True, bbox_inches='tight', pad_inches=0)\n",
    "plt.show()"
   ]
  },
  {
   "cell_type": "code",
   "execution_count": null,
   "metadata": {},
   "outputs": [],
   "source": [
    "ntype_pairs = [(m,n) for m in ntype for n in ntype]"
   ]
  },
  {
   "cell_type": "code",
   "execution_count": null,
   "metadata": {},
   "outputs": [],
   "source": [
    "ntype_pairs"
   ]
  },
  {
   "cell_type": "code",
   "execution_count": null,
   "metadata": {},
   "outputs": [],
   "source": [
    "gmr = np.array([[graph_specs_random[mot]['conn_type'][j][mot][conn] for j in range((nrgraphs))] for conn in conn_types[mot]])"
   ]
  },
  {
   "cell_type": "code",
   "execution_count": null,
   "metadata": {},
   "outputs": [],
   "source": [
    "(np.array(actual_connt) - np.array(rand_connt_mean))/np.array(rand_connt_std)"
   ]
  },
  {
   "cell_type": "code",
   "execution_count": null,
   "metadata": {},
   "outputs": [],
   "source": [
    "zscore_sig_thres = 2.58\n",
    "for mot in triad_motifs:\n",
    "    \n",
    "    gmr = np.array([[graph_specs_random[mot]['conn_type'][j][mot][conn] for j in range(nrgraphs)] for conn in conn_types[mot]])\n",
    "    gmr = gmr/np.sum(gmr, axis=0)\n",
    "    gm = [conn_types[mot][conn] for conn in conn_types[mot]]\n",
    "    gm = gm/np.sum(gm)\n",
    "    conns, actual_connt, rand_connt_mean, rand_connt_std = zip(*[(conn, gm[j], np.mean(gmr, axis=1)[j], np.std(gmr, axis=1)[j]) for j,conn in enumerate(conn_types[mot])])\n",
    "\n",
    "    actual_connt, rand_connt_mean, rand_connt_std  = np.array(actual_connt), np.array(rand_connt_mean), np.array(rand_connt_std)\n",
    "    if not (np.isnan(actual_connt).any() or np.isnan(rand_connt_mean).any()):\n",
    "        f, ax = plt.subplots(figsize=(2,2), layout='constrained')\n",
    "        ax.bar(np.arange(6)-0.25, actual_connt, color='purple', width=0.25)\n",
    "        ax.bar(np.arange(6), rand_connt_mean, color='gray', width=0.25)\n",
    "        ax.errorbar(np.arange(6), y=rand_connt_mean, yerr=rand_connt_std, color='gray', linestyle='none')\n",
    "        zind = (actual_connt - rand_connt_mean)/rand_connt_std\n",
    "        for x in np.where(zind>zscore_sig_thres)[0]:\n",
    "            ax.text(x-0.25, ax.get_ylim()[1], s=\"*\", color='k')\n",
    "        ax.set_xticks(np.arange(6), conns, rotation=45, ha='right')\n",
    "        simpleaxis(ax)\n",
    "        f.suptitle(mot)\n",
    "        plt.show()"
   ]
  },
  {
   "cell_type": "code",
   "execution_count": null,
   "metadata": {},
   "outputs": [],
   "source": [
    "piesize=0.3\n",
    "for mot in triad_motifs:\n",
    "    # pos = utils.nx.kamada_kawai_layout(triad_motifs[mot])\n",
    "    pos = utils.nx.circular_layout(triad_motifs[mot])\n",
    "\n",
    "    color_dict = {p:facecolors for p in pos.keys()}\n",
    "    alpha_dict = {p:1 for p in pos.keys()}\n",
    "    pie_division = {m: [graph_specs_random['ntype'][mot][m][n]/sum(graph_specs_random['ntype'][mot][m].values()) for n in ntype if sum(graph_specs_random['ntype'][mot][m].values())] for m in triad_motifs[mot].nodes}\n",
    "\n",
    "    if all ([pie_division[m] for m in pie_division.keys()]):\n",
    "        f, ax = plt.subplots(figsize=(2,2), layout='constrained')\n",
    "        utils.nx.draw_networkx_edges(triad_motifs[mot], pos=pos, node_size=1200, connectionstyle='arc3', arrowstyle='->')\n",
    "        for n,p in pos.items():\n",
    "            utils.plot_pie(n=n, center=p, ax=ax, color_dict=color_dict, alpha_dict=alpha_dict, pie_division=pie_division[n], piesize=piesize)\n",
    "        # utils.nx.draw_networkx_labels(hm, pos=pos)\n",
    "        ax.set_xlim(-1, 1)\n",
    "        ax.set_ylim(-1, 1)\n",
    "        ax.set_aspect('equal')\n",
    "        ax.axis('off')  # Optionally turn off axis\n",
    "        f.suptitle(mot)\n",
    "        plt.show()\n",
    "    else:\n",
    "        print(f\"No edges found for {mot}\")\n",
    "    plt.savefig(f'{utils.OUTPUT_DIR}/motif_ntype_division-{mot}.svg', transparent=True)\n",
    "    plt.close()"
   ]
  },
  {
   "cell_type": "code",
   "execution_count": null,
   "metadata": {},
   "outputs": [],
   "source": [
    "single_motif_fractions = {}\n",
    "for mot in triad_motifs:\n",
    "    single_motif_fractions[mot] = {}\n",
    "    single_motif_fractions[mot] = np.array(num_graphs_random[mot])/(np.array(num_graphs[mot]))"
   ]
  },
  {
   "cell_type": "code",
   "execution_count": null,
   "metadata": {},
   "outputs": [],
   "source": [
    "motif = triad_motifs['030T']"
   ]
  },
  {
   "cell_type": "code",
   "execution_count": null,
   "metadata": {},
   "outputs": [],
   "source": [
    "motif = utils.nx.relabel_nodes(motif, {1:1, 2:3, 3:2})"
   ]
  },
  {
   "cell_type": "code",
   "execution_count": null,
   "metadata": {},
   "outputs": [],
   "source": [
    "num_graphs = {}\n",
    "mappings = [(3,1)]\n",
    "max_chain_length = 3\n",
    "for mapping in mappings:\n",
    "    num_graphs[mapping] = []\n",
    "    for l in range(2,max_chain_length+1):\n",
    "        hm = utils.make_hypermotifs(motif, l, [mapping])\n",
    "        all_ffgs = nn.search_motifs(hm)\n",
    "        num_graphs[mapping].append(len(all_ffgs))"
   ]
  },
  {
   "cell_type": "code",
   "execution_count": null,
   "metadata": {},
   "outputs": [],
   "source": [
    "colors = ['blue', 'gray']\n",
    "f, ax = plt.subplots(figsize=(2.5,2.5), layout='constrained')\n",
    "for m, mapping in enumerate(mappings):\n",
    "    ax.scatter(np.arange(1,max_chain_length), num_graphs[mapping], color=colors[m], label=mapping)\n",
    "    # ax.scatter(np.arange(1,len(num_graphs[mapping])+1), num_graphs[mapping], color='blue')\n",
    "ax.set_xticks(np.arange(1,max_chain_length+1))\n",
    "ax.set_yticks((0,5000,10000), ('0','5k','10k'))\n",
    "# ax.yaxis.major.formatter._useMathText = True\n",
    "ax.set_ylabel(\"# Networks\")\n",
    "ax.set_xlabel(\"# chained FFLs\")\n",
    "simpleaxis(ax)\n",
    "f.legend(loc='upper right', ncols=1, bbox_to_anchor=(1.1, 1))\n",
    "# plt.savefig('FFL-chains-C_elegans.svg')\n",
    "plt.show()"
   ]
  },
  {
   "cell_type": "code",
   "execution_count": null,
   "metadata": {},
   "outputs": [],
   "source": [
    "conn_types = {n:0 for n in ntype_pairs}\n",
    "ntype_motif = {m:{n:0 for n in ntype} for m in hm.nodes}\n",
    "for sub in all_ffgs:\n",
    "    for motif_edge, network_edge in sub.items():\n",
    "        if all(n.type in ntype for n in network_edge):\n",
    "            for m,n in zip(motif_edge, network_edge):\n",
    "                ntype_motif[m][n.type] +=1\n",
    "            conn = (network_edge[0].type, network_edge[1].type)\n",
    "            conn_types[conn] +=1"
   ]
  },
  {
   "cell_type": "code",
   "execution_count": null,
   "metadata": {},
   "outputs": [],
   "source": [
    "piesize=0.08\n",
    "pos = utils.nx.kamada_kawai_layout(hm)\n",
    "color_dict = {p:facecolors for p in pos.keys()}\n",
    "alpha_dict = {p:1 for p in pos.keys()}\n",
    "pie_division = {m: [ntype_motif[m][n]/sum(ntype_motif[m].values()) for n in ntype] for m in hm.nodes}\n",
    "\n",
    "f, ax = plt.subplots(figsize=(8,8))\n",
    "utils.nx.draw_networkx_edges(hm, pos=pos, node_size=1200, connectionstyle='arc3', arrowstyle='->')\n",
    "for n,p in pos.items():\n",
    "    utils.plot_pie(n=n, center=p, ax=ax, color_dict=color_dict, alpha_dict=alpha_dict, pie_division=pie_division[n], piesize=piesize)\n",
    "# utils.nx.draw_networkx_labels(hm, pos=pos)\n",
    "ax.set_xlim(-1, 1)\n",
    "ax.set_ylim(-1, 1)\n",
    "ax.set_aspect('equal')\n",
    "ax.axis('off')  # Optionally turn off axis\n",
    "# plt.savefig('motif_ntype_division.svg')\n"
   ]
  },
  {
   "cell_type": "code",
   "execution_count": null,
   "metadata": {},
   "outputs": [],
   "source": [
    "count_edgelabels.items()"
   ]
  },
  {
   "cell_type": "code",
   "execution_count": null,
   "metadata": {},
   "outputs": [],
   "source": [
    "from cedne.utils import OUTPUT_DIR\n",
    "\n",
    "\n",
    "hseq = hm\n",
    "mot_edgelabels = {node:[] for node in hseq}\n",
    "for ffg in all_ffgs:\n",
    "    nodelist = {node:None for node in hseq}\n",
    "    for med, ned in ffg.items():\n",
    "        for m,n in zip(med, ned):\n",
    "            nodelist[m] = n.name\n",
    "    for node in nodelist:\n",
    "        mot_edgelabels[node].append(nodelist[node])\n",
    "\n",
    "count_edgelabels = {node:[] for node in hseq}\n",
    "for node in hseq:\n",
    "    count_edgelabels[node] = Counter(mot_edgelabels[node])\n",
    "\n",
    "f, ax = plt.subplots(nrows=len(count_edgelabels), figsize=(40,2*len(count_edgelabels)), layout='constrained', sharey=True)\n",
    "for n, (node, d) in enumerate(sorted(count_edgelabels.items(), key=lambda x:x[0])):\n",
    "    name, height = zip(*[(name, height) for (name, height) in sorted(d.items(), key=lambda x:x[0])])\n",
    "    print(sorted(d.items(), key=lambda x:x[1], reverse=True))\n",
    "    print((d['AVAL'] + d['AVAR'] + d['AVBL'] + d['AVBR'] + d['AVDL'] + d['AVDR'] + d['AVEL'] + d['AVER'])/np.sum(height))\n",
    "    ax[n].bar(name, height/np.sum(height), color='gray')\n",
    "    ax[n].set_xticks(range(len(name)), name, rotation=45, fontsize='xx-large')\n",
    "    ax[n].tick_params(axis='y', labelsize='xx-large')\n",
    "    utils.simpleaxis(ax[n])\n",
    "    ax[n].set_title(node, fontsize='xx-large')\n",
    "f.supylabel(\"Fraction of matched neurons for node\", fontsize='xx-large')\n",
    "f.supxlabel(\"Neuron name\", fontsize='xx-large')\n",
    "plt.savefig(OUTPUT_DIR + \"/HierarchicalSequence-neuronfractions.svg\")\n",
    "plt.show()"
   ]
  },
  {
   "cell_type": "code",
   "execution_count": null,
   "metadata": {},
   "outputs": [],
   "source": [
    "hierarchical_alignment(conn_types)"
   ]
  },
  {
   "cell_type": "code",
   "execution_count": null,
   "metadata": {},
   "outputs": [],
   "source": [
    "motif_edge, hm.nodes"
   ]
  },
  {
   "cell_type": "code",
   "execution_count": null,
   "metadata": {},
   "outputs": [],
   "source": [
    "sequential_hierarchy_edges = []\n",
    "sequential_hierarchy_nodes = []\n",
    "node_id = {n:[] for n in hm.nodes}\n",
    "for sub in all_ffgs:\n",
    "    local_node_id = {n:None for n in hm.nodes}\n",
    "    for motif_edge, network_edge in sub.items():\n",
    "        sequential_hierarchy_edges.append(network_edge)\n",
    "        sequential_hierarchy_nodes+=network_edge\n",
    "        local_node_id[motif_edge[0]] = network_edge[0].name\n",
    "        local_node_id[motif_edge[1]] = network_edge[1].name\n",
    "    for n in hm.nodes:\n",
    "        node_id[n].append(local_node_id[n])\n",
    "\n",
    "sequential_hierarchy_edges = set(sequential_hierarchy_edges)\n",
    "sequential_hierarchy_nodes = set(sequential_hierarchy_nodes)"
   ]
  },
  {
   "cell_type": "code",
   "execution_count": null,
   "metadata": {},
   "outputs": [],
   "source": [
    "for n in hm.nodes:\n",
    "    print(n, Counter(node_id[n]))"
   ]
  },
  {
   "cell_type": "code",
   "execution_count": null,
   "metadata": {},
   "outputs": [],
   "source": [
    "seq_hier_count = {ntyp:0 for ntyp in ntype_pairs}\n",
    "nn_count = {ntyp:0 for ntyp in ntype_pairs}\n",
    "for e, conn in nn.connections.items():\n",
    "    if e[0].type in ntype and  e[1].type in ntype:\n",
    "        nn_count[(e[0].type, e[1].type)]+=1\n",
    "        if (e[0], e[1]) in sequential_hierarchy_edges:\n",
    "            seq_hier_count[e[0].type, e[1].type]+=1\n",
    "\n",
    "for nty in ntype_pairs:\n",
    "    print(nty, seq_hier_count[nty]/nn_count[nty])"
   ]
  },
  {
   "cell_type": "code",
   "execution_count": null,
   "metadata": {},
   "outputs": [],
   "source": [
    "mappings = [(2,1), (3,1)]\n",
    "num_graphs = {}\n",
    "conn_types = {}\n",
    "ntype_motif = {}\n",
    "max_chain_length = 6\n",
    "for mapping in mappings:\n",
    "    num_graphs[mapping] = []\n",
    "    ntype_motif[mapping] = {}\n",
    "    conn_types[mapping] = {}\n",
    "    for l in range(1,max_chain_length+1):\n",
    "        ntype_motif[mapping][l] = {}\n",
    "        conn_types[mapping][l] = {n:0 for n in ntype_pairs}\n",
    "        hm = utils.make_hypermotifs(motif, l, [mapping])\n",
    "        for m in hm.nodes:\n",
    "            ntype_motif[mapping][l][m] = {n:0 for n in ntype}\n",
    "        all_ffgs = nn.search_motifs(hm)\n",
    "        num_graphs[mapping].append(len(all_ffgs))\n",
    "        for sub in all_ffgs:\n",
    "            for motif_edge, network_edge in sub.items():\n",
    "                if all(n.type in ntype for n in network_edge):\n",
    "                    for m,n in zip(motif_edge, network_edge):\n",
    "                        ntype_motif[mapping][l][m][n.type] +=1\n",
    "                    conn = (network_edge[0].type, network_edge[1].type)\n",
    "                    conn_types[mapping][l][conn] +=1"
   ]
  },
  {
   "cell_type": "code",
   "execution_count": null,
   "metadata": {},
   "outputs": [],
   "source": [
    "colors = ['gray', 'purple']\n",
    "f, ax = plt.subplots(figsize=(2.5,2.5), layout='constrained')\n",
    "for m, mapping in enumerate(mappings):\n",
    "    ax.scatter(np.arange(1,max_chain_length+1), num_graphs[mapping], color=colors[m], label=mapping)\n",
    "    # ax.scatter(np.arange(1,len(num_graphs[mapping])+1), num_graphs[mapping], color='blue')\n",
    "ax.set_xticks(np.arange(1,max_chain_length+1))\n",
    "ax.set_yticks((0,5000,10000), ('0','5k','10k'))\n",
    "# ax.yaxis.major.formatter._useMathText = True\n",
    "ax.set_ylabel(\"# subnetworks\")\n",
    "ax.set_xlabel(\"# chained FFLs\")\n",
    "simpleaxis(ax)\n",
    "f.legend(loc='upper right', ncols=1, bbox_to_anchor=(1.1, 1), frameon=False)\n",
    "plt.savefig('FFL-chains-lengths-C_elegans.svg', transparent=True)\n",
    "plt.show()"
   ]
  },
  {
   "cell_type": "code",
   "execution_count": null,
   "metadata": {},
   "outputs": [],
   "source": [
    "for mapping in mappings:\n",
    "    for l in range(1, max_chain_length+1):\n",
    "        print(mapping, l, hierarchical_alignment(conn_types[mapping][l]))"
   ]
  },
  {
   "cell_type": "code",
   "execution_count": null,
   "metadata": {},
   "outputs": [],
   "source": [
    "motif_fractions_actual = {}\n",
    "for mapping in mappings:\n",
    "    motif_fractions_actual[mapping] = np.array(num_graphs[mapping])/(np.array(num_graphs[mappings[0]]) + np.array(num_graphs[mappings[1]]))\n",
    "colors = ['gray', 'purple']\n",
    "f, ax = plt.subplots(figsize=(2.5,2.5), layout='constrained')\n",
    "for m, mapping in enumerate(mappings):\n",
    "    ax.scatter(np.arange(1,len(num_graphs[mapping])+1),motif_fractions_actual[mapping] , color=colors[m], label=mapping)\n",
    "ax.set_xticks(np.arange(1,max_chain_length+1))\n",
    "ax.set_yticks((0,0.5,1))\n",
    "# ax.yaxis.major.formatter._useMathText = True\n",
    "ax.set_ylabel(\"fraction subnetworks with motif\")\n",
    "ax.set_xlabel(\"Number of chained FFLs\")\n",
    "simpleaxis(ax)\n",
    "f.legend(loc='upper center', frameon=False, ncols=2, bbox_to_anchor=(0.55,1.1))\n",
    "plt.savefig('FFL-chains-C_elegans_fractions.svg', transparent=True)\n",
    "plt.show()"
   ]
  },
  {
   "cell_type": "code",
   "execution_count": null,
   "metadata": {},
   "outputs": [],
   "source": [
    "int(np.log(len(nn.edges)))*len(nn.edges)"
   ]
  },
  {
   "cell_type": "code",
   "execution_count": null,
   "metadata": {},
   "outputs": [],
   "source": [
    "piesize=0.08\n",
    "chain_length = 3\n",
    "for mapping in mappings:\n",
    "    hm = utils.make_hypermotifs(motif, chain_length, [mapping])\n",
    "    pos = utils.nx.kamada_kawai_layout(hm)\n",
    "    color_dict = {p:facecolors for p in pos.keys()}\n",
    "    alpha_dict = {p:1 for p in pos.keys()}\n",
    "    pie_division = {m: [ntype_motif[mapping][m][n]/sum(ntype_motif[mapping][m].values()) for n in ntype] for m in hm.nodes}\n",
    "\n",
    "    f, ax = plt.subplots(figsize=(8,8))\n",
    "    utils.nx.draw_networkx_edges(hm, pos=pos, node_size=1200, connectionstyle='arc3', arrowstyle='->')\n",
    "    for n,p in pos.items():\n",
    "        utils.plot_pie(n=n, center=p, ax=ax, color_dict=color_dict, alpha_dict=alpha_dict, pie_division=pie_division[n], piesize=piesize)\n",
    "    # utils.nx.draw_networkx_labels(hm, pos=pos)\n",
    "    ax.set_xlim(-1, 1)\n",
    "    ax.set_ylim(-1, 1)\n",
    "    ax.set_aspect('equal')\n",
    "    ax.axis('off')  # Optionally turn off axis\n",
    "    plt.savefig(f'motif_ntype_division_{mapping}.svg', transparent=True)\n",
    "    plt.show()\n",
    "    plt.close()\n"
   ]
  },
  {
   "cell_type": "markdown",
   "metadata": {},
   "source": [
    "## Randomizing graphs by swapping edges."
   ]
  },
  {
   "cell_type": "code",
   "execution_count": null,
   "metadata": {},
   "outputs": [],
   "source": [
    "num_graphs = {}\n",
    "mappings = [(2,1), (3,1)]\n",
    "max_chain_length = 6\n",
    "nrgraphs = 50\n",
    "graph_specs = {}\n",
    "for mapping in mappings:\n",
    "    num_graphs[mapping] = {}\n",
    "    graph_specs[mapping] = {}\n",
    "    for l in range(1,max_chain_length+1):\n",
    "        num_graphs[mapping][l] = []\n",
    "        graph_specs[mapping][l] = {'conn_type':[], 'ntype':[]}\n",
    "        hm = utils.make_hypermotifs(motif, l, [mapping])\n",
    "        for g in range(nrgraphs):\n",
    "            nnr = utils.randomize_graph(nn)\n",
    "            all_ffgs = nnr.search_motifs(hm)\n",
    "            num_graphs[mapping][l].append(len(all_ffgs))\n",
    "\n",
    "            conn_types = {n:0 for n in ntype_pairs}\n",
    "            ntype_motif = {m:{n:0 for n in ntype} for m in hm.nodes}\n",
    "            for sub in all_ffgs:\n",
    "                for motif_edge, network_edge in sub.items():\n",
    "                    if all(n.type in ntype for n in network_edge):\n",
    "                        for m,n in zip(motif_edge, network_edge):\n",
    "                            ntype_motif[m][n.type] +=1\n",
    "                        conn = tuple(sorted([network_edge[0].type, network_edge[1].type]))\n",
    "                        conn_types[conn] +=1\n",
    "            graph_specs[mapping][l]['conn_type'].append(copy.deepcopy(conn_types))\n",
    "            graph_specs[mapping][l]['ntype'].append(copy.deepcopy(ntype_motif))"
   ]
  },
  {
   "cell_type": "code",
   "execution_count": null,
   "metadata": {},
   "outputs": [],
   "source": [
    "colors = ['gray', 'purple']\n",
    "f, ax = plt.subplots(figsize=(2.5,2.5), layout='constrained')\n",
    "for m, mapping in enumerate(mappings):\n",
    "    ngraphs_mu = np.mean([num_graphs[mapping][l] for l in np.arange(1,max_chain_length+1)], axis=1)\n",
    "    ngraphs_sigma = np.std([num_graphs[mapping][l] for l in np.arange(1,max_chain_length+1)], axis=1)\n",
    "    ax.errorbar(np.arange(1,max_chain_length+1), ngraphs_mu, yerr = ngraphs_sigma, color=colors[m])\n",
    "    ax.scatter(np.arange(1,len(num_graphs[mapping])+1), ngraphs_mu, color=colors[m], label=mapping)\n",
    "ax.set_xticks(np.arange(1,max_chain_length+1))\n",
    "ax.set_yticks((0,15000,30000), ('0','15k','30k'))\n",
    "# ax.yaxis.major.formatter._useMathText = True\n",
    "ax.set_ylabel(\"# subnetworks\")\n",
    "ax.set_xlabel(\"# chained FFLs\")\n",
    "simpleaxis(ax)\n",
    "f.legend(loc='upper right', ncols=1, bbox_to_anchor=(1.1, 1), frameon=False)\n",
    "plt.savefig('FFL-chains-C_elegans_randomized_edges.svg', transparent=True)\n",
    "plt.show()"
   ]
  },
  {
   "cell_type": "code",
   "execution_count": null,
   "metadata": {},
   "outputs": [],
   "source": [
    "motif_fractions = {}\n",
    "for mapping in mappings:\n",
    "    motif_fractions[mapping] = {}\n",
    "    for l in np.arange(1,max_chain_length+1):\n",
    "        motif_fractions[mapping][l] = np.array(num_graphs[mapping][l])/(np.array(num_graphs[mappings[0]][l]) + np.array(num_graphs[mappings[1]][l]))"
   ]
  },
  {
   "cell_type": "code",
   "execution_count": null,
   "metadata": {},
   "outputs": [],
   "source": [
    "ngraphs_mu.shape"
   ]
  },
  {
   "cell_type": "code",
   "execution_count": null,
   "metadata": {},
   "outputs": [],
   "source": [
    "colors = ['gray', 'purple']\n",
    "zscore_sig_thres = 2.58\n",
    "f, ax = plt.subplots(figsize=(2.5,2.5), layout='constrained')\n",
    "for m, mapping in enumerate(mappings):\n",
    "    ngraphs_mu = np.mean([motif_fractions[mapping][l] for l in np.arange(1,max_chain_length+1)], axis=1)\n",
    "    ngraphs_sigma = np.std([motif_fractions[mapping][l] for l in np.arange(1,max_chain_length+1)], axis=1)\n",
    "    \n",
    "    ax.errorbar(np.arange(1,max_chain_length+1), ngraphs_mu, yerr = ngraphs_sigma, color=colors[m], alpha=0.5, linestyle='--')\n",
    "    ax.scatter(np.arange(1,len(num_graphs[mapping])+1),motif_fractions_actual[mapping] , color=colors[m], label=mapping)\n",
    "    ax.plot(np.arange(1,len(num_graphs[mapping])+1),motif_fractions_actual[mapping] , color=colors[m])\n",
    "\n",
    "    zscore_sig = np.where(np.abs([(motif_fractions_actual[mapping][l-1]- ngraphs_mu[l-1])/ngraphs_sigma[l-1] for l in np.arange(1,max_chain_length+1)])>zscore_sig_thres)[0]\n",
    "    for x in zscore_sig:\n",
    "        ax.text(x=x+1, y=0.8, s=\"**\", color='k')\n",
    "\n",
    "    # ax.scatter(np.arange(1,len(num_graphs[mapping])+1), ngraphs_mu, color=colors[m], label=mapping)\n",
    "ax.set_xticks(np.arange(1,max_chain_length+1))\n",
    "ax.set_yticks((0,0.5,1))\n",
    "# ax.yaxis.major.formatter._useMathText = True\n",
    "ax.set_ylabel(\"Fraction subnetworks with motif\")\n",
    "ax.set_xlabel(\"# chained FFLs\")\n",
    "simpleaxis(ax)\n",
    "f.legend(loc='upper left', frameon=False, bbox_to_anchor=(0.15,1.05))\n",
    "plt.savefig('FFL-chains-C_elegans_randomized_actual_edges_fractions_new.svg', transparent=True)\n",
    "plt.show()"
   ]
  },
  {
   "cell_type": "code",
   "execution_count": null,
   "metadata": {},
   "outputs": [],
   "source": [
    "constraint = utils.nx.constraint(nn)"
   ]
  },
  {
   "cell_type": "code",
   "execution_count": null,
   "metadata": {},
   "outputs": [],
   "source": [
    "for nname, cons in sorted(constraint.items(), key=lambda x:x[1]):\n",
    "    print(nname.name, cons)"
   ]
  },
  {
   "cell_type": "code",
   "execution_count": null,
   "metadata": {},
   "outputs": [],
   "source": [
    "for mapping in mappings:\n",
    "    random_graph = [motif_fractions[mapping][l] for l in np.arange(1,max_chain_length+1)]\n",
    "    for l in np.arange(1,max_chain_length+1):\n",
    "        print(l, len(np.where(motif_fractions_actual[mapping][l-1]>random_graph[l-1])[0]))"
   ]
  },
  {
   "cell_type": "code",
   "execution_count": null,
   "metadata": {},
   "outputs": [],
   "source": [
    "piesize=0.08\n",
    "chain_length = 3\n",
    "for m, mapping in enumerate(mappings):\n",
    "    print(mapping)\n",
    "    hm = utils.make_hypermotifs(motif, 3, [mapping])\n",
    "    pos = utils.nx.kamada_kawai_layout(hm)\n",
    "    color_dict = {p:facecolors for p in pos.keys()}\n",
    "    alpha_dict = {p:1 for p in pos.keys()}\n",
    "    pie_division = {m: [np.mean([graph_specs[mapping][chain_length]['ntype'][j][m][n] for j in range(len(graph_specs[mapping][chain_length]['ntype']))]) for n in ntype] for m in hm.nodes}\n",
    "    f, ax = plt.subplots(figsize=(8,8))\n",
    "    utils.nx.draw_networkx_edges(hm, pos=pos, node_size=1200, connectionstyle='arc3', arrowstyle='->')\n",
    "    for n,p in pos.items():\n",
    "        utils.plot_pie(n=n, center=p, ax=ax, color_dict=color_dict, alpha_dict=alpha_dict, pie_division=pie_division[n], piesize=piesize)\n",
    "    # utils.nx.draw_networkx_labels(hm, pos=pos)\n",
    "    ax.set_xlim(-1, 1)\n",
    "    ax.set_ylim(-1, 1)\n",
    "    ax.set_aspect('equal')\n",
    "    ax.axis('off')  # Optionally turn off axis\n",
    "    plt.savefig(f'motif_ntype_division_{mapping}_randomized_ntypes.svg', transparent=True)\n"
   ]
  },
  {
   "cell_type": "code",
   "execution_count": null,
   "metadata": {},
   "outputs": [],
   "source": [
    "pres = []\n",
    "for e in nn2.edges:\n",
    "    e2 = (nn.neurons[e[0].name], nn.neurons[e[1].name], e[2])\n",
    "    if(e2 in nn.edges):\n",
    "        pres.append((e[0].name, e[1].name))\n",
    "print(len(pres))"
   ]
  },
  {
   "cell_type": "code",
   "execution_count": null,
   "metadata": {},
   "outputs": [],
   "source": [
    "actual = utils.nx.triadic_census(nn)\n",
    "num_g_act = [actual[t] for t in triad_motifs.keys()]"
   ]
  },
  {
   "cell_type": "markdown",
   "metadata": {},
   "source": [
    "## Randomizing by swapping edges"
   ]
  },
  {
   "cell_type": "code",
   "execution_count": null,
   "metadata": {},
   "outputs": [],
   "source": [
    "num_rands = 100\n",
    "num_g_ran_all = []\n",
    "for ni in range(num_rands):\n",
    "    nn2 = utils.randomize_graph(nn, seed=ni)\n",
    "    ran = utils.nx.triadic_census(nn2)\n",
    "    num_g_ran = [ran[t] for t in triad_motifs.keys()]\n",
    "    num_g_ran_all.append(num_g_ran)"
   ]
  },
  {
   "cell_type": "code",
   "execution_count": null,
   "metadata": {},
   "outputs": [],
   "source": [
    "f, ax = plt.subplots(figsize=(12,3))\n",
    "ax.scatter(list(triad_motifs.keys()), num_g_act, color='orange')\n",
    "ax.scatter(list(triad_motifs.keys()), np.mean(num_g_ran_all, axis=0), color='gray')\n",
    "ax.errorbar(list(triad_motifs.keys()), np.mean(num_g_ran_all, axis=0), yerr=np.std(num_g_ran_all, axis=0), color='gray', linestyle='None')\n",
    "ax.set_yscale('log')\n",
    "plt.show()"
   ]
  },
  {
   "cell_type": "markdown",
   "metadata": {},
   "source": [
    "## Randomizing by degree sequence"
   ]
  },
  {
   "cell_type": "code",
   "execution_count": null,
   "metadata": {},
   "outputs": [],
   "source": [
    "num_rands = 100\n",
    "num_g_ran_all = []\n",
    "for ni in range(num_rands):\n",
    "    nn2 = utils.randomize_graph(nn, seed=ni, mode='configuration-model')\n",
    "    ran = utils.nx.triadic_census(nn2)\n",
    "    num_g_ran = [ran[t] for t in triad_motifs.keys()]\n",
    "    num_g_ran_all.append(num_g_ran)"
   ]
  },
  {
   "cell_type": "code",
   "execution_count": null,
   "metadata": {},
   "outputs": [],
   "source": [
    "f, ax = plt.subplots(figsize=(12,3))\n",
    "ax.scatter(list(triad_motifs.keys()), num_g_act, color='orange')\n",
    "ax.scatter(list(triad_motifs.keys()), np.mean(num_g_ran_all, axis=0), color='gray')\n",
    "ax.errorbar(list(triad_motifs.keys()), np.mean(num_g_ran_all, axis=0), yerr=np.std(num_g_ran_all, axis=0), color='gray', linestyle='None')\n",
    "ax.set_yscale('log')\n",
    "plt.show()"
   ]
  },
  {
   "cell_type": "markdown",
   "metadata": {},
   "source": [
    "## Randomizing by number of nodes and edges."
   ]
  },
  {
   "cell_type": "code",
   "execution_count": null,
   "metadata": {},
   "outputs": [],
   "source": [
    "num_rands = 100\n",
    "num_g_ran_all = []\n",
    "for ni in range(num_rands):\n",
    "    nn2 = utils.randomize_graph(nn, seed=ni, mode='num-nodes-edges')\n",
    "    ran = utils.nx.triadic_census(nn2)\n",
    "    num_g_ran = [ran[t] for t in triad_motifs.keys()]\n",
    "    num_g_ran_all.append(num_g_ran)"
   ]
  },
  {
   "cell_type": "code",
   "execution_count": null,
   "metadata": {},
   "outputs": [],
   "source": [
    "f, ax = plt.subplots(figsize=(12,3))\n",
    "ax.scatter(list(triad_motifs.keys()), num_g_act, color='orange')\n",
    "ax.scatter(list(triad_motifs.keys()), np.mean(num_g_ran_all, axis=0), color='gray')\n",
    "ax.errorbar(list(triad_motifs.keys()), np.mean(num_g_ran_all, axis=0), yerr=np.std(num_g_ran_all, axis=0), color='gray', linestyle='None')\n",
    "ax.set_yscale('log')\n",
    "plt.show()"
   ]
  },
  {
   "cell_type": "code",
   "execution_count": null,
   "metadata": {},
   "outputs": [],
   "source": [
    "ntype = ['sensory', 'interneuron', 'motorneuron']\n",
    "ntype_pairs = set([tuple(sorted([nt1, nt2])) for nt1 in ntype for nt2 in ntype])\n",
    "colors= plt.cm.magma(np.linspace(0,1,len(ntype_pairs)))\n",
    "type_color_dict = {p:color for (p,color) in zip(ntype_pairs, colors)}"
   ]
  },
  {
   "cell_type": "code",
   "execution_count": null,
   "metadata": {},
   "outputs": [],
   "source": [
    "hm = utils.make_hypermotifs(motif, 1, [(1,1)])\n",
    "all_ffgs = nn.search_motifs(hm)"
   ]
  },
  {
   "cell_type": "code",
   "execution_count": null,
   "metadata": {},
   "outputs": [],
   "source": [
    "hm = utils.make_hypermotifs(motif, 3, [(3,1)])\n",
    "hm = utils.nx.relabel_nodes(hm, {'1.3-2.1':'2.1', '2.3-3.1':'3.1'})"
   ]
  },
  {
   "cell_type": "code",
   "execution_count": null,
   "metadata": {},
   "outputs": [],
   "source": [
    "all_ffgs = nn.search_motifs(hm)"
   ]
  },
  {
   "cell_type": "code",
   "execution_count": null,
   "metadata": {},
   "outputs": [],
   "source": [
    "conn_types = {n:0 for n in ntype_pairs}\n",
    "ntype_motif = {m:{n:0 for n in ntype} for m in hm.nodes}\n",
    "for sub in all_ffgs:\n",
    "    for motif_edge, network_edge in sub.items():\n",
    "        if all(n.type in ntype for n in network_edge):\n",
    "            for m,n in zip(motif_edge, network_edge):\n",
    "                ntype_motif[m][n.type] +=1\n",
    "            conn = tuple(sorted([network_edge[0].type, network_edge[1].type]))\n",
    "            conn_types[conn] +=1"
   ]
  },
  {
   "cell_type": "code",
   "execution_count": null,
   "metadata": {},
   "outputs": [],
   "source": [
    "pie_division = {m: [ntype_motif[m][n]/sum(ntype_motif[m].values()) for n in ntype] for m in hm.nodes}"
   ]
  },
  {
   "cell_type": "code",
   "execution_count": null,
   "metadata": {},
   "outputs": [],
   "source": [
    "piesize=0.09\n",
    "pos = utils.nx.kamada_kawai_layout(hm)\n",
    "color_dict = {p:facecolors for p in pos.keys()}\n",
    "alpha_dict = {p:1 for p in pos.keys()}\n",
    "\n",
    "f, ax = plt.subplots(figsize=(6,6), layout='constrained')\n",
    "utils.nx.draw_networkx_edges(hm, pos=pos, node_size=1200, connectionstyle='arc3', arrowstyle='->')\n",
    "for n,p in pos.items():\n",
    "    utils.plot_pie(n=n, center=p, ax=ax, color_dict=color_dict, alpha_dict=alpha_dict, pie_division=pie_division[n], piesize=piesize)\n",
    "# utils.nx.draw_networkx_labels(hm, pos=pos)\n",
    "ax.set_xlim(-1, 1)\n",
    "ax.set_ylim(-1, 1)\n",
    "ax.set_aspect('equal')\n",
    "ax.axis('off')  # Optionally turn off axis\n",
    "plt.savefig('motif_ntype_ffchain.svg', transparent=True)\n"
   ]
  },
  {
   "cell_type": "code",
   "execution_count": null,
   "metadata": {},
   "outputs": [],
   "source": [
    "utils.loadNeurotransmitters(nn)"
   ]
  },
  {
   "cell_type": "code",
   "execution_count": null,
   "metadata": {},
   "outputs": [],
   "source": [
    "conn_ligs = {}\n",
    "all_ntrs = []\n",
    "putative_lens = {}\n",
    "motif_conns = {}\n",
    "for sub in all_ffgs:\n",
    "    for motif_edge, network_edge in sub.items():\n",
    "        if not motif_edge in conn_ligs:\n",
    "            conn_ligs[motif_edge] = []\n",
    "            putative_lens[motif_edge] = []\n",
    "            motif_conns[motif_edge] = []\n",
    "        neuron_1, neuron_2 = network_edge[0], network_edge[1]\n",
    "        conns = nn.connections_between(neuron_1, neuron_2, directed=True)\n",
    "        for e, conn in conns.items():\n",
    "            if conn.connection_type=='chemical-synapse':\n",
    "                motif_conns[motif_edge].append(conn)\n",
    "                conn_edges = ['-'.join(k) for k in conn.putative_neurotrasmitter_receptors if (isinstance(k[0], str) and isinstance(k[1], str))]\n",
    "                putative_lens[motif_edge].append(len(conn_edges))\n",
    "                conn_ligs[motif_edge].append(conn_edges)\n",
    "                all_ntrs+= conn_edges"
   ]
  },
  {
   "cell_type": "code",
   "execution_count": null,
   "metadata": {},
   "outputs": [],
   "source": [
    "color_nt = {'Ach': 'lightgreen', 'Dop':'navy', 'Glu': 'darkorange', 'GAB': 'crimson', 'Ser': 'k'}\n",
    "all_labels = sorted(set(all_ntrs))\n",
    "color = [color_nt[m[:3]] for m in all_labels]\n",
    "fig, ax = plt.subplots(nrows=len(conn_ligs.keys()), sharex=True, sharey=True, figsize=(30,12), layout='constrained')\n",
    "for j,e in enumerate(sorted(conn_ligs.keys())):\n",
    "    nums = []\n",
    "    for k in all_labels:\n",
    "        nums.append(sum([1/len(conn_ligs[e][i]) if k in conn_ligs[e][i] else 0 for i in range(len(conn_ligs[e]))])/len(conn_ligs[e]))\n",
    "    ax[j].bar(all_labels, nums, color=color)\n",
    "    simpleaxis(ax[j])\n",
    "    ax[j].set_title(e, fontsize=\"xx-large\")\n",
    "    ax[j].set_yticks([0,0.1,0.2], labels=[0,0.1,0.2], fontsize=\"xx-large\")\n",
    "plt.xticks(rotation=45, ha='right', fontsize=\"xx-large\")\n",
    "fig.supylabel(\"Fraction of edges with predicted pair\", fontsize='xx-large')\n",
    "fig.supxlabel(\"Predicted neurotransmitter-receptor pair\", fontsize='xx-large')\n",
    "plt.savefig(\"Motif-FFLoop-3-chain.svg\", transparent=True)\n",
    "plt.show()\n",
    "plt.close()\n",
    "    # print(sum([1 if k in conn_ligs[e][i] else 0 for i in range(len(conn_ligs[e]))])/len(conn_ligs[e]))\n",
    "    # conn_ligs[e])\n",
    "# conn_ligs[motif_edge]"
   ]
  },
  {
   "cell_type": "code",
   "execution_count": null,
   "metadata": {},
   "outputs": [],
   "source": [
    "f, ax = plt.subplots(ncols=len(conn_ligs), figsize=(len(conn_ligs)*2, 2), sharex=True, sharey=True, layout='constrained')\n",
    "for i,k in enumerate(conn_ligs):\n",
    "    ax[i].hist(putative_lens[k], bins=np.arange(0,18,1), color='gray')\n",
    "    simpleaxis(ax[i])\n",
    "    ax[i].set_title(k)\n",
    "plt.show()"
   ]
  },
  {
   "cell_type": "code",
   "execution_count": null,
   "metadata": {},
   "outputs": [],
   "source": [
    "all_labels = sorted(set(all_ntrs))\n",
    "fig, ax = plt.subplots(nrows=len(conn_ligs.keys()), sharex=True, sharey=True, figsize=(21,9), layout='constrained')\n",
    "for j,edge in enumerate(conn_ligs.keys()):\n",
    "    c = Counter(conn_ligs[edge])\n",
    "    nums = [c[k]/putative_lens[edge] if k in c.keys() else 0 for k in all_labels ]\n",
    "    ax[j].bar(all_labels, nums, color='gray')\n",
    "    simpleaxis(ax[j])\n",
    "    ax[j].set_title(edge)\n",
    "plt.xticks(rotation=45, ha='right')\n",
    "# plt.savefig(\"Motif-FFChain.svg\")\n",
    "plt.show()\n",
    "plt.close()"
   ]
  },
  {
   "cell_type": "code",
   "execution_count": null,
   "metadata": {},
   "outputs": [],
   "source": [
    "int_conns = []\n",
    "for mconn in motif_conns.keys():\n",
    "    interesting_conns = [(c._id[0].name,c._id[1].name)  for c in motif_conns[mconn]]\n",
    "    utils.plot_layered(interesting_conns, nn, nodeColors={}, edgeColors='gray', title=mconn)\n",
    "    int_conns+=interesting_conns"
   ]
  },
  {
   "cell_type": "code",
   "execution_count": null,
   "metadata": {},
   "outputs": [],
   "source": [
    "all_conns= []\n",
    "for mconn in motif_conns.keys():\n",
    "    interesting_conns = ((c._id[0].name,c._id[1].name, c._id[2])  for c in motif_conns[mconn])\n",
    "    all_conns += interesting_conns"
   ]
  },
  {
   "cell_type": "code",
   "execution_count": null,
   "metadata": {},
   "outputs": [],
   "source": [
    "len(set(all_conns)) / len(nn.connections.items())"
   ]
  },
  {
   "cell_type": "code",
   "execution_count": null,
   "metadata": {},
   "outputs": [],
   "source": [
    "len(nn.connections.items()), len(set(all_conns))"
   ]
  },
  {
   "cell_type": "code",
   "execution_count": null,
   "metadata": {},
   "outputs": [],
   "source": [
    "by_category = {}\n",
    "for n in nn.neurons:\n",
    "    if not nn.neurons[n].category in by_category: \n",
    "        by_category[nn.neurons[n].category] = []\n",
    "    by_category[nn.neurons[n].category].append(n)"
   ]
  },
  {
   "cell_type": "code",
   "execution_count": null,
   "metadata": {},
   "outputs": [],
   "source": [
    "nn_cat = nn.fold_network(by_category, data='clean')"
   ]
  },
  {
   "cell_type": "code",
   "execution_count": null,
   "metadata": {},
   "outputs": [],
   "source": [
    "for e in nn_cat.edges:\n",
    "    print(e)"
   ]
  },
  {
   "cell_type": "code",
   "execution_count": null,
   "metadata": {},
   "outputs": [],
   "source": [
    "int_conns = []\n",
    "for mconn in motif_conns.keys():\n",
    "    interesting_conns = [(nn_cat.neurons[c._id[0].category], nn_cat.neurons[c._id[1].category],0)  for c in motif_conns[mconn]]\n",
    "    edge_color_dict = {eid:'k' if eid in interesting_conns else 'lightgray' for eid in nn_cat.edges}\n",
    "    fig_ent = utils.plot_shell(nn_cat, shells=[[], [nn_cat.neurons[n] for n in nn_cat.neurons]], figsize=(8,8),  width_logbase=2, edge_color_dict=edge_color_dict)\n",
    "    int_conns+=interesting_conns"
   ]
  },
  {
   "cell_type": "code",
   "execution_count": null,
   "metadata": {},
   "outputs": [],
   "source": [
    "nodelist = []\n",
    "for s in set(int_conns):\n",
    "    nodelist+= [*s]"
   ]
  },
  {
   "cell_type": "code",
   "execution_count": null,
   "metadata": {},
   "outputs": [],
   "source": [
    "len(set(nodelist))"
   ]
  },
  {
   "cell_type": "code",
   "execution_count": null,
   "metadata": {},
   "outputs": [],
   "source": [
    "utils.nx.triadic_census(nn)"
   ]
  },
  {
   "cell_type": "code",
   "execution_count": null,
   "metadata": {},
   "outputs": [],
   "source": [
    "sorted(motif.nodes) == [*range(1,len(motif.nodes)+1)]"
   ]
  },
  {
   "cell_type": "code",
   "execution_count": null,
   "metadata": {},
   "outputs": [],
   "source": [
    "sorted(motif.nodes), [*range(1,len(motif.nodes)+1)]"
   ]
  },
  {
   "cell_type": "code",
   "execution_count": null,
   "metadata": {},
   "outputs": [],
   "source": [
    "type(motif)"
   ]
  },
  {
   "cell_type": "code",
   "execution_count": null,
   "metadata": {},
   "outputs": [],
   "source": []
  }
 ],
 "metadata": {
  "language_info": {
   "name": "python"
  }
 },
 "nbformat": 4,
 "nbformat_minor": 2
}
