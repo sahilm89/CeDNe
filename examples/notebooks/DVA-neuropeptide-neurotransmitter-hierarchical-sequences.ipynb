{
 "cells": [
  {
   "cell_type": "code",
   "execution_count": null,
   "metadata": {},
   "outputs": [],
   "source": [
    "from cedne import utils\n",
    "import matplotlib.pyplot as plt\n",
    "from collections import Counter\n",
    "import numpy as np\n",
    "import copy\n",
    "import os\n",
    "from matplotlib.offsetbox import OffsetImage, AnnotationBbox\n",
    "import numpy as np\n",
    "from matplotlib.backends.backend_agg import FigureCanvasAgg as FigureCanvas\n",
    "from scipy.stats import norm\n",
    "from statsmodels.stats.multitest import multipletests"
   ]
  },
  {
   "cell_type": "code",
   "execution_count": null,
   "metadata": {},
   "outputs": [],
   "source": [
    "if not os.path.isdir(utils.OUTPUT_DIR):\n",
    "    os.makedirs(utils.OUTPUT_DIR)"
   ]
  },
  {
   "cell_type": "code",
   "execution_count": null,
   "metadata": {},
   "outputs": [],
   "source": [
    "ntype = ['sensory', 'interneuron', 'motorneuron']\n",
    "facecolors = ['#FF6F61', '#FFD700', '#4682B4']\n",
    "ntype_color = dict(zip(ntype, facecolors))\n",
    "ntype_pairs = [(nt1, nt2) for nt1 in ntype for nt2 in ntype]\n",
    "colors= plt.cm.magma(np.linspace(0,1,len(ntype_pairs)))\n",
    "type_color_dict = {p:color for (p,color) in zip(ntype_pairs, colors)}"
   ]
  },
  {
   "cell_type": "code",
   "execution_count": null,
   "metadata": {},
   "outputs": [],
   "source": [
    "w = utils.makeWorm(chem_only=True)\n",
    "nn = w.networks[\"Neutral\"]"
   ]
  },
  {
   "cell_type": "code",
   "execution_count": null,
   "metadata": {},
   "outputs": [],
   "source": [
    "triad_motifs = utils.return_triads()\n",
    "motif = triad_motifs['030T']\n",
    "motif = utils.nx.relabel_nodes(motif, {1:1, 2:3, 3:2})\n",
    "\n",
    "mapping = (3,1)\n",
    "chain_length = 3\n",
    "hseq = utils.make_hypermotifs(motif, chain_length, [mapping])\n",
    "hseq = utils.nx.convert_node_labels_to_integers(hseq, first_label=1, ordering='sorted', label_attribute='nodename')"
   ]
  },
  {
   "cell_type": "code",
   "execution_count": null,
   "metadata": {},
   "outputs": [],
   "source": [
    "all_ffgs = nn.search_motifs(hseq)"
   ]
  },
  {
   "cell_type": "code",
   "execution_count": null,
   "metadata": {},
   "outputs": [],
   "source": [
    "def return_motif_edgelabels(all_ffgs, hseq):    \n",
    "    mot_edgelabels = {node:[] for node in hseq}\n",
    "    for ffg in all_ffgs:\n",
    "        nodelist = {node:None for node in hseq}\n",
    "        for med, ned in ffg.items():\n",
    "            for m,n in zip(med, ned):\n",
    "                nodelist[m] = n.name\n",
    "        for node in nodelist:\n",
    "            mot_edgelabels[node].append(nodelist[node])\n",
    "\n",
    "    count_edgelabels = {node:[] for node in hseq}\n",
    "    for node in hseq:\n",
    "        count_edgelabels[node] = Counter(mot_edgelabels[node])\n",
    "    return mot_edgelabels, count_edgelabels"
   ]
  },
  {
   "cell_type": "code",
   "execution_count": null,
   "metadata": {},
   "outputs": [],
   "source": [
    "mot_edgelabels, count_edgelabels = return_motif_edgelabels(all_ffgs, hseq)"
   ]
  },
  {
   "cell_type": "code",
   "execution_count": null,
   "metadata": {},
   "outputs": [],
   "source": [
    "for e in sorted(mot_edgelabels):\n",
    "    p = len(set(mot_edgelabels[e]))/len(nn.nodes)\n",
    "    h = -p*np.log(p)\n",
    "    print(h)"
   ]
  },
  {
   "cell_type": "code",
   "execution_count": null,
   "metadata": {},
   "outputs": [],
   "source": [
    "ntype_color"
   ]
  },
  {
   "cell_type": "code",
   "execution_count": null,
   "metadata": {},
   "outputs": [],
   "source": [
    "from cedne.utils import OUTPUT_DIR\n",
    "\n",
    "\n",
    "f, ax = plt.subplots(nrows=len(count_edgelabels), figsize=(40,2*len(count_edgelabels)), layout='constrained', sharey=True)\n",
    "for n, d in sorted(count_edgelabels.items(), key=lambda x:x[0]):\n",
    "    name, height = zip(*[(name, height) for (name, height) in sorted(d.items(), key=lambda x:(ntype.index(nn.neurons[x[0]].type), x[0]))])\n",
    "    print(sorted(d.items(), key=lambda x:x[1], reverse=True))\n",
    "    print((d['AVAL'] + d['AVAR'] + d['AVBL'] + d['AVBR'] + d['AVDL'] + d['AVDR'] + d['AVEL'] + d['AVER'])/np.sum(height))\n",
    "    color = [ntype_color[nn.neurons[neuname].type] for neuname in name]\n",
    "    ax[n-1].bar(name, height/np.sum(height), color=color)\n",
    "    ax[n-1].set_xticks(range(len(name)), name, rotation=45, fontsize='xx-large')\n",
    "    for tick_label, c in zip(ax[n-1].get_xticklabels(), color):\n",
    "        tick_label.set_color(c)\n",
    "    ax[n-1].tick_params(axis='y', labelsize='xx-large')\n",
    "    utils.simpleaxis(ax[n-1])\n",
    "    ax[n-1].set_title(n, fontsize='xx-large')\n",
    "f.supylabel(\"Fraction of matched neurons for node\", fontsize='xx-large')\n",
    "f.supxlabel(\"Neuron name\", fontsize='xx-large')\n",
    "plt.savefig(OUTPUT_DIR + \"/HierarchicalSequence-neuronfractions.svg\", transparent=True)\n",
    "plt.show()"
   ]
  },
  {
   "cell_type": "code",
   "execution_count": null,
   "metadata": {},
   "outputs": [],
   "source": [
    "## Junction convergence: #connections are the same, but the # neurons are different in each layer"
   ]
  },
  {
   "cell_type": "code",
   "execution_count": null,
   "metadata": {},
   "outputs": [],
   "source": [
    "def convergence(layerCount):\n",
    "    #return (1./(len(layerCount))) * np.sum([np.square((count/np.sum(list(layerCount.values())))) for count in layerCount.values()])\n",
    "    #return np.mean([count/np.sum([v for v in layerCount.values()]) for count in layerCount.values()])\n",
    "\n",
    "    return np.mean([count/np.sum([v for v in layerCount.values()]) for count in layerCount.values()])\n",
    "    # H=0\n",
    "    # # Hmax = np.log(302)\n",
    "    # Hmax = 1\n",
    "    # sum_conns = np.sum([v for v in layerCount.values()])\n",
    "    # for count in layerCount.values():\n",
    "    #     p = count/sum_conns\n",
    "    #     H+= p*np.log(p)\n",
    "    # return -H/Hmax"
   ]
  },
  {
   "cell_type": "code",
   "execution_count": null,
   "metadata": {},
   "outputs": [],
   "source": [
    "real_convergence= np.array([convergence(count_edgelabels[k]) for k in range(1, len(hseq)+1)])\n",
    "f, ax = plt.subplots(figsize=(1.5, 1.5))\n",
    "ax.scatter(range(1, len(hseq)+1), real_convergence, color='k')\n",
    "ax.set_xlabel(\"Layer\")\n",
    "ax.set_ylabel(\"Convergence (nats)\")\n",
    "ax.set_xticks(range(1, len(hseq)+1))\n",
    "# ax.set_ylim((0,1))\n",
    "utils.simpleaxis(ax)\n",
    "plt.show()"
   ]
  },
  {
   "cell_type": "code",
   "execution_count": null,
   "metadata": {},
   "outputs": [],
   "source": [
    "count_edgelabels[1]"
   ]
  },
  {
   "cell_type": "code",
   "execution_count": null,
   "metadata": {},
   "outputs": [],
   "source": [
    "nrgraphs = 50\n",
    "rand_counts = []\n",
    "for g in range(nrgraphs):\n",
    "    nnr = utils.randomize_graph(nn)\n",
    "    rand_ffgs = nnr.search_motifs(hseq)\n",
    "    rand_mot_edgelabels, rand_count_edgelabels = return_motif_edgelabels(rand_ffgs, hseq)\n",
    "    rand_counts.append(rand_count_edgelabels)"
   ]
  },
  {
   "cell_type": "code",
   "execution_count": null,
   "metadata": {},
   "outputs": [],
   "source": [
    "rand_convergence = [[convergence(rand_count_edgelabels[k]) for k in range(1, len(hseq)+1)] for rand_count_edgelabels in rand_counts]\n",
    "rand_convergence = np.array(rand_convergence)"
   ]
  },
  {
   "cell_type": "code",
   "execution_count": null,
   "metadata": {},
   "outputs": [],
   "source": [
    "zscore_sig_thres = 2.58\n",
    "f, ax = plt.subplots(figsize=(1.5, 1.5))\n",
    "conv_mu = np.mean(rand_convergence, axis=0)\n",
    "conv_sigma = np.std(rand_convergence, axis=0)\n",
    "\n",
    "ax.scatter(range(1, len(hseq)+1), real_convergence-conv_mu, color='purple')\n",
    "# ax.errorbar(range(1, len(hseq)+1), conv_mu, yerr=conv_sigma, fmt= 'o', color='gray')\n",
    "\n",
    "# zscore_sig = np.where(np.abs([(real_convergence[l]-conv_mu[l])/conv_sigma[l] for l in np.arange(0,len(hseq))])>zscore_sig_thres)[0]\n",
    "# for x in zscore_sig:\n",
    "#     ax.text(x=x+0.6, y=0.02, s=\"**\", color='k')\n",
    "\n",
    "ax.set_xlabel(\"Layer\")\n",
    "ax.set_ylabel(\"Convergence\")\n",
    "ax.set_xticks(range(1, len(hseq)+1))\n",
    "ax.set_ylim((0,0.012))\n",
    "utils.simpleaxis(ax)\n",
    "plt.show()"
   ]
  },
  {
   "cell_type": "code",
   "execution_count": null,
   "metadata": {},
   "outputs": [],
   "source": [
    "sum([v for v in rand_counts[4][2].values()])"
   ]
  },
  {
   "cell_type": "code",
   "execution_count": null,
   "metadata": {},
   "outputs": [],
   "source": [
    "rand_counts[g][n]"
   ]
  },
  {
   "cell_type": "code",
   "execution_count": null,
   "metadata": {},
   "outputs": [],
   "source": [
    "for n in range(1,8):\n",
    "    for naam in name:\n",
    "        rand_height = np.array([rand_counts[g][n][naam] for g in range(nrgraphs)])\n",
    "        if naam not in rand_counts[0][n]:\n",
    "            print(naam, rand_counts[0][n][naam])"
   ]
  },
  {
   "cell_type": "code",
   "execution_count": null,
   "metadata": {},
   "outputs": [],
   "source": [
    "from cedne.utils import OUTPUT_DIR\n",
    "\n",
    "# zscore_sig_thres =  1.96 ## 1.96 for 95% confidence, 2.58 for 99% confidence, 3.29 for 99.9% confidence, 4.9 for 99.999999% confidence\n",
    "pval_thres = 0.05\n",
    "zscores = {}\n",
    "names = {}\n",
    "rand_by_layer_n = {n:[] for n in range(1, len(hseq)+1)}\n",
    "sig_neurs = []\n",
    "f, ax = plt.subplots(nrows=len(count_edgelabels), figsize=(36,2*len(count_edgelabels)), layout='compressed', sharey=True)\n",
    "for n, d in sorted(count_edgelabels.items(), key=lambda x:x[0]):\n",
    "    zscores[n] = []\n",
    "    name, height = zip(*[(name, height) for (name, height) in sorted(d.items(), key=lambda x:(ntype.index(nn.neurons[x[0]].type), x[0]))])\n",
    "    # print(sorted(d.items(), key=lambda x:x[1], reverse=True))\n",
    "    # print((d['AVAL'] + d['AVAR'] + d['AVBL'] + d['AVBR'] + d['AVDL'] + d['AVDR'] + d['AVEL'] + d['AVER'])/np.sum(height))\n",
    "    color = [ntype_color[nn.neurons[neuname].type] for neuname in name]\n",
    "    names[n] = name\n",
    "    norm_height = height/np.sum(height)\n",
    "    ax[n-1].bar(name, norm_height, color=color)\n",
    "    print(len(name), len(norm_height))\n",
    "    ax[n-1].set_xticks(range(len(name)), name, rotation=45, fontsize='xx-large', ha='center')\n",
    "    for tick_label, c in zip(ax[n-1].get_xticklabels(), color):\n",
    "        tick_label.set_color(c)\n",
    "    ax[n-1].tick_params(axis='y', labelsize='xx-large')\n",
    "    utils.simpleaxis(ax[n-1])\n",
    "    ax[n-1].set_title(n, fontsize='xx-large')\n",
    "\n",
    "    sum_heights = np.array([np.sum([v for v in rand_counts[g][n].values()]) for g in range(nrgraphs)])\n",
    "    zscore_sig = []\n",
    "    for i, naam in enumerate(name):\n",
    "        rand_height = np.array([rand_counts[g][n][naam] for g in range(nrgraphs)])\n",
    "        mu_rand = np.mean(rand_height/sum_heights)\n",
    "        sig_rand = np.std(rand_height/sum_heights)\n",
    "\n",
    "        # rand_by_layer_n[n].append(rand_height)\n",
    "        ax[n-1].scatter(i, mu_rand, color='gray', alpha=0.3)\n",
    "        ax[n-1].errorbar(i, mu_rand, yerr=sig_rand, color='k', alpha=0.3)#, s=5)\n",
    "\n",
    "        zscores[n].append((norm_height[i] - mu_rand)/sig_rand)\n",
    "        \n",
    "        # if ((norm_height[i] - mu_rand)/sig_rand) > zscore_sig_thres:\n",
    "        #     zscore_sig.append(i)\n",
    "        #     sig_neurs.append(naam)\n",
    "signames = []\n",
    "for n in sorted(zscores):\n",
    "    p_values_right = 1 - norm.cdf(zscores[n])\n",
    "    # _, p_bh_right, _, _ = multipletests(p_values_right, method='bonferroni')\n",
    "    _, p_bh_right, _, _ = multipletests(p_values_right, method='fdr_by')\n",
    "    zscore_sig = np.where(p_bh_right<pval_thres)[0]\n",
    "    \n",
    "    for x in zscore_sig:\n",
    "        ax[n-1].text(x=x, y=0.19, s=\"*\", color='k', ha='center')\n",
    "        signames.append(names[n][x])\n",
    "    print(n,zscore_sig)\n",
    "    ax[n-1].set_xlim((-1, len(zscores[n])+1))\n",
    "sig_neurs = set(sig_neurs)\n",
    "f.supylabel(\"Fraction of matched neurons for node\", fontsize='xx-large')\n",
    "f.supxlabel(\"Neuron name\", fontsize='xx-large')\n",
    "# plt.tight_layout()\n",
    "plt.savefig(OUTPUT_DIR + \"/HierarchicalSequence-neuronfractions-BY-correction-pval_0.05.svg\", transparent=True)\n",
    "plt.show()"
   ]
  },
  {
   "cell_type": "code",
   "execution_count": null,
   "metadata": {},
   "outputs": [],
   "source": [
    "set(signames)"
   ]
  },
  {
   "cell_type": "code",
   "execution_count": null,
   "metadata": {},
   "outputs": [],
   "source": [
    "zscore_sig_thres = 1.96 \n",
    "f, ax = plt.subplots(figsize=(1.5,1.5))\n",
    "ax.scatter(range(1, len(hseq)+1), real_convergence, color='purple')\n",
    "conv_mu = np.mean(rand_convergence, axis=0)\n",
    "conv_sigma = np.std(rand_convergence, axis=0)\n",
    "ax.errorbar(range(1, len(hseq)+1), conv_mu, yerr=conv_sigma, fmt= 'o', color='gray')\n",
    "\n",
    "zscore_sig = np.where(np.abs([(real_convergence[l]-conv_mu[l])/conv_sigma[l] for l in np.arange(0,len(hseq))])>zscore_sig_thres)[0]\n",
    "for x in zscore_sig:\n",
    "    ax.text(x=x+1, y=0.02, s=\"*\", color='k', ha='center')\n",
    "\n",
    "ax.set_xlabel(\"Layer\")\n",
    "ax.set_ylabel(\"Convergence\")\n",
    "ax.set_xticks(range(1, len(hseq)+1))\n",
    "ax.set_yticks([0,0.01,0.02])\n",
    "ax.set_ylim((0,0.02))\n",
    "utils.simpleaxis(ax)\n",
    "plt.savefig(OUTPUT_DIR + \"/HierarchicalSequence-convergence.svg\", transparent=True)\n",
    "plt.show()"
   ]
  },
  {
   "cell_type": "code",
   "execution_count": null,
   "metadata": {},
   "outputs": [],
   "source": [
    "zscore_sig_thres =  1.96 ## 1.96 for 95% confidence, 2.58 for 99% confidence, 3.29 for 99.9% confidence, 4.9 for 99.999999% confidence\n",
    "rand_by_layer_n = {n:[] for n in range(1, len(hseq)+1)}\n",
    "f, ax = plt.subplots(nrows=len(count_edgelabels), figsize=(36,2*len(count_edgelabels)), layout='compressed', sharey=True)\n",
    "for n, d in sorted(count_edgelabels.items(), key=lambda x:x[0]):\n",
    "    name, height = zip(*[(name, height) for (name, height) in sorted(d.items(), key=lambda x:(ntype.index(nn.neurons[x[0]].type), x[0]))])\n",
    "    print(sorted(d.items(), key=lambda x:x[1], reverse=True))\n",
    "    print((d['AVAL'] + d['AVAR'] + d['AVBL'] + d['AVBR'] + d['AVDL'] + d['AVDR'] + d['AVEL'] + d['AVER'])/np.sum(height))\n",
    "    color = [ntype_color[nn.neurons[neuname].type] for neuname in name]\n",
    "    norm_height = height/np.sum(height)\n",
    "    ax[n-1].bar(name, norm_height, color=color)\n",
    "    ax[n-1].set_xticks(range(len(name)), name, rotation=45, fontsize='xx-large', ha='center')\n",
    "    for tick_label, c in zip(ax[n-1].get_xticklabels(), color):\n",
    "        tick_label.set_color(c)\n",
    "    ax[n-1].tick_params(axis='y', labelsize='xx-large')\n",
    "    utils.simpleaxis(ax[n-1])\n",
    "    ax[n-1].set_title(n, fontsize='xx-large')\n",
    "\n",
    "    sum_heights = np.array([np.sum([v for v in rand_counts[g][n].values()]) for g in range(nrgraphs)])\n",
    "    zscore_sig = []\n",
    "    for i, naam in enumerate(name):\n",
    "        rand_height = np.array([rand_counts[g][n][naam] for g in range(nrgraphs)])\n",
    "        mu_rand = np.mean(rand_height/sum_heights)\n",
    "        sig_rand = np.std(rand_height/sum_heights)\n",
    "\n",
    "        # rand_by_layer_n[n].append(rand_height)\n",
    "        ax[n-1].scatter(i, mu_rand, color='gray', alpha=0.3)\n",
    "        ax[n-1].errorbar(i, mu_rand, yerr=sig_rand, color='k', alpha=0.3)#, s=5)\n",
    "        if ((norm_height[i] - mu_rand)/sig_rand) > zscore_sig_thres:\n",
    "            zscore_sig.append(i) \n",
    "    \n",
    "    for x in zscore_sig:\n",
    "        ax[n-1].text(x=x, y=0.19, s=\"*\", color='k', ha='center')\n",
    "    \n",
    "    ax[n-1].set_xlim((-1, len(name)+1))\n",
    "\n",
    "f.supylabel(\"Fraction of matched neurons for node\", fontsize='xx-large')\n",
    "f.supxlabel(\"Neuron name\", fontsize='xx-large')\n",
    "# plt.tight_layout()\n",
    "plt.savefig(OUTPUT_DIR + \"/HierarchicalSequence-neuronfractions.svg\", transparent=True)\n",
    "plt.show()"
   ]
  },
  {
   "cell_type": "code",
   "execution_count": null,
   "metadata": {},
   "outputs": [],
   "source": [
    "f, ax = plt.subplots(nrows=len(count_edgelabels), figsize=(40,2*len(count_edgelabels)), layout='constrained', sharey=True)\n",
    "for n, d in sorted(rand_counts[2].items(), key=lambda x:x[0]):\n",
    "    name, height = zip(*[(name, height) for (name, height) in sorted(d.items(), key=lambda x:(ntype.index(nn.neurons[x[0]].type), x[0]))])\n",
    "    print(sorted(d.items(), key=lambda x:x[1], reverse=True))\n",
    "    print((d['AVAL'] + d['AVAR'] + d['AVBL'] + d['AVBR'] + d['AVDL'] + d['AVDR'] + d['AVEL'] + d['AVER'])/np.sum(height))\n",
    "    color = [ntype_color[nn.neurons[neuname].type] for neuname in name]\n",
    "    ax[n-1].bar(name, height/np.sum(height), color=color)\n",
    "    ax[n-1].set_xticks(range(len(name)), name, rotation=45, fontsize='xx-large')\n",
    "    for tick_label, c in zip(ax[n-1].get_xticklabels(), color):\n",
    "        tick_label.set_color(c)\n",
    "    ax[n-1].tick_params(axis='y', labelsize='xx-large')\n",
    "    utils.simpleaxis(ax[n-1])\n",
    "    ax[n-1].set_title(hseq.nodes[n]['nodename'], fontsize='xx-large')\n",
    "f.supylabel(\"Fraction of matched neurons for node\", fontsize='xx-large')\n",
    "f.supxlabel(\"Neuron name\", fontsize='xx-large')\n",
    "# plt.savefig(OUTPUT_DIR + \"/HierarchicalSequence-neuronfractions.svg\", transparent=True)\n",
    "plt.show()"
   ]
  },
  {
   "cell_type": "code",
   "execution_count": null,
   "metadata": {},
   "outputs": [],
   "source": [
    "len(sig_neurs)"
   ]
  },
  {
   "cell_type": "code",
   "execution_count": null,
   "metadata": {},
   "outputs": [],
   "source": [
    "utils.loadNeuropeptides(nn)"
   ]
  },
  {
   "cell_type": "code",
   "execution_count": null,
   "metadata": {},
   "outputs": [],
   "source": [
    "conn_types_np = []\n",
    "n = 'DVA'\n",
    "for eid, conn in nn.neurons[n].get_connections(direction='both').items():\n",
    "    if not conn.connection_type in ['gap-junction', 'chemical-synapse']:\n",
    "        conn_types_np.append(conn.connection_type)\n",
    "conn_types_np = set(conn_types_np)"
   ]
  },
  {
   "cell_type": "code",
   "execution_count": null,
   "metadata": {},
   "outputs": [],
   "source": [
    "np_pre_post= {'pre':{}, 'post':{}}\n",
    "for n in nn.neurons:\n",
    "    for eid, conn in nn.neurons[n].get_connections(direction='both').items():\n",
    "        if not conn.connection_type in ['gap-junction', 'chemical-synapse']:\n",
    "            # if conn.connection_type in conn_types_np:\n",
    "                if not conn.connection_type in np_pre_post['pre']:\n",
    "                    np_pre_post['pre'][conn.connection_type] = []\n",
    "                    np_pre_post['post'][conn.connection_type] = []\n",
    "                np_pre_post['pre'][conn.connection_type].append(conn.pre.name)\n",
    "                np_pre_post['post'][conn.connection_type].append(conn.post.name)"
   ]
  },
  {
   "cell_type": "code",
   "execution_count": null,
   "metadata": {},
   "outputs": [],
   "source": [
    "for conn in conn_types_np:\n",
    "    print(conn)\n",
    "    print(len(Counter(np_pre_post['pre'][conn])), Counter(np_pre_post['pre'][conn]))\n",
    "    print(len(Counter(np_pre_post['post'][conn])), Counter(np_pre_post['post'][conn]))"
   ]
  },
  {
   "cell_type": "code",
   "execution_count": null,
   "metadata": {},
   "outputs": [],
   "source": [
    "conn1, conn2, conn3 = 'NLP_12_CKR_1', 'NLP_12_CKR_2', 'NTC_1_NTR_1'\n",
    "print(len(set(np_pre_post['post'][conn1])), set(np_pre_post['post'][conn1]).intersection(set(np_pre_post['post'][conn3])))"
   ]
  },
  {
   "cell_type": "code",
   "execution_count": null,
   "metadata": {},
   "outputs": [],
   "source": [
    "nlp-12; ckr-1, ckr-2"
   ]
  },
  {
   "cell_type": "code",
   "execution_count": null,
   "metadata": {},
   "outputs": [],
   "source": [
    "by_np = {}\n",
    "for eid, conn in nn.neurons['DVA'].get_connections(direction='both').items():\n",
    "    if not conn.connection_type in ['gap-junction', 'chemical-synapse']:\n",
    "        if not conn.connection_type in by_np:\n",
    "            by_np[conn.connection_type] = []\n",
    "        by_np[conn.connection_type]+= [conn.pre, conn.post]"
   ]
  },
  {
   "cell_type": "code",
   "execution_count": null,
   "metadata": {},
   "outputs": [],
   "source": [
    "pre_n = {n:0 for n in nn.neurons}\n",
    "post_n = {n:0 for n in nn.neurons}\n",
    "for n in nn.neurons:\n",
    "    for npep in np_pre_post['pre']:\n",
    "        if n in np_pre_post['pre'][npep]:\n",
    "            pre_n[n]+=1\n",
    "        if n in np_pre_post['post'][npep]:\n",
    "            post_n[n]+=1"
   ]
  },
  {
   "cell_type": "code",
   "execution_count": null,
   "metadata": {},
   "outputs": [],
   "source": [
    "f, ax = plt.subplots(figsize=(2,2))\n",
    "for n in nn.neurons:\n",
    "    [post_n[n] if n not in sig_neurs]\n",
    "        ax.hist(, color='gray')\n",
    "    else:\n",
    "        ax.hist(post_n, color='purple')\n",
    "    # ax.scatter(pre_n[n], post_n[n], color='purple' if n in sig_neurs else 'gray')\n",
    "utils.simpleaxis(ax)\n",
    "plt.show()"
   ]
  },
  {
   "cell_type": "code",
   "execution_count": null,
   "metadata": {},
   "outputs": [],
   "source": [
    "by_n = {\"pre\":[], \"post\":[]}\n",
    "for n in nn.neurons:\n",
    "    for cid, conn in nn.neurons[n].get_connections(direction='both').items():\n",
    "        if not conn.connection_type in ['gap-junction', 'chemical-synapse']:\n",
    "            conn.post\n",
    "            print(conn.pre conn.connection_type)"
   ]
  },
  {
   "cell_type": "code",
   "execution_count": null,
   "metadata": {},
   "outputs": [],
   "source": [
    "ha_by_n = {}\n",
    "np_by_n = {}\n",
    "num_conns = {}\n",
    "for n in nn.neurons:\n",
    "    num_conns[n] = 0\n",
    "    ha_by_n[n] =[]\n",
    "    np_by_n[n] = []\n",
    "    conn_nps = {}\n",
    "    for j, (conn_id, conn) in enumerate(nn.neurons[n].get_connections(direction='both').items()):\n",
    "        if not conn.connection_type == 'chemical-synapse':\n",
    "            if not conn.connection_type in conn_nps:\n",
    "                conn_nps[conn.connection_type] = []\n",
    "            conn_nps[conn.connection_type].append((conn_id[0], conn_id[1]))\n",
    "            num_conns[n]+=1\n",
    "\n",
    "    for neup, conns in conn_nps.items():\n",
    "        ha_by_n[n].append(utils.hierarchical_alignment(conns))\n",
    "        np_by_n[n].append(neup)"
   ]
  },
  {
   "cell_type": "code",
   "execution_count": null,
   "metadata": {},
   "outputs": [],
   "source": [
    "f, ax = plt.subplots(figsize=(150,1), ncols=len(nn.neurons), sharey=True, layout='constrained')\n",
    "for i, (n,v) in enumerate(sorted(num_conns.items(), key=lambda x:x[1])):\n",
    "    ax[i].scatter(range(len(ha_by_n[n])), ha_by_n[n], color='k')\n",
    "    utils.simpleaxis(ax[i])\n",
    "    ax[i].set_xticks([])\n",
    "    ax[i].set_title(n)\n",
    "plt.show()"
   ]
  },
  {
   "cell_type": "code",
   "execution_count": null,
   "metadata": {},
   "outputs": [],
   "source": [
    "for np, ha in zip(np_by_n['DVA'], ha_by_n['DVA']):\n",
    "    print(np, ha)"
   ]
  },
  {
   "cell_type": "code",
   "execution_count": null,
   "metadata": {},
   "outputs": [],
   "source": [
    "neu_interest = 'RMHL'\n",
    "f, ax = plt.subplots(figsize=(1.5,1.5), layout='constrained')\n",
    "xlabels = []\n",
    "nodewise_out = {node:0 for node in mot_edgelabels}\n",
    "nodewise_in = {node:0 for node in mot_edgelabels}\n",
    "\n",
    "nodewise_out_chem = {node:0 for node in mot_edgelabels}\n",
    "nodewise_in_chem = {node:0 for node in mot_edgelabels}\n",
    "\n",
    "for j, (conn_id, conn) in enumerate(nn.neurons[neu_interest].get_connections(direction='out').items()):\n",
    "    if not conn.connection_type == 'chemical-synapse':\n",
    "        conn_nodes= [node for node in mot_edgelabels if conn_id[1].name in mot_edgelabels[node]]\n",
    "        for node in mot_edgelabels:\n",
    "            if node in conn_nodes:\n",
    "                nodewise_out[node]+=1\n",
    "    else:\n",
    "        conn_nodes= [node for node in mot_edgelabels if conn_id[1].name in mot_edgelabels[node]]\n",
    "        for node in mot_edgelabels:\n",
    "            if node in conn_nodes:\n",
    "                nodewise_out_chem[node]+=1\n",
    "\n",
    "        # ax[0].scatter([j]*len(conn_nodes), conn_nodes)#,  conn.connection_type)\n",
    "        # xlabels.append(conn_id[1].name)\n",
    "# ax[0].set_xticks(range(len(xlabels)), xlabels)\n",
    "\n",
    "xlabels = []\n",
    "for j, (conn_id, conn) in enumerate(nn.neurons[neu_interest].get_connections(direction='in').items()):\n",
    "    if not conn.connection_type == 'chemical-synapse':\n",
    "        conn_nodes= [node for node in mot_edgelabels if conn_id[0].name in mot_edgelabels[node]]\n",
    "        for node in mot_edgelabels:\n",
    "            if node in conn_nodes:\n",
    "                nodewise_in[node]+=1\n",
    "    else:\n",
    "        conn_nodes= [node for node in mot_edgelabels if conn_id[0].name in mot_edgelabels[node]]\n",
    "        for node in mot_edgelabels:\n",
    "            if node in conn_nodes:\n",
    "                nodewise_in_chem[node]+=1\n",
    "#         ax[1].scatter([j]*len(conn_nodes), conn_nodes)#,  conn.connection_type)\n",
    "#         xlabels.append(conn_id[0].name)\n",
    "# ax[1].set_xticks(range(len(xlabels)), xlabels)\n",
    "\n",
    "ax.scatter(sorted(nodewise_out.keys()), [nodewise_out[node]/np.sum(list(nodewise_out.values())) for node in sorted(nodewise_out.keys())], label='out', color='orange')\n",
    "ax.scatter(sorted(nodewise_in.keys()), [nodewise_in[node]/np.sum(list(nodewise_in.values())) for node in sorted(nodewise_in.keys())], label='in', color='purple')\n",
    "utils.simpleaxis(ax)\n",
    "ax.set_ylim((0,0.2))\n",
    "ax.set_xticks(sorted(nodewise_out.keys()))\n",
    "# f.legend(loc='outside upper right')\n",
    "plt.show()\n",
    "# conn_id[0].name, sorted([node for node in mot_edgelabels if conn_id[0].name in mot_edgelabels[node]])"
   ]
  },
  {
   "cell_type": "code",
   "execution_count": null,
   "metadata": {},
   "outputs": [],
   "source": [
    "import scipy.stats as ss\n",
    "f, ax = plt.subplots(figsize=(5,5), layout='constrained')\n",
    "cm = plt.cm.viridis(np.linspace(0,1,len(hseq.nodes)))\n",
    "colors = {n: cm[j] for (j, n) in enumerate(sorted(hseq.nodes))}\n",
    "x,y = [], []\n",
    "for node in nodewise_in:\n",
    "    ax.scatter([nodewise_in[node]/np.sum(list(nodewise_in.values())) for node in sorted(nodewise_in.keys())], [nodewise_in_chem[node]/np.sum(list(nodewise_in_chem.values())) for node in sorted(nodewise_in_chem.keys())], marker='s', color=[colors[node] for node in sorted(nodewise_in_chem.keys())], label=sorted(nodewise_in_chem.keys()))\n",
    "    ax.scatter([nodewise_out[node]/np.sum(list(nodewise_out.values())) for node in sorted(nodewise_out.keys())], [nodewise_out_chem[node]/np.sum(list(nodewise_out_chem.values())) for node in sorted(nodewise_out_chem.keys())], marker='o' , color=[colors[node] for node in sorted(nodewise_out_chem.keys())])\n",
    "    x+= [nodewise_in[node]/np.sum(list(nodewise_in.values())) for node in sorted(nodewise_in.keys())]\n",
    "    x+= [nodewise_out[node]/np.sum(list(nodewise_out.values())) for node in sorted(nodewise_out.keys())]\n",
    "    y+=[nodewise_in_chem[node]/np.sum(list(nodewise_in_chem.values())) for node in sorted(nodewise_in_chem.keys())]\n",
    "    y+=[nodewise_out_chem[node]/np.sum(list(nodewise_out_chem.values())) for node in sorted(nodewise_out_chem.keys())]\n",
    "    utils.simpleaxis(ax)\n",
    "\n",
    "result= ss.linregress(x,y)\n",
    "\n",
    "xfit = np.linspace(0, 0.25, 100)\n",
    "yfit = result.slope*xfit + result.intercept\n",
    "\n",
    "# ax.plot([0,1], [0,1], 'k--')\n",
    "ax.plot(xfit, yfit, 'r--')\n",
    "ax.set_xlim((0.0,0.25))\n",
    "ax.set_ylim((0.0,0.25))\n",
    "ax.set_xticks([0, 0.1, 0.2])\n",
    "ax.set_yticks([0, 0.1, 0.2])\n",
    "f.supxlabel(\"Frac. Neuropeptide connections with node\")\n",
    "f.supylabel(\"Frac. Chemical synapses with node\")\n",
    "# plt.legend()\n",
    "plt.show()"
   ]
  },
  {
   "cell_type": "code",
   "execution_count": null,
   "metadata": {},
   "outputs": [],
   "source": [
    "result.slope, result.intercept, result.rvalue**2"
   ]
  },
  {
   "cell_type": "code",
   "execution_count": null,
   "metadata": {},
   "outputs": [],
   "source": [
    "nodewise_in.values()"
   ]
  },
  {
   "cell_type": "code",
   "execution_count": null,
   "metadata": {},
   "outputs": [],
   "source": [
    "all_seqha_neurons = list(set([neu for name_counts in count_edgelabels.values() for neu in name_counts.keys()]))\n",
    "print(len(all_seqha_neurons))"
   ]
  },
  {
   "cell_type": "code",
   "execution_count": null,
   "metadata": {},
   "outputs": [],
   "source": [
    "rsq_fit = {}\n",
    "for n in all_seqha_neurons:\n",
    "    nodewise_out = {node:0 for node in mot_edgelabels}\n",
    "    nodewise_in = {node:0 for node in mot_edgelabels}\n",
    "\n",
    "    nodewise_out_chem = {node:0 for node in mot_edgelabels}\n",
    "    nodewise_in_chem = {node:0 for node in mot_edgelabels}\n",
    "\n",
    "    for j, (conn_id, conn) in enumerate(nn.neurons[n].get_connections(direction='out').items()):\n",
    "        if not conn.connection_type == 'chemical-synapse':\n",
    "            conn_nodes= [node for node in mot_edgelabels if conn_id[1].name in mot_edgelabels[node]]\n",
    "            for node in mot_edgelabels:\n",
    "                if node in conn_nodes:\n",
    "                    nodewise_out[node]+=1\n",
    "        else:\n",
    "            conn_nodes= [node for node in mot_edgelabels if conn_id[1].name in mot_edgelabels[node]]\n",
    "            for node in mot_edgelabels:\n",
    "                if node in conn_nodes:\n",
    "                    nodewise_out_chem[node]+=1\n",
    "\n",
    "            # ax[0].scatter([j]*len(conn_nodes), conn_nodes)#,  conn.connection_type)\n",
    "            # xlabels.append(conn_id[1].name)\n",
    "    # ax[0].set_xticks(range(len(xlabels)), xlabels)\n",
    "\n",
    "    xlabels = []\n",
    "    for j, (conn_id, conn) in enumerate(nn.neurons[n].get_connections(direction='in').items()):\n",
    "        if not conn.connection_type == 'chemical-synapse':\n",
    "            conn_nodes= [node for node in mot_edgelabels if conn_id[0].name in mot_edgelabels[node]]\n",
    "            for node in mot_edgelabels:\n",
    "                if node in conn_nodes:\n",
    "                    nodewise_in[node]+=1\n",
    "        else:\n",
    "            conn_nodes= [node for node in mot_edgelabels if conn_id[0].name in mot_edgelabels[node]]\n",
    "            for node in mot_edgelabels:\n",
    "                if node in conn_nodes:\n",
    "                    nodewise_in_chem[node]+=1\n",
    "\n",
    "    x,y = [], []\n",
    "    for node in nodewise_in:\n",
    "        x+= [nodewise_in[node]/np.sum(list(nodewise_in.values())) for node in sorted(nodewise_in.keys())]\n",
    "        x+= [nodewise_out[node]/np.sum(list(nodewise_out.values())) for node in sorted(nodewise_out.keys())]\n",
    "        y+=[nodewise_in_chem[node]/np.sum(list(nodewise_in_chem.values())) for node in sorted(nodewise_in_chem.keys())]\n",
    "        y+=[nodewise_out_chem[node]/np.sum(list(nodewise_out_chem.values())) for node in sorted(nodewise_out_chem.keys())]\n",
    "\n",
    "    result= ss.linregress(x,y)\n",
    "    rsq_fit[n] = result.rvalue**2\n"
   ]
  },
  {
   "cell_type": "code",
   "execution_count": null,
   "metadata": {},
   "outputs": [],
   "source": [
    "rsq_fit_nanfilt = {k:v for k,v in rsq_fit.items() if not np.isnan(v) and k in sig_neurs}"
   ]
  },
  {
   "cell_type": "code",
   "execution_count": null,
   "metadata": {},
   "outputs": [],
   "source": [
    "n, rsq = zip(*list(sorted(rsq_fit_nanfilt.items(), key=lambda x:x[1], reverse=True)))\n",
    "f, ax = plt.subplots(figsize=(40,1.5))\n",
    "ax.scatter(range(len(rsq)), rsq, color='purple')\n",
    "ax.set_xlabel(\"Neuron\")\n",
    "ax.set_ylabel(\"R^2\")\n",
    "ax.set_xticks(range(len(n)), n, rotation=45, fontsize='xx-large')\n",
    "ax.set_ylim((0,1))\n",
    "utils.simpleaxis(ax)\n",
    "plt.show()\n"
   ]
  },
  {
   "cell_type": "code",
   "execution_count": null,
   "metadata": {},
   "outputs": [],
   "source": [
    "rsq_fit_nanfilt, ha_by_n_seqha = [], []\n",
    "for k, v in rsq_fit.items():\n",
    "    if not np.isnan(v):\n",
    "        rsq_fit_nanfilt.append(v)\n",
    "        ha_by_n_seqha.append(np.mean(np.abs(ha_by_n[k])))\n",
    "        if k == 'DVA':\n",
    "            print(k, np.mean(np.abs(ha_by_n[k])), v)\n",
    "plt.scatter(ha_by_n_seqha, rsq_fit_nanfilt)\n",
    "plt.show()"
   ]
  },
  {
   "cell_type": "code",
   "execution_count": null,
   "metadata": {},
   "outputs": [],
   "source": [
    "common_conns_in = {}\n",
    "common_conns_out = {}\n",
    "for neu_interest in all_seqha_neurons:\n",
    "    xlabels = []\n",
    "    nodewise_out = {node:[] for node in mot_edgelabels}\n",
    "    nodewise_in = {node:[] for node in mot_edgelabels}\n",
    "\n",
    "    nodewise_out_chem = {node:[] for node in mot_edgelabels}\n",
    "    nodewise_in_chem = {node:[] for node in mot_edgelabels}\n",
    "\n",
    "    for j, (conn_id, conn) in enumerate(nn.neurons[neu_interest].get_connections(direction='out').items()):\n",
    "        if not conn.connection_type == 'chemical-synapse':\n",
    "            conn_nodes= [node for node in mot_edgelabels if conn_id[1].name in mot_edgelabels[node]]\n",
    "            for node in mot_edgelabels:\n",
    "                if node in conn_nodes:\n",
    "                    nodewise_out[node].append(conn_id[1].name)\n",
    "        else:\n",
    "            conn_nodes= [node for node in mot_edgelabels if conn_id[1].name in mot_edgelabels[node]]\n",
    "            for node in mot_edgelabels:\n",
    "                if node in conn_nodes:\n",
    "                    nodewise_out_chem[node].append(conn_id[1].name)\n",
    "\n",
    "            # ax[0].scatter([j]*len(conn_nodes), conn_nodes)#,  conn.connection_type)\n",
    "            # xlabels.append(conn_id[1].name)\n",
    "    # ax[0].set_xticks(range(len(xlabels)), xlabels)\n",
    "\n",
    "    xlabels = []\n",
    "    for j, (conn_id, conn) in enumerate(nn.neurons[neu_interest].get_connections(direction='in').items()):\n",
    "        if not conn.connection_type == 'chemical-synapse':\n",
    "            conn_nodes= [node for node in mot_edgelabels if conn_id[0].name in mot_edgelabels[node]]\n",
    "            for node in mot_edgelabels:\n",
    "                if node in conn_nodes:\n",
    "                    nodewise_in[node].append(conn_id[0].name)\n",
    "        else:\n",
    "            conn_nodes= [node for node in mot_edgelabels if conn_id[0].name in mot_edgelabels[node]]\n",
    "            for node in mot_edgelabels:\n",
    "                if node in conn_nodes:\n",
    "                    nodewise_in_chem[node].append(conn_id[0].name)\n",
    "    #         ax[1].scatter([j]*len(conn_nodes), conn_nodes)#,  conn.connection_type)\n",
    "    #         xlabels.append(conn_id[0].name)\n",
    "    # ax[1].set_xticks(range(len(xlabels)), xlabels)\n",
    "\n",
    "    nodewise_in = {node: set(nodewise_in[node]) for node in nodewise_in}\n",
    "    nodewise_out = {node: set(nodewise_out[node]) for node in nodewise_out}\n",
    "    nodewise_in_chem = {node: set(nodewise_in_chem[node]) for node in nodewise_in_chem}\n",
    "    nodewise_out_chem = {node: set(nodewise_out_chem[node]) for node in nodewise_out_chem}\n",
    "    common_conns_in[neu_interest] = np.mean([len(nodewise_in[node].intersection(nodewise_in_chem[node]))/len(nodewise_in_chem[node]) for node in nodewise_in if len(nodewise_in_chem[node])>0])\n",
    "    common_conns_out[neu_interest] = np.mean([len(nodewise_out[node].intersection(nodewise_out_chem[node]))/len(nodewise_out_chem[node]) for node in nodewise_out if len(nodewise_out_chem[node])>0])"
   ]
  },
  {
   "cell_type": "code",
   "execution_count": null,
   "metadata": {},
   "outputs": [],
   "source": [
    "neus, vals = zip(* sorted([(k,v) for k,v in common_conns_out.items()if not np.isnan(v)], key=lambda x:x[1], reverse=True))\n",
    "cols = ['purple' if n in ['DVA'] else 'gray' for n in neus]\n",
    "f, ax = plt.subplots(figsize=(80,1.5))\n",
    "ax.scatter(range(len(neus)), vals, color=cols)\n",
    "ax.set_xlabel(\"Neuron\")\n",
    "ax.set_ylabel(\"Common connections\")\n",
    "ax.set_xticks(range(len(neus)), neus, rotation=45, fontsize='xx-large')\n",
    "# ax.set_ylim((0,1))\n",
    "utils.simpleaxis(ax)\n",
    "plt.show()"
   ]
  },
  {
   "cell_type": "code",
   "execution_count": null,
   "metadata": {},
   "outputs": [],
   "source": [
    "total_conns = {n:0 for n in all_seqha_neurons}\n",
    "for n in all_seqha_neurons:\n",
    "    for j, (conn_id, conn) in enumerate(nn.neurons[n].get_connections(direction='both').items()):\n",
    "        if not conn.connection_type == 'chemical-synapse' or conn.connection_type == 'gap-junction':\n",
    "            total_conns[n]+=1"
   ]
  },
  {
   "cell_type": "code",
   "execution_count": null,
   "metadata": {},
   "outputs": [],
   "source": [
    "f, ax = plt.subplots(figsize=(80,1.5))\n",
    "ax.scatter(range(len(total_conns)), [v for n,v in sorted(total_conns.items(), key=lambda x:x[1])], color='purple')\n",
    "ax.set_xlabel(\"Neuron\")\n",
    "ax.set_ylabel(\"Total connections\")\n",
    "ax.set_xticks(range(len(total_conns)), [n for n,v in sorted(total_conns.items(), key=lambda x:x[1])], rotation=45, fontsize='xx-large')\n",
    "plt.show()"
   ]
  },
  {
   "cell_type": "code",
   "execution_count": null,
   "metadata": {},
   "outputs": [],
   "source": []
  },
  {
   "cell_type": "code",
   "execution_count": null,
   "metadata": {},
   "outputs": [],
   "source": [
    "n, rsq = zip(*list(sorted(rsq_fit_nanfilt.items(), key=lambda x:x[1], reverse=True)))\n",
    "f, ax = plt.subplots(figsize=(40,1.5))\n",
    "ax.scatter(range(len(rsq)), rsq, color='purple')\n",
    "ax.set_xlabel(\"Neuron\")\n",
    "ax.set_ylabel(\"R^2\")\n",
    "ax.set_xticks(range(len(n)), n, rotation=45, fontsize='xx-large')\n",
    "ax.set_ylim((0,1))\n",
    "utils.simpleaxis(ax)\n",
    "plt.show()"
   ]
  },
  {
   "cell_type": "code",
   "execution_count": null,
   "metadata": {},
   "outputs": [],
   "source": [
    "\n",
    "f, ax = plt.subplots(figsize=(1.5,1.5))\n",
    "for node in nodewise_in:\n",
    "    ax.scatter([(nodewise_in[node]+ nodewise_out[node])/(np.sum(list(nodewise_in.values())) + np.sum(list(nodewise_out.values()))) for node in sorted(nodewise_in.keys())],[(nodewise_in_chem[node]+ nodewise_out_chem[node])/(np.sum(list(nodewise_in_chem.values())) + np.sum(list(nodewise_out_chem.values()))) for node in sorted(nodewise_in_chem.keys())],  color='k')\n",
    "    utils.simpleaxis(ax)\n",
    "ax.set_xlim((0,0.2))\n",
    "plt.show()"
   ]
  },
  {
   "cell_type": "code",
   "execution_count": null,
   "metadata": {},
   "outputs": [],
   "source": [
    "npcount = {}\n",
    "for n in nn.neurons:\n",
    "    npcount[n] = 0\n",
    "    for (conn_id, conn) in nn.neurons[n].get_connections().items():\n",
    "        if not conn.connection_type == 'chemical-synapse':\n",
    "            npcount[n] +=1#conn_id[0].name, conn_id[1].name, conn.connection_type)"
   ]
  },
  {
   "cell_type": "code",
   "execution_count": null,
   "metadata": {},
   "outputs": [],
   "source": [
    "print(sorted(npcount.items(), key=lambda x:x[1], reverse=True))"
   ]
  },
  {
   "cell_type": "code",
   "execution_count": null,
   "metadata": {},
   "outputs": [],
   "source": [
    "## Pooling\n",
    "num_graphs = {}\n",
    "hseq = utils.nx.convert_node_labels_to_integers(hseq, first_label=1, ordering='sorted', label_attribute='nodename')\n",
    "utils.nx.draw(hseq, with_labels=True)\n",
    "mappings = [(n,n) for n in sorted(hseq.nodes)]\n",
    "max_chain_length = 6\n",
    "\n",
    "for mapping in mappings:\n",
    "    num_graphs[mapping] = []\n",
    "    for l in range(2,max_chain_length+1):\n",
    "        hm = utils.make_hypermotifs(hseq, l, [mapping])\n",
    "        all_pooled_hseqs = nn.search_motifs(hm)\n",
    "        num_graphs[mapping].append(len(all_pooled_hseqs))"
   ]
  },
  {
   "cell_type": "code",
   "execution_count": null,
   "metadata": {},
   "outputs": [],
   "source": [
    "num_graphs"
   ]
  },
  {
   "cell_type": "code",
   "execution_count": null,
   "metadata": {},
   "outputs": [],
   "source": [
    "colors = ['blue', 'gray']\n",
    "f, ax = plt.subplots(figsize=(2.5,2.5), layout='constrained')\n",
    "for m, mapping in enumerate(mappings):\n",
    "    ax.scatter(np.arange(1,max_chain_length), num_graphs[mapping], color=colors[m], label=mapping)\n",
    "    # ax.scatter(np.arange(1,len(num_graphs[mapping])+1), num_graphs[mapping], color='blue')\n",
    "ax.set_xticks(np.arange(1,max_chain_length+1))\n",
    "ax.set_yticks((0,5000,10000), ('0','5k','10k'))\n",
    "# ax.yaxis.major.formatter._useMathText = True\n",
    "ax.set_ylabel(\"# Networks\")\n",
    "ax.set_xlabel(\"# chained FFLs\")\n",
    "utils.simpleaxis(ax)\n",
    "f.legend(loc='upper right', ncols=1, bbox_to_anchor=(1.1, 1))\n",
    "# plt.savefig('FFL-chains-C_elegans.svg')\n",
    "plt.show()"
   ]
  },
  {
   "cell_type": "code",
   "execution_count": null,
   "metadata": {},
   "outputs": [],
   "source": [
    "mappings = [(1,1), (2,2), (3,3)]\n",
    "num_graphs = {}\n",
    "conn_types = {}\n",
    "ntype_motif = {}\n",
    "max_chain_length = 6\n",
    "for mapping in mappings:\n",
    "    num_graphs[mapping] = []\n",
    "    ntype_motif[mapping] = {}\n",
    "    conn_types[mapping] = {}\n",
    "    for l in range(1,max_chain_length+1):\n",
    "        ntype_motif[mapping][l] = {}\n",
    "        conn_types[mapping][l] = {n:0 for n in ntype_pairs}\n",
    "        hm = utils.make_hypermotifs(motif, l, [mapping])\n",
    "        for m in hm.nodes:\n",
    "            ntype_motif[mapping][l][m] = {n:0 for n in ntype}\n",
    "        all_ffgs = nn.search_motifs(hm)\n",
    "        num_graphs[mapping].append(len(all_ffgs))\n",
    "        for sub in all_ffgs:\n",
    "            for motif_edge, network_edge in sub.items():\n",
    "                if all(n.type in ntype for n in network_edge):\n",
    "                    for m,n in zip(motif_edge, network_edge):\n",
    "                        ntype_motif[mapping][l][m][n.type] +=1\n",
    "                    conn = (network_edge[0].type, network_edge[1].type)\n",
    "                    conn_types[mapping][l][conn] +=1"
   ]
  }
 ],
 "metadata": {
  "language_info": {
   "name": "python"
  }
 },
 "nbformat": 4,
 "nbformat_minor": 2
}
