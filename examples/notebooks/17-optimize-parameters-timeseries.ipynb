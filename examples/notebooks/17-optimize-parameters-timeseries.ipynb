{
 "cells": [
  {
   "cell_type": "code",
   "execution_count": null,
   "metadata": {},
   "outputs": [],
   "source": [
    "from cedne import simulator\n",
    "from cedne import optimizer\n",
    "from cedne import utils\n",
    "import numpy as np"
   ]
  },
  {
   "cell_type": "code",
   "execution_count": null,
   "metadata": {},
   "outputs": [],
   "source": [
    "triads = utils.return_triads()\n",
    "G = triads['030T']\n",
    "weights = {(1, 3): -3., (3, 2): -1, (1, 2): -3}\n",
    "\n",
    "input_nodes = [1]\n",
    "gains = {node:1.0 for node in G.nodes}\n",
    "tconstants = [5, 5, 1]\n",
    "time_constants = {n:t for n,t in zip(G.nodes, tconstants)}\n",
    "initial_rates = [0., 0., 0.]\n",
    "max_t = 90\n",
    "time_points = np.linspace(0, max_t, 451)\n",
    "\n",
    "inp1_value = 1\n",
    "input_value = {t:inp1_value*np.sin((t/max_t)*2*np.pi)+np.random.normal(0, 0.1) for t in time_points}\n",
    "inp_vals = [input_value[t] for t in time_points]\n",
    "input1= simulator.TimeSeriesInput(input_nodes, input_value)\n",
    "\n",
    "inputs = [input1]\n",
    "\n",
    "rate_model = simulator.RateModel(G, input_nodes, weights, gains, time_constants, static_nodes=input_nodes, time_points=time_points, inputs=inputs)\n",
    "real = rate_model.simulate()\n",
    "\n",
    "f = utils.plot_simulation_results((rate_model, inputs, real), twinx=False)"
   ]
  },
  {
   "cell_type": "code",
   "execution_count": null,
   "metadata": {},
   "outputs": [],
   "source": [
    "real_sim = rate_model.copy()"
   ]
  },
  {
   "cell_type": "code",
   "execution_count": null,
   "metadata": {},
   "outputs": [],
   "source": [
    "node_parameter_bounds =  {'gain': {rn:(1, 5) for n,rn in rate_model.nodes.items() if not n in input_nodes}, 'time_constant': {rn:(1, 5) for n,rn in rate_model.nodes.items() if not n in input_nodes}}\n",
    "edge_parameter_bounds = {'weight': {e:(-5, 5) for e in rate_model.edges}}\n",
    "vars_to_fit = [rn for (n, rn) in rate_model.nodes.items() if not n in input_nodes]\n",
    "## Setting parameter bounds for the paramters of interest and set the rest to default to simulate. Use a noisy output to fit.\n",
    "o = optimizer.OptunaOptimizer(rate_model, real, optimizer.mean_squared_error, node_parameter_bounds, edge_parameter_bounds, vars_to_fit, num_trials=1e3)\n",
    "best_params, best_model = o.optimize()\n",
    "best_fit = best_model.simulate()\n",
    "f = utils.plot_simulation_results((best_model, inputs, best_fit), twinx=False)"
   ]
  },
  {
   "cell_type": "code",
   "execution_count": null,
   "metadata": {},
   "outputs": [],
   "source": [
    "f = utils.compare_simulation_results((rate_model, inputs, real), (best_model, inputs, best_fit), twinx=False)"
   ]
  },
  {
   "cell_type": "code",
   "execution_count": null,
   "metadata": {},
   "outputs": [],
   "source": [
    "real_sim.node_parameters, real_sim.edge_parameters"
   ]
  },
  {
   "cell_type": "code",
   "execution_count": null,
   "metadata": {},
   "outputs": [],
   "source": [
    "best_model.node_parameters, best_model.edge_parameters"
   ]
  },
  {
   "cell_type": "code",
   "execution_count": null,
   "metadata": {},
   "outputs": [],
   "source": []
  }
 ],
 "metadata": {
  "language_info": {
   "name": "python"
  }
 },
 "nbformat": 4,
 "nbformat_minor": 2
}
