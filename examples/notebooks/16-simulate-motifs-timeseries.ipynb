{
 "cells": [
  {
   "cell_type": "code",
   "execution_count": null,
   "metadata": {},
   "outputs": [],
   "source": [
    "from cedne import simulator\n",
    "from cedne import utils\n",
    "import numpy as np"
   ]
  },
  {
   "cell_type": "markdown",
   "metadata": {},
   "source": [
    "## Simulating a triad motif (FFI) with preset parameters and 1 step input"
   ]
  },
  {
   "cell_type": "code",
   "execution_count": null,
   "metadata": {},
   "outputs": [],
   "source": [
    "triads = utils.return_triads()\n",
    "G = triads['030T']\n",
    "\n",
    "weights = {(1, 3): -3., (3, 2): -1, (1, 2): -3}\n",
    "input_nodes = [1]\n",
    "gains = {node:1.0 for node in G.nodes}\n",
    "baselines = {node:0. for node in G.nodes}\n",
    "tconstants = [10, 10, 1]\n",
    "time_constants = {n:t for n,t in zip(G.nodes, tconstants)}\n",
    "initial_rates = [0., 0., 0.]\n",
    "time_points = np.linspace(0, 90, 451)\n",
    "\n",
    "## First input\n",
    "inp1_start = 150\n",
    "inp1_end = 300\n",
    "inp1_value= 1\n",
    "\n",
    "input1= simulator.StepInput(input_nodes, tstart=time_points[inp1_start], tend=time_points[inp1_end], value=inp1_value)\n",
    "inputs = [input1]\n",
    "\n",
    "rate_model = simulator.RateModel(G, input_nodes, weights, gains, time_constants, baselines, time_points=time_points, inputs=inputs)\n",
    "rates = rate_model.simulate()\n",
    "f = utils.plot_simulation_results((rate_model, inputs, rates))"
   ]
  },
  {
   "cell_type": "code",
   "execution_count": null,
   "metadata": {},
   "outputs": [],
   "source": [
    "rate_model.node_parameters, rate_model.inputs"
   ]
  },
  {
   "cell_type": "markdown",
   "metadata": {},
   "source": [
    "## Simulating a triad motif (FFI) with preset parameters: 2 adaptive inputs."
   ]
  },
  {
   "cell_type": "code",
   "execution_count": null,
   "metadata": {},
   "outputs": [],
   "source": [
    "## First input\n",
    "inp1_start = 150\n",
    "inp1_end = 300\n",
    "inp1_value= 1\n",
    "decay_rate_1 = 20 ## Adaptation rate of the receptor\n",
    "\n",
    "## Second input\n",
    "inp2_start = 300\n",
    "inp2_end = 450\n",
    "inp2_value= 0.2\n",
    "decay_rate_2 = 20 ## Adaptation rate of the receptor\n",
    "\n",
    "input1= simulator.StepInputWithAdaptation(input_nodes, tstart=time_points[inp1_start], tend=time_points[inp1_end], value=inp1_value, decay_rate=decay_rate_1)\n",
    "input2 = simulator.StepInputWithAdaptation(input_nodes, tstart=time_points[inp2_start], tend=time_points[inp2_end], value=inp2_value, decay_rate=decay_rate_2)\n",
    "inputs = [input1, input2]\n",
    "\n",
    "rate_model.remove_inputs() # Removing previous inputs and adding adaptive inputs\n",
    "rate_model.set_inputs(inputs)\n",
    "\n",
    "rates = rate_model.simulate()\n",
    "f = utils.plot_simulation_results((rate_model, inputs, rates))"
   ]
  },
  {
   "cell_type": "code",
   "execution_count": null,
   "metadata": {},
   "outputs": [],
   "source": [
    "rate_model.node_parameters, rate_model.inputs"
   ]
  },
  {
   "cell_type": "markdown",
   "metadata": {},
   "source": [
    "## Sinusiodal input with the input node of the graph with timeseries input data."
   ]
  },
  {
   "cell_type": "code",
   "execution_count": null,
   "metadata": {},
   "outputs": [],
   "source": [
    "triads = utils.return_triads()\n",
    "G = triads['030T']\n",
    "weights = {(1, 3): -3., (3, 2): -1, (1, 2): -3}\n",
    "\n",
    "input_nodes = [1]\n",
    "gains = {node:1.0 for node in G.nodes}\n",
    "baselines = {node:0. for node in G.nodes}\n",
    "tconstants = [10, 10, 1]\n",
    "time_constants = {n:t for n,t in zip(G.nodes, tconstants)}\n",
    "\n",
    "initial_rates = [0., 0., 0.]\n",
    "max_t = 90\n",
    "time_points = np.linspace(0, max_t, 451)\n",
    "\n",
    "inp1_value = 1\n",
    "input_value = {t:inp1_value*np.sin((t/max_t)*2*np.pi) for t in time_points}\n",
    "inp_vals = [input_value[t] for t in time_points]\n",
    "input1= simulator.TimeSeriesInput(input_nodes, input_value)\n",
    "inputs = [input1]\n",
    "\n",
    "rate_model = simulator.RateModel(G, input_nodes, weights, gains, time_constants, baselines, static_nodes=input_nodes, inputs=inputs)\n",
    "rates = rate_model.simulate(time_points=time_points)\n",
    "\n",
    "f = utils.plot_simulation_results((rate_model, inputs, rates), twinx=False)"
   ]
  },
  {
   "cell_type": "code",
   "execution_count": null,
   "metadata": {},
   "outputs": [],
   "source": [
    "rate_model.node_parameters, rate_model.edge_parameters, rate_model.inputs"
   ]
  }
 ],
 "metadata": {
  "language_info": {
   "name": "python"
  }
 },
 "nbformat": 4,
 "nbformat_minor": 2
}
