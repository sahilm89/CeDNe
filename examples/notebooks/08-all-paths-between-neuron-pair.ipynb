{
 "cells": [
  {
   "cell_type": "markdown",
   "metadata": {},
   "source": [
    "# Get all paths between two neurons."
   ]
  },
  {
   "cell_type": "code",
   "execution_count": null,
   "metadata": {},
   "outputs": [],
   "source": [
    "from cedne import utils"
   ]
  },
  {
   "cell_type": "code",
   "execution_count": null,
   "metadata": {},
   "outputs": [],
   "source": [
    "w = utils.makeWorm()\n",
    "nn = w.networks[\"Neutral\"]\n",
    "utils.loadNeuropeptides(nn)\n",
    "utils.loadNeurotransmitters(nn)\n",
    "utils.loadGapJunctions(nn)"
   ]
  },
  {
   "cell_type": "markdown",
   "metadata": {},
   "source": [
    "## Print all paths between two neurons. This could be useful for circuit analysis experiments or to generate molecular screens."
   ]
  },
  {
   "cell_type": "code",
   "execution_count": null,
   "metadata": {},
   "outputs": [],
   "source": [
    "n1 = nn.neurons['ASER']\n",
    "n2 = nn.neurons['RIS']\n",
    "print(\"||Neuron 1|| Neuron 2|| Connection type || Putative connection details||\")\n",
    "print(\"=================================\")\n",
    "for e,c in n1.get_connections(n2).items():\n",
    "    if c.edge_type == 'chemical-synapse':\n",
    "        print(f\"||{c.pre_neuron.name} || {c.post_neuron.name} || {c.edge_type} || \" + f\"{c.putative_neurotrasmitter_receptors} ||\")\n",
    "    elif c.edge_type == 'gap-junction':\n",
    "        print(f\"||{c.pre_neuron.name} || {c.post_neuron.name} || {c.edge_type} || \" + f\"{c.putative_gapjn_subunits} ||\")\n",
    "    else:\n",
    "        print(f\"||{c.pre_neuron.name} || {c.post_neuron.name} || {c.edge_type} ||\" )\n",
    "    # if e[0].name in nn.neurons and e[1].name in nn.neurons and c.edge_type == 'chemical-synapse':\n",
    "    #     print(f\"{c.putative_connection}\")"
   ]
  },
  {
   "cell_type": "code",
   "execution_count": null,
   "metadata": {},
   "outputs": [],
   "source": [
    "## Make a matrix of connections vs connection types and do a PCA analysis to see if there are groups of connections across\n",
    "## the matrix"
   ]
  },
  {
   "cell_type": "code",
   "execution_count": null,
   "metadata": {},
   "outputs": [],
   "source": []
  }
 ],
 "metadata": {
  "language_info": {
   "name": "python"
  }
 },
 "nbformat": 4,
 "nbformat_minor": 2
}
