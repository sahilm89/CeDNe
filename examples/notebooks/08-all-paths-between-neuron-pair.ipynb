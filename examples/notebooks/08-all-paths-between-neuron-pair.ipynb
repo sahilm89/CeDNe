{
 "cells": [
  {
   "cell_type": "code",
   "execution_count": null,
   "metadata": {},
   "outputs": [],
   "source": [
    "from cedne import utils"
   ]
  },
  {
   "cell_type": "code",
   "execution_count": null,
   "metadata": {},
   "outputs": [],
   "source": [
    "w = utils.makeWorm()\n",
    "nn = w.networks[\"Neutral\"]\n",
    "# utils.loadNeuropeptides(nn)\n",
    "# utils.loadNeurotransmitters(nn)\n",
    "# utils.loadGapJunctions(nn)"
   ]
  },
  {
   "cell_type": "code",
   "execution_count": null,
   "metadata": {},
   "outputs": [],
   "source": [
    "nn.neurons['SAADR'].type"
   ]
  },
  {
   "cell_type": "markdown",
   "metadata": {},
   "source": [
    "# Get all inputs to a neuron."
   ]
  },
  {
   "cell_type": "code",
   "execution_count": null,
   "metadata": {},
   "outputs": [],
   "source": [
    "## Shell graph here.\n",
    "center = nn.neurons['RIR']\n",
    "sub_edges = center.get_connections()\n",
    "nn_sub = nn.subnetwork(connections=sub_edges)\n",
    "\n",
    "asel = utils.plot_shell(nn_sub, center=center, figsize=(6,6), fontsize=10, save=True)"
   ]
  },
  {
   "cell_type": "code",
   "execution_count": null,
   "metadata": {},
   "outputs": [],
   "source": [
    "## Shell graph here.\n",
    "center = nn.neurons['URYVR']\n",
    "sub_edges = center.get_connections()\n",
    "nn_sub = nn.subnetwork(connections=sub_edges)\n",
    "\n",
    "asel = utils.plot_shell(nn_sub, center=center, figsize=(6,6), fontsize=10, save=True)"
   ]
  },
  {
   "cell_type": "markdown",
   "metadata": {},
   "source": [
    "## Inputs to two neurons."
   ]
  },
  {
   "cell_type": "code",
   "execution_count": null,
   "metadata": {},
   "outputs": [],
   "source": [
    "sub_edges"
   ]
  },
  {
   "cell_type": "code",
   "execution_count": null,
   "metadata": {},
   "outputs": [],
   "source": [
    "import networkx as nx\n",
    "\n",
    "## Shell graph here.\n",
    "center = [nn.neurons['AWCL'], nn.neurons['AWCL'], nn.neurons['ASEL'], nn.neurons['ASER']]\n",
    "sub_edges = []\n",
    "layered_neurons = {0: center, 1:[], 2:[]}\n",
    "for n in center:\n",
    "    if len(n.get_connections())>2:\n",
    "        neurs_interest = n.get_connections()\n",
    "         \n",
    "        neurs_int = [e for e in neurs_interest if e[1].type == 'interneuron' and nn.connections[e].weight>1]\n",
    "        sub_edges+= neurs_int\n",
    "        # Define the layers\n",
    "        sens = [e[1] for e in neurs_interest if e[1].type == 'sensory' and nn.connections[e].weight>1]\n",
    "        ints = [e[1] for e in neurs_interest if e[1].type == 'interneuron' and nn.connections[e].weight>1]\n",
    "        motors = [e[1] for e in neurs_interest if e[1].type == 'motorneuron' and nn.connections[e].weight>1] \n",
    "\n",
    "        sens = [e[1] for e in neurs_interest if e[1].type == 'sensory' and nn.connections[e].weight>1]\n",
    "        ints = [e[1] for e in neurs_interest if e[1].type == 'interneuron' and nn.connections[e].weight>1]\n",
    "        motors = [e[1] for e in neurs_interest if e[1].type == 'motorneuron' and nn.connections[e].weight>1] \n",
    "\n",
    "        # Create a dictionary to store the neurons in each layer\n",
    "        layered_neurons[1]+=sens\n",
    "        layered_neurons[1]+=ints\n",
    "        layered_neurons[2]+=motors\n",
    "        #[nn.neurons[neuron] for neuron in neurons] for layer, neurons in layers.items()}\n",
    "\n",
    "        # Create a NetworkX graph\n",
    "G = nx.DiGraph()\n",
    "\n",
    "# Add nodes with the layer attribute\n",
    "for layer, neurons in layered_neurons.items():\n",
    "    for neuron in neurons:\n",
    "        print(neuron)\n",
    "        G.add_node(neuron.name, layer=layer)\n",
    "\n",
    "# Add edges\n",
    "for pre, post, _ in sub_edges:\n",
    "    G.add_edge(pre.name, post.name)\n",
    "\n",
    "# Define the position of nodes for plotting\n",
    "pos = {}\n",
    "for layer, neurons in layered_neurons.items():\n",
    "    for i, neuron in enumerate(neurons):\n",
    "        pos[neuron.name] = (layer, i)\n",
    "\n",
    "# Draw the network\n",
    "plt.figure(figsize=(8, 8))\n",
    "nx.draw(G, pos, with_labels=True, node_size=5000, node_color='lightblue', font_size=10, font_weight='bold')\n",
    "# plt.savefig('ADA_layered.svg')\n",
    "plt.show()\n",
    "    # nn_sub = nn.subnetwork(connections=sub_edges)\n",
    "\n",
    "# ada = utils.plot_shell(nn_sub, center=center, figsize=(8,8), fontsize=10, save='ADA.svg')\n",
    "# ada = utils.plot_layered(sub_edges, nn_sub)#, figsize=(8,8), fontsize=10, save='ADA.svg')"
   ]
  },
  {
   "cell_type": "markdown",
   "metadata": {},
   "source": [
    "# Get all paths between two neurons."
   ]
  },
  {
   "cell_type": "markdown",
   "metadata": {},
   "source": [
    "## Print all direct paths between two neurons. This could be useful for circuit analysis experiments or to generate molecular screens."
   ]
  },
  {
   "cell_type": "code",
   "execution_count": null,
   "metadata": {},
   "outputs": [],
   "source": [
    "w2 = utils.makeWorm(chem_only=True)\n",
    "nn2 = w2.networks[\"Neutral\"]"
   ]
  },
  {
   "cell_type": "code",
   "execution_count": null,
   "metadata": {},
   "outputs": [],
   "source": [
    "neurons_of_interest = ['AWCL', 'RIAL']\n",
    "n1 = nn2.neurons[neurons_of_interest[0]]\n",
    "n2 = nn2.neurons[neurons_of_interest[1]]\n",
    "print(\"||Neuron 1|| Neuron 2|| Connection type || Putative connection details||\")\n",
    "print(\"=================================\")\n",
    "for e,c in n1.get_connections(n2).items():\n",
    "    if c.connection_type == 'chemical-synapse':\n",
    "        print(f\"||{c.pre.name} || {c.post.name} || {c.connection_type} || \" + f\"{c.putative_neurotrasmitter_receptors} ||\")\n",
    "    elif c.connection_type == 'gap-junction':\n",
    "        print(f\"||{c.pre.name} || {c.post.name} || {c.connection_type} || \" + f\"{c.putative_gapjn_subunits} ||\")\n",
    "    else:\n",
    "        print(f\"||{c.pre.name} || {c.post.name} || {c.connection_type} ||\" )"
   ]
  },
  {
   "cell_type": "code",
   "execution_count": null,
   "metadata": {},
   "outputs": [],
   "source": [
    "center = [n1, n2]\n",
    "path_length = 2\n",
    "conn_path = n1.paths_to(n2, path_length=path_length) + n2.paths_to(n1, path_length=path_length)\n",
    "all_steps_on_path = [conn_ for conn in conn_path for conn_ in conn]"
   ]
  },
  {
   "cell_type": "code",
   "execution_count": null,
   "metadata": {},
   "outputs": [],
   "source": [
    "connection_subnetwork = nn2.subnetwork(connections=all_steps_on_path)\n",
    "edge_color={}\n",
    "for e,c in connection_subnetwork.connections.items():\n",
    "    if c.connection_type == 'chemical-synapse':\n",
    "        if e[0].name == n1.name and e[1].name == n2.name:\n",
    "            edge_color[e] = 'gray'\n",
    "        else:\n",
    "            edge_color[e] = 'lightgray'\n",
    "        # if len(c.putative_neurotrasmitter_receptors):\n",
    "        #     if c.putative_neurotrasmitter_receptors[0][0] == 'Glutamate':\n",
    "        #         edge_color[e] = 'gray'\n",
    "        #     else:\n",
    "        #         edge_color[e] = 'gray'\n",
    "        # else:\n",
    "        #     edge_color[e] = 'gray' \n",
    "    else:\n",
    "        edge_color[e] = 'gray' \n",
    "utils.plot_shell(connection_subnetwork, center=center, figsize=(4.5,5), fontsize=10, edge_color_dict=edge_color, save='AWCL_RIAL_indirect_paths.svg')"
   ]
  },
  {
   "cell_type": "code",
   "execution_count": null,
   "metadata": {},
   "outputs": [],
   "source": [
    "n2.name"
   ]
  },
  {
   "cell_type": "code",
   "execution_count": null,
   "metadata": {},
   "outputs": [],
   "source": [
    "all_n1_paths = n2.all_paths(direction='in', path_length =1)"
   ]
  },
  {
   "cell_type": "code",
   "execution_count": null,
   "metadata": {},
   "outputs": [],
   "source": [
    "print(all_n1_paths)"
   ]
  },
  {
   "cell_type": "markdown",
   "metadata": {},
   "source": [
    "## Print paths that are at most N steps removed."
   ]
  },
  {
   "cell_type": "code",
   "execution_count": null,
   "metadata": {},
   "outputs": [],
   "source": [
    "center = [n1, n2]\n",
    "path_length = 3\n",
    "conn_path = n1.paths_to(n2, path_length=path_length) + n2.paths_to(n1, path_length=path_length)\n",
    "all_steps_on_path = [conn_ for conn in conn_path for conn_ in conn]\n",
    "connection_subnetwork = nn.subnetwork(connections=all_steps_on_path)"
   ]
  },
  {
   "cell_type": "code",
   "execution_count": null,
   "metadata": {},
   "outputs": [],
   "source": [
    "edge_color = {}\n",
    "for e,c in connection_subnetwork.connections.items():\n",
    "    if e[0].name in neurons_of_interest and e[1].name in neurons_of_interest:\n",
    "        edge_color[e] = 'purple'\n",
    "        continue\n",
    "    if c.connection_type == 'chemical-synapse':\n",
    "        edge_color[e] = 'gray' \n",
    "        #if len(c.putative_neurotrasmitter_receptors):\n",
    "        #    if c.putative_neurotrasmitter_receptors[0][0] == 'Glutamate':\n",
    "        #        edge_color[e] = 'gray'\n",
    "        #    else:\n",
    "        #        edge_color[e] = 'gray'\n",
    "        #else:\n",
    "        #    edge_color[e] = 'gray'\n",
    "    else:\n",
    "        edge_color[e] = 'gray' "
   ]
  },
  {
   "cell_type": "code",
   "execution_count": null,
   "metadata": {},
   "outputs": [],
   "source": [
    "awcl_rial = utils.plot_shell(connection_subnetwork, center=center, figsize=(6,6), fontsize=10, edge_color_dict=edge_color)#, save='AWCL_RIAL_indirect_paths.svg')"
   ]
  },
  {
   "cell_type": "code",
   "execution_count": null,
   "metadata": {},
   "outputs": [],
   "source": []
  },
  {
   "cell_type": "markdown",
   "metadata": {},
   "source": [
    "## Color by neurotransmitter type"
   ]
  },
  {
   "cell_type": "code",
   "execution_count": null,
   "metadata": {},
   "outputs": [],
   "source": [
    "for e,c in connection_subnetwork.connections.items():\n",
    "    if c.connection_type == 'chemical-synapse':\n",
    "        if len(c.putative_neurotrasmitter_receptors):\n",
    "            if c.putative_neurotrasmitter_receptors[0][0] == 'Glutamate':\n",
    "                edge_color[e] = 'green'\n",
    "            else:\n",
    "                edge_color[e] = 'gray'\n",
    "        else:\n",
    "            edge_color[e] = 'gray'\n",
    "    else:\n",
    "        edge_color[e] = 'gray' \n",
    "\n",
    "utils.plot_shell(connection_subnetwork, center=center, figsize=(6,6), fontsize=10, edge_color_dict=edge_color)"
   ]
  },
  {
   "cell_type": "code",
   "execution_count": null,
   "metadata": {},
   "outputs": [],
   "source": [
    "## Make a matrix of connections vs connection types and do a PCA analysis to see if there are groups of connections across\n",
    "## the matrix"
   ]
  },
  {
   "cell_type": "code",
   "execution_count": null,
   "metadata": {},
   "outputs": [],
   "source": [
    "len_out_dict = {}\n",
    "for n in nn.neurons:\n",
    "    len_out_dict[n] = len(nn.neurons[n].out_connections)"
   ]
  },
  {
   "cell_type": "code",
   "execution_count": null,
   "metadata": {},
   "outputs": [],
   "source": [
    "nn.neurons['AVAL'].outgoing()"
   ]
  },
  {
   "cell_type": "code",
   "execution_count": null,
   "metadata": {},
   "outputs": [],
   "source": [
    "for n in nn.neurons:\n",
    "    if nn.neurons[n].category == 'SN3':\n",
    "        print(n, [m[1].name for m, out_n in nn.neurons[n].out_connections.items() if m[1].category=='SN6'])"
   ]
  },
  {
   "cell_type": "code",
   "execution_count": null,
   "metadata": {},
   "outputs": [],
   "source": [
    "all_NPs = {n:[] for n in nn.neurons.keys()}\n",
    "for e,c in nn.connections.items():\n",
    "    if c.connection_type not in ['chemical-synapse', 'gap-junction']:\n",
    "        all_NPs[e[0].name].append(c.connection_type)\n",
    "\n",
    "count_NPs = {n:[] for n in nn.neurons.keys()}\n",
    "for n in all_NPs:\n",
    "    all_NPs[n] = set(all_NPs[n])\n",
    "    count_NPs[n] = len(all_NPs[n])"
   ]
  },
  {
   "cell_type": "code",
   "execution_count": null,
   "metadata": {},
   "outputs": [],
   "source": [
    "print(dict(sorted(count_NPs.items(), key=lambda item: item[1], reverse=True)))"
   ]
  },
  {
   "cell_type": "code",
   "execution_count": null,
   "metadata": {},
   "outputs": [],
   "source": []
  }
 ],
 "metadata": {
  "language_info": {
   "name": "python"
  }
 },
 "nbformat": 4,
 "nbformat_minor": 2
}
