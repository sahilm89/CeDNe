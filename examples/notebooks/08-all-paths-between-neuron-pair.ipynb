{
 "cells": [
  {
   "cell_type": "code",
   "execution_count": null,
   "metadata": {},
   "outputs": [],
   "source": [
    "from cedne import utils"
   ]
  },
  {
   "cell_type": "code",
   "execution_count": null,
   "metadata": {},
   "outputs": [],
   "source": [
    "w = utils.makeWorm()\n",
    "nn = w.networks[\"Neutral\"]\n",
    "# utils.loadNeuropeptides(nn)\n",
    "utils.loadNeurotransmitters(nn)\n",
    "utils.loadGapJunctions(nn)"
   ]
  },
  {
   "cell_type": "markdown",
   "metadata": {},
   "source": [
    "# Get all inputs to a neuron."
   ]
  },
  {
   "cell_type": "code",
   "execution_count": null,
   "metadata": {},
   "outputs": [],
   "source": [
    "## Shell graph here.\n",
    "center = nn.neurons['ASEL']\n",
    "sub_edges = center.get_connections()\n",
    "nn_sub = nn.subnetwork(connections=sub_edges)\n",
    "\n",
    "utils.plot_shell(nn_sub, center=center, figsize=(6,6), fontsize=10)"
   ]
  },
  {
   "cell_type": "markdown",
   "metadata": {},
   "source": [
    "# Get all paths between two neurons."
   ]
  },
  {
   "cell_type": "markdown",
   "metadata": {},
   "source": [
    "## Print all direct paths between two neurons. This could be useful for circuit analysis experiments or to generate molecular screens."
   ]
  },
  {
   "cell_type": "code",
   "execution_count": null,
   "metadata": {},
   "outputs": [],
   "source": [
    "n1 = nn.neurons['AWCR']\n",
    "n2 = nn.neurons['ASEL']\n",
    "print(\"||Neuron 1|| Neuron 2|| Connection type || Putative connection details||\")\n",
    "print(\"=================================\")\n",
    "edge_labels={}\n",
    "for e,c in n1.get_connections(n2).items():\n",
    "    if c.edge_type == 'chemical-synapse':\n",
    "        print(f\"||{c.pre_neuron.name} || {c.post_neuron.name} || {c.edge_type} || \" + f\"{c.putative_neurotrasmitter_receptors} ||\")\n",
    "    elif c.edge_type == 'gap-junction':\n",
    "        print(f\"||{c.pre_neuron.name} || {c.post_neuron.name} || {c.edge_type} || \" + f\"{c.putative_gapjn_subunits} ||\")\n",
    "    else:\n",
    "        print(f\"||{c.pre_neuron.name} || {c.post_neuron.name} || {c.edge_type} ||\" )\n",
    "    edge_labels[e] = c.putative_neurotrasmitter_receptors\n",
    "    # if e[0].name in nn.neurons and e[1].name in nn.neurons and c.edge_type == 'chemical-synapse':\n",
    "    #     print(f\"{c.putative_connection}\")"
   ]
  },
  {
   "cell_type": "code",
   "execution_count": null,
   "metadata": {},
   "outputs": [],
   "source": [
    "center = [n1, n2]\n",
    "path_length = 1\n",
    "conn_path = n1.paths_to(n2, path_length=path_length) + n2.paths_to(n1, path_length=path_length)\n",
    "all_steps_on_path = [conn_._id for conn in conn_path for conn_ in conn]\n",
    "connection_subnetwork = nn.subnetwork(connections=all_steps_on_path)\n",
    "utils.plot_shell(connection_subnetwork, center=center, figsize=(1,3), fontsize=10)"
   ]
  },
  {
   "cell_type": "markdown",
   "metadata": {},
   "source": [
    "## Print paths that are at most N steps removed."
   ]
  },
  {
   "cell_type": "code",
   "execution_count": null,
   "metadata": {},
   "outputs": [],
   "source": [
    "center = [n1, n2]\n",
    "path_length = 2\n",
    "conn_path = n1.paths_to(n2, path_length=path_length) + n2.paths_to(n1, path_length=path_length)\n",
    "all_steps_on_path = [conn_._id for conn in conn_path for conn_ in conn]\n",
    "connection_subnetwork = nn.subnetwork(connections=all_steps_on_path)\n",
    "utils.plot_shell(connection_subnetwork, center=center, figsize=(6,6), fontsize=10)"
   ]
  },
  {
   "cell_type": "code",
   "execution_count": null,
   "metadata": {},
   "outputs": [],
   "source": [
    "## Make a matrix of connections vs connection types and do a PCA analysis to see if there are groups of connections across\n",
    "## the matrix"
   ]
  },
  {
   "cell_type": "code",
   "execution_count": null,
   "metadata": {},
   "outputs": [],
   "source": [
    "all_NPs = {n:[] for n in nn.neurons.keys()}\n",
    "for e,c in nn.connections.items():\n",
    "    if c.edge_type not in ['chemical-synapse', 'gap-junction']:\n",
    "        all_NPs[e[0].name].append(c.edge_type)\n",
    "\n",
    "count_NPs = {n:[] for n in nn.neurons.keys()}\n",
    "for n in all_NPs:\n",
    "    all_NPs[n] = set(all_NPs[n])\n",
    "    count_NPs[n] = len(all_NPs[n])"
   ]
  },
  {
   "cell_type": "code",
   "execution_count": null,
   "metadata": {},
   "outputs": [],
   "source": [
    "print(dict(sorted(count_NPs.items(), key=lambda item: item[1], reverse=True)))"
   ]
  }
 ],
 "metadata": {
  "language_info": {
   "name": "python"
  }
 },
 "nbformat": 4,
 "nbformat_minor": 2
}
