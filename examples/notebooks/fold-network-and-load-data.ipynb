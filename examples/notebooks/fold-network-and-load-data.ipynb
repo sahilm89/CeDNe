{
 "cells": [
  {
   "cell_type": "markdown",
   "metadata": {},
   "source": [
    "# Fold network and load data in the neurons\n",
    "### Sometimes datasets are not available for all neurons of the worm, but only a subset. For example, datasets can be found with neurons combined into one class based on left or right position (AWCL and AWCR into AWC), or by dorsal and ventral position (RMEDL/RMEVL), or by lineage/function (e.g. amphids or ventral cord neurons (VC)) or by some combination of these. Here we show by example how the network can be folded across these axes, preserving the data and connections across the axis of folding."
   ]
  },
  {
   "cell_type": "code",
   "execution_count": null,
   "metadata": {},
   "outputs": [],
   "source": []
  }
 ],
 "metadata": {
  "language_info": {
   "name": "python"
  }
 },
 "nbformat": 4,
 "nbformat_minor": 2
}
