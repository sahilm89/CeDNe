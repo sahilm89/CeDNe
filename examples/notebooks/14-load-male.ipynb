{
 "cells": [
  {
   "cell_type": "code",
   "execution_count": null,
   "metadata": {},
   "outputs": [],
   "source": [
    "from cedne import utils\n",
    "import matplotlib.pyplot as plt\n",
    "import numpy as np\n",
    "import copy"
   ]
  },
  {
   "cell_type": "code",
   "execution_count": null,
   "metadata": {},
   "outputs": [],
   "source": [
    "import_parameters = {'style':'cook', 'sex':'male'}"
   ]
  },
  {
   "cell_type": "code",
   "execution_count": null,
   "metadata": {},
   "outputs": [],
   "source": [
    "ntype = ['SENSORY NEURONS', 'INTERNEURONS', 'MOTOR NEURONS']\n",
    "facecolors = ['#FF6F61', '#FFD700', '#4682B4']\n",
    "ntype_pairs = [(nt1, nt2) for nt1 in ntype for nt2 in ntype]\n",
    "colors= plt.cm.magma(np.linspace(0,1,len(ntype_pairs)))\n",
    "type_color_dict = {p:color for (p,color) in zip(ntype_pairs, colors)}"
   ]
  },
  {
   "cell_type": "code",
   "execution_count": null,
   "metadata": {},
   "outputs": [],
   "source": [
    "w = utils.makeWorm('male', import_parameters=import_parameters, chem_only=True)"
   ]
  },
  {
   "cell_type": "code",
   "execution_count": null,
   "metadata": {},
   "outputs": [],
   "source": [
    "nn_male = w.networks['Neutral']"
   ]
  },
  {
   "cell_type": "code",
   "execution_count": null,
   "metadata": {},
   "outputs": [],
   "source": [
    "utils.loadNeurotransmitters(nn_male, sex='Male')"
   ]
  },
  {
   "cell_type": "code",
   "execution_count": null,
   "metadata": {},
   "outputs": [],
   "source": [
    "triad_motifs = utils.return_triads()\n",
    "motif = triad_motifs['030T']\n",
    "motif = utils.nx.relabel_nodes(motif, {1:1, 2:3, 3:2})"
   ]
  },
  {
   "cell_type": "code",
   "execution_count": null,
   "metadata": {},
   "outputs": [],
   "source": [
    "mappings = [(2,1), (3,1)]\n",
    "num_graphs = {}\n",
    "# conn_types = {mapping:{n:0 for n in ntype_pairs} for mapping in mappings}\n",
    "ntype_motif = {}\n",
    "max_chain_length = 6\n",
    "for mapping in mappings:\n",
    "    num_graphs[mapping] = []\n",
    "    ntype_motif[mapping] = {}\n",
    "    for l in range(1,max_chain_length+1):\n",
    "        hm = utils.make_hypermotifs(motif, l, [mapping])\n",
    "        for m in hm.nodes:\n",
    "            ntype_motif[mapping][m] = {n:0 for n in ntype}\n",
    "        all_ffgs = nn_male.search_motifs(hm)\n",
    "        num_graphs[mapping].append(len(all_ffgs))\n",
    "        for sub in all_ffgs:\n",
    "            for motif_edge, network_edge in sub.items():\n",
    "                if all(n.type in ntype for n in network_edge):\n",
    "                    for m,n in zip(motif_edge, network_edge):\n",
    "                        ntype_motif[mapping][m][n.type] +=1\n",
    "        #             conn = tuple(sorted([network_edge[0].type, network_edge[1].type]))\n",
    "        #             conn_types[mapping][conn] +=1"
   ]
  },
  {
   "cell_type": "code",
   "execution_count": null,
   "metadata": {},
   "outputs": [],
   "source": [
    "motif_fractions_actual = {}\n",
    "for mapping in mappings:\n",
    "    motif_fractions_actual[mapping] = np.array(num_graphs[mapping])/(np.array(num_graphs[mappings[0]]) + np.array(num_graphs[mappings[1]]))\n",
    "colors = ['gray', 'purple']\n",
    "f, ax = plt.subplots(figsize=(2.5,2.5), layout='constrained')\n",
    "for m, mapping in enumerate(mappings):\n",
    "    ax.scatter(np.arange(1,len(num_graphs[mapping])+1),motif_fractions_actual[mapping] , color=colors[m], label=mapping)\n",
    "ax.set_xticks(np.arange(1,max_chain_length+1))\n",
    "ax.set_yticks((0,0.5,1))\n",
    "# ax.yaxis.major.formatter._useMathText = True\n",
    "ax.set_ylabel(\"fraction subnetworks with motif\")\n",
    "ax.set_xlabel(\"Number of chained FFLs\")\n",
    "utils.simpleaxis(ax)\n",
    "f.legend(loc='upper center', frameon=False, ncols=2, bbox_to_anchor=(0.55,1.1))\n",
    "# plt.savefig('FFL-chains-C_elegans_fractions.svg', transparent=True)\n",
    "plt.show()"
   ]
  },
  {
   "cell_type": "code",
   "execution_count": null,
   "metadata": {},
   "outputs": [],
   "source": [
    "f, ax = plt.subplots(figsize=(2,2))\n",
    "utils.nx.draw_circular(motif, with_labels=True, node_color='gray', node_size=300, ax=ax)\n",
    "plt.show()"
   ]
  },
  {
   "cell_type": "code",
   "execution_count": null,
   "metadata": {},
   "outputs": [],
   "source": [
    "hm = utils.make_hypermotifs(motif, 3, [(3,1)])\n",
    "hm = utils.nx.relabel_nodes(hm, {'1.3-2.1':'2.1', '2.3-3.1':'3.1'})\n",
    "all_ffgs = nn_male.search_motifs(hm)"
   ]
  },
  {
   "cell_type": "code",
   "execution_count": null,
   "metadata": {},
   "outputs": [],
   "source": [
    "conn_types = {n:0 for n in ntype_pairs}\n",
    "ntype_motif = {m:{n:0 for n in ntype} for m in hm.nodes}\n",
    "for sub in all_ffgs:\n",
    "    for motif_edge, network_edge in sub.items():\n",
    "        if all(n.type in ntype for n in network_edge):\n",
    "            for m,n in zip(motif_edge, network_edge):\n",
    "                ntype_motif[m][n.type] +=1\n",
    "            conn = tuple(sorted([network_edge[0].type, network_edge[1].type]))\n",
    "            conn_types[conn] +=1"
   ]
  },
  {
   "cell_type": "code",
   "execution_count": null,
   "metadata": {},
   "outputs": [],
   "source": [
    "pie_division = {m: [ntype_motif[m][n]/sum(ntype_motif[m].values()) for n in ntype] for m in hm.nodes}\n",
    "piesize=0.09\n",
    "pos = utils.nx.kamada_kawai_layout(hm)\n",
    "color_dict = {p:facecolors for p in pos.keys()}\n",
    "alpha_dict = {p:1 for p in pos.keys()}\n",
    "\n",
    "f, ax = plt.subplots(figsize=(6,6), layout='constrained')\n",
    "utils.nx.draw_networkx_edges(hm, pos=pos, node_size=1200, connectionstyle='arc3', arrowstyle='->')\n",
    "for n,p in pos.items():\n",
    "    utils.plot_pie(n=n, center=p, ax=ax, color_dict=color_dict, alpha_dict=alpha_dict, pie_division=pie_division[n], piesize=piesize)\n",
    "# utils.nx.draw_networkx_labels(hm, pos=pos)\n",
    "ax.set_xlim(-1, 1)\n",
    "ax.set_ylim(-1, 1)\n",
    "ax.set_aspect('equal')\n",
    "ax.axis('off')  # Optionally turn off axis\n",
    "plt.savefig('motif_ntype_ffchain_male.svg', transparent=True)\n"
   ]
  },
  {
   "cell_type": "code",
   "execution_count": null,
   "metadata": {},
   "outputs": [],
   "source": [
    "conn_ligs = {}\n",
    "all_ntrs = []\n",
    "putative_lens = {}\n",
    "motif_conns = {}\n",
    "for sub in all_ffgs:\n",
    "    for motif_edge, network_edge in sub.items():\n",
    "        if not motif_edge in conn_ligs:\n",
    "            conn_ligs[motif_edge] = []\n",
    "            putative_lens[motif_edge] = []\n",
    "            motif_conns[motif_edge] = []\n",
    "        neuron_1, neuron_2 = network_edge[0], network_edge[1]\n",
    "        conns = nn_male.connections_between(neuron_1, neuron_2, directed=True)\n",
    "        for e, conn in conns.items():\n",
    "            if conn.edge_type=='chemical-synapse':\n",
    "                motif_conns[motif_edge].append(conn)\n",
    "                conn_edges = ['-'.join(k) for k in conn.putative_neurotrasmitter_receptors if (isinstance(k[0], str) and isinstance(k[1], str))]\n",
    "                putative_lens[motif_edge].append(len(conn_edges))\n",
    "                conn_ligs[motif_edge].append(conn_edges)\n",
    "                all_ntrs+= conn_edges"
   ]
  },
  {
   "cell_type": "code",
   "execution_count": null,
   "metadata": {},
   "outputs": [],
   "source": [
    "color_nt = {'Ach': 'lightgreen', 'Dop':'navy', 'Glu': 'darkorange', 'GAB': 'crimson', 'Ser': 'k'}\n",
    "all_labels = sorted(set(all_ntrs))\n",
    "color = [color_nt[m[:3]] for m in all_labels]\n",
    "fig, ax = plt.subplots(nrows=len(conn_ligs.keys()), sharex=True, sharey=True, figsize=(30,12), layout='constrained')\n",
    "for j,e in enumerate(sorted(conn_ligs.keys())):\n",
    "    nums = []\n",
    "    for k in all_labels:\n",
    "        nums.append(sum([1/len(conn_ligs[e][i]) if k in conn_ligs[e][i] else 0 for i in range(len(conn_ligs[e]))])/len(conn_ligs[e]))\n",
    "    ax[j].bar(all_labels, nums, color=color)\n",
    "    utils.simpleaxis(ax[j])\n",
    "    ax[j].set_title(e, fontsize=\"xx-large\")\n",
    "    ax[j].set_yticks([0,0.1,0.2], labels=[0,0.1,0.2], fontsize=\"xx-large\")\n",
    "plt.xticks(rotation=45, ha='right', fontsize=\"xx-large\")\n",
    "fig.supylabel(\"Fraction of edges with predicted pair\", fontsize='xx-large')\n",
    "fig.supxlabel(\"Predicted neurotransmitter-receptor pair\", fontsize='xx-large')\n",
    "plt.savefig(\"Motif-FFLoop-3-chain_male.svg\", transparent=True)\n",
    "plt.show()\n",
    "plt.close()\n",
    "    # print(sum([1 if k in conn_ligs[e][i] else 0 for i in range(len(conn_ligs[e]))])/len(conn_ligs[e]))\n",
    "    # conn_ligs[e])\n",
    "# conn_ligs[motif_edge]"
   ]
  },
  {
   "cell_type": "code",
   "execution_count": null,
   "metadata": {},
   "outputs": [],
   "source": [
    "num_graphs = {}\n",
    "mappings = [(2,1), (3,1)]\n",
    "max_chain_length = 6\n",
    "nrgraphs = 50\n",
    "graph_specs = {}\n",
    "for mapping in mappings:\n",
    "    num_graphs[mapping] = {}\n",
    "    graph_specs[mapping] = {}\n",
    "    for l in range(1,max_chain_length+1):\n",
    "        num_graphs[mapping][l] = []\n",
    "        graph_specs[mapping][l] = {'conn_type':[], 'ntype':[]}\n",
    "        hm = utils.make_hypermotifs(motif, l, [mapping])\n",
    "        for g in range(nrgraphs):\n",
    "            nnr = utils.randomize_graph(nn_male)\n",
    "            all_ffgs = nnr.search_motifs(hm)\n",
    "            num_graphs[mapping][l].append(len(all_ffgs))\n",
    "\n",
    "            conn_types = {n:0 for n in ntype_pairs}\n",
    "            ntype_motif = {m:{n:0 for n in ntype} for m in hm.nodes}\n",
    "            for sub in all_ffgs:\n",
    "                for motif_edge, network_edge in sub.items():\n",
    "                    if all(n.type in ntype for n in network_edge):\n",
    "                        for m,n in zip(motif_edge, network_edge):\n",
    "                            ntype_motif[m][n.type] +=1\n",
    "                        conn = tuple([network_edge[0].type, network_edge[1].type])\n",
    "                        conn_types[conn] +=1\n",
    "            graph_specs[mapping][l]['conn_type'].append(copy.deepcopy(conn_types))\n",
    "            graph_specs[mapping][l]['ntype'].append(copy.deepcopy(ntype_motif))"
   ]
  },
  {
   "cell_type": "code",
   "execution_count": null,
   "metadata": {},
   "outputs": [],
   "source": [
    "motif_fractions = {}\n",
    "for mapping in mappings:\n",
    "    motif_fractions[mapping] = {}\n",
    "    for l in np.arange(1,max_chain_length+1):\n",
    "        motif_fractions[mapping][l] = np.array(num_graphs[mapping][l])/(np.array(num_graphs[mappings[0]][l]) + np.array(num_graphs[mappings[1]][l]))"
   ]
  },
  {
   "cell_type": "code",
   "execution_count": null,
   "metadata": {},
   "outputs": [],
   "source": [
    "colors = ['gray', 'purple']\n",
    "zscore_sig_thres = 2.58\n",
    "f, ax = plt.subplots(figsize=(2.5,2.5), layout='constrained')\n",
    "for m, mapping in enumerate(mappings):\n",
    "    ngraphs_mu = np.mean([motif_fractions[mapping][l] for l in np.arange(1,max_chain_length+1)], axis=1)\n",
    "    ngraphs_sigma = np.std([motif_fractions[mapping][l] for l in np.arange(1,max_chain_length+1)], axis=1)\n",
    "    \n",
    "    ax.errorbar(np.arange(1,max_chain_length+1), ngraphs_mu, yerr = ngraphs_sigma, color=colors[m], alpha=0.5, linestyle='--')\n",
    "    ax.scatter(np.arange(1,len(num_graphs[mapping])+1),motif_fractions_actual[mapping] , color=colors[m], label=mapping)\n",
    "    ax.plot(np.arange(1,len(num_graphs[mapping])+1),motif_fractions_actual[mapping] , color=colors[m])\n",
    "\n",
    "    zscore_sig = np.where(np.abs([(motif_fractions_actual[mapping][l-1]- ngraphs_mu[l-1])/ngraphs_sigma[l-1] for l in np.arange(1,max_chain_length+1)])>zscore_sig_thres)[0]\n",
    "    for x in zscore_sig:\n",
    "        ax.text(x=x+1, y=0.8, s=\"**\", color='k', ha='center')\n",
    "\n",
    "    # ax.scatter(np.arange(1,len(num_graphs[mapping])+1), ngraphs_mu, color=colors[m], label=mapping)\n",
    "ax.set_xticks(np.arange(1,max_chain_length+1))\n",
    "ax.set_yticks((0,0.5,1))\n",
    "# ax.yaxis.major.formatter._useMathText = True\n",
    "ax.set_ylabel(\"Fraction subnetworks with motif\")\n",
    "ax.set_xlabel(\"# chained FFLs\")\n",
    "utils.simpleaxis(ax)\n",
    "f.legend(loc='upper left', frameon=False, bbox_to_anchor=(0.15,1.05))\n",
    "plt.savefig('FFL-chains-C_elegans_male_randomized_actual_edges_fractions_new.svg', transparent=True)\n",
    "plt.show()"
   ]
  },
  {
   "cell_type": "code",
   "execution_count": null,
   "metadata": {},
   "outputs": [],
   "source": []
  }
 ],
 "metadata": {
  "language_info": {
   "name": "python"
  }
 },
 "nbformat": 4,
 "nbformat_minor": 2
}
