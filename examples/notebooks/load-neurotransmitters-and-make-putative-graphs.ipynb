{
 "cells": [
  {
   "cell_type": "markdown",
   "metadata": {},
   "source": [
    "# Loading neurotransmitter and creating connectivity subgraphs for specific neurotransmitters\n",
    "### Here we build upon the previous script to take putative neurotransmitters for each connection between neurons and make subgraphs that contain one or two neurotransmitters. "
   ]
  },
  {
   "cell_type": "markdown",
   "metadata": {
    "vscode": {
     "languageId": "plaintext"
    }
   },
   "source": [
    "## Could also add the neurotransmitter piechart."
   ]
  }
 ],
 "metadata": {
  "language_info": {
   "name": "python"
  }
 },
 "nbformat": 4,
 "nbformat_minor": 2
}
