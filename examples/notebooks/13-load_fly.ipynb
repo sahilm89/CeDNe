{
 "cells": [
  {
   "cell_type": "code",
   "execution_count": null,
   "metadata": {},
   "outputs": [],
   "source": [
    "from cedne import utils\n",
    "from cedne import NervousSystem, Connection \n",
    "import matplotlib.pyplot as plt\n",
    "import numpy as np\n",
    "import scanpy as sp\n",
    "import pickle"
   ]
  },
  {
   "cell_type": "code",
   "execution_count": null,
   "metadata": {},
   "outputs": [],
   "source": [
    "f = utils.makeFly()\n",
    "nn = f.networks[\"Neutral\"]"
   ]
  },
  {
   "cell_type": "code",
   "execution_count": null,
   "metadata": {},
   "outputs": [],
   "source": [
    "nlist, npos = [], []\n",
    "for n in nn.neurons:\n",
    "    nlist.append(n) \n",
    "    npos.append(nn.neurons[n].position)\n",
    "\n",
    "npos = np.array(npos)"
   ]
  },
  {
   "cell_type": "code",
   "execution_count": null,
   "metadata": {},
   "outputs": [],
   "source": [
    "l0, l1, l2 = [], [], []\n",
    "for n in nlist:\n",
    "    l_ = n.split(\".\")\n",
    "    if l_[0] == \"LO\":\n",
    "        l0.append(n)\n",
    "        if len(l_)>2:\n",
    "            l1.append(l_[1])\n",
    "            l2.append(l_[2])\n",
    "        else:\n",
    "            l1.append('')\n",
    "            l2.append(l_[1])"
   ]
  },
  {
   "cell_type": "code",
   "execution_count": null,
   "metadata": {},
   "outputs": [],
   "source": [
    "from collections import Counter\n",
    "thresL1 = [k for k, v in Counter(l1).items() if v>00]"
   ]
  },
  {
   "cell_type": "code",
   "execution_count": null,
   "metadata": {},
   "outputs": [],
   "source": [
    "l_subsets = thresL1 #list(set(l1))\n",
    "cols_ind = []\n",
    "alpha_ind= []\n",
    "for n in nlist:\n",
    "    if n in l0 and l1[l0.index(n)] in l_subsets:\n",
    "        cols_ind.append(l_subsets.index(l1[l0.index(n)]))\n",
    "        alpha_ind.append(0)\n",
    "    else:\n",
    "        cols_ind.append(len(l_subsets))\n",
    "        alpha_ind.append(1)"
   ]
  },
  {
   "cell_type": "code",
   "execution_count": null,
   "metadata": {},
   "outputs": [],
   "source": [
    "l_subsets"
   ]
  },
  {
   "cell_type": "code",
   "execution_count": null,
   "metadata": {},
   "outputs": [],
   "source": [
    "colors = plt.cm.tab10(np.arange(len(l_subsets)))\n",
    "colors = np.append(colors, [[0.5,0.5,0.5,1]], axis=0)\n",
    "alpha_arr = [1,3e-2]\n",
    "\n",
    "cols = colors[cols_ind]\n",
    "alpha = [alpha_arr[a] for a in alpha_ind]\n",
    "labels = [l_subsets[j] if j<len(l_subsets) else 'Other' for j in cols_ind]"
   ]
  },
  {
   "cell_type": "code",
   "execution_count": null,
   "metadata": {},
   "outputs": [],
   "source": [
    "%matplotlib inline\n",
    "fig, ax = plt.subplots(figsize=(6,6), layout='constrained')\n",
    "ax.set_aspect('equal')\n",
    "scatter = ax.scatter(npos[:,0], npos[:,1], s=1, c=cols, alpha=alpha, label=labels)\n",
    "# legend1 = f.legend(*scatter.legend_elements(num=2),\n",
    "#                     loc=\"outside upper center\", fontsize=72)\n",
    "# f.add_artist(legend1)\n",
    "ax.axis('off')\n",
    "plt.savefig(\"./fly-LO1.png\")\n",
    "plt.close()"
   ]
  },
  {
   "cell_type": "markdown",
   "metadata": {},
   "source": [
    "## Subnetwork by creating a fresh network with neurons and edges. "
   ]
  },
  {
   "cell_type": "code",
   "execution_count": null,
   "metadata": {},
   "outputs": [],
   "source": [
    "nn_l0 = NervousSystem(worm = f, network = 'subnet')\n",
    "ntype, npos, nlen, narea, nvol = zip(*[(nn.neurons[n].type, nn.neurons[n].position, nn.neurons[n].length, nn.neurons[n].area, nn.neurons[n].volume) for n in l0])"
   ]
  },
  {
   "cell_type": "code",
   "execution_count": null,
   "metadata": {},
   "outputs": [],
   "source": [
    "nn_l0.create_neurons(labels=l0, type=ntype, position=npos, length=nlen, area=narea, volume=nvol)\n",
    "\n",
    "for e in nn.connections.keys():\n",
    "    if e[0].name in l0 and e[1].name in l0:\n",
    "        conn_id = (nn_l0.neurons[e[0].name], nn_l0.neurons[e[1].name], e[2])\n",
    "        conn_data = nn.connections[e].neurotransmitter\n",
    "        nn_l0.connections.update( { conn_id: Connection(conn_id[0], conn_id[1], conn_id[2], neurotransmitter=conn_data) })"
   ]
  },
  {
   "cell_type": "code",
   "execution_count": null,
   "metadata": {},
   "outputs": [],
   "source": [
    "classes = {}\n",
    "for n in nn_l0.neurons:\n",
    "    if not nn_l0.neurons[n].type in classes:\n",
    "        classes[nn_l0.neurons[n].type] = []\n",
    "    classes[nn_l0.neurons[n].type].append(n)"
   ]
  },
  {
   "cell_type": "code",
   "execution_count": null,
   "metadata": {},
   "outputs": [],
   "source": [
    "cat_subnet = nn_l0.fold_network(classes, data='clean')"
   ]
  },
  {
   "cell_type": "code",
   "execution_count": null,
   "metadata": {},
   "outputs": [],
   "source": [
    "cat_subnet.remove_unconnected_neurons()"
   ]
  },
  {
   "cell_type": "code",
   "execution_count": null,
   "metadata": {},
   "outputs": [],
   "source": [
    "cat_subnet_filt = cat_subnet.subnetwork([n for n in cat_subnet.neurons if n=='LO' or n.split('.')[1] in l_subsets], as_view=True)"
   ]
  },
  {
   "cell_type": "code",
   "execution_count": null,
   "metadata": {},
   "outputs": [],
   "source": [
    "[n for n in cat_subnet_filt.neurons]"
   ]
  },
  {
   "cell_type": "code",
   "execution_count": null,
   "metadata": {},
   "outputs": [],
   "source": [
    "fig_ent = utils.plot_shell(cat_subnet_filt, save='fly_LO1.svg', shells=[[], [cat_subnet_filt.neurons[n] for n in cat_subnet_filt.neurons]], figsize=(8,8), width_logbase=10)"
   ]
  },
  {
   "cell_type": "code",
   "execution_count": null,
   "metadata": {},
   "outputs": [],
   "source": [
    "[n for n in cat_subnet.neurons], l_subsets"
   ]
  },
  {
   "cell_type": "code",
   "execution_count": null,
   "metadata": {},
   "outputs": [],
   "source": [
    "node_color = {}\n",
    "#for n in cat_subnet.neurons:\n",
    "for n in cat_subnet.neurons:\n",
    "    nsplit = n.split('.')\n",
    "    if len(nsplit)>1:\n",
    "        node_color[cat_subnet.neurons[n]] = colors[l_subsets.index(nsplit[1])]\n",
    "    else:\n",
    "        node_color[cat_subnet.neurons[n]] = colors[l_subsets.index('')]"
   ]
  },
  {
   "cell_type": "code",
   "execution_count": null,
   "metadata": {},
   "outputs": [],
   "source": [
    "nt_conn = {}\n",
    "for e, conn in cat_subnet.connections.items():\n",
    "    nt_conn[e] = set([conn.contraction_data[k].neurotransmitter['neurotransmitter'] for k in conn.contraction_data.keys()])"
   ]
  },
  {
   "cell_type": "code",
   "execution_count": null,
   "metadata": {},
   "outputs": [],
   "source": [
    "dop_conn"
   ]
  },
  {
   "cell_type": "code",
   "execution_count": null,
   "metadata": {},
   "outputs": [],
   "source": [
    "nname = 'LO.LOP'\n",
    "dop_conn = {k:'navy' if 'DA' in nt_conn[k] and (k[0].name == nname or k[1].name == nname) else 'lightgray' for k in nt_conn}"
   ]
  },
  {
   "cell_type": "code",
   "execution_count": null,
   "metadata": {},
   "outputs": [],
   "source": [
    "fig_ent = utils.plot_shell(cat_subnet, save='fly_LO_color.svg', shells=[[], [cat_subnet.neurons[n] for n in cat_subnet.neurons]], figsize=(8,8), width_logbase=10, edge_color_dict=dop_conn, node_color_dict=node_color)"
   ]
  },
  {
   "cell_type": "code",
   "execution_count": null,
   "metadata": {},
   "outputs": [],
   "source": [
    "thresNeurs"
   ]
  },
  {
   "cell_type": "code",
   "execution_count": null,
   "metadata": {},
   "outputs": [],
   "source": [
    "with open(\"Fly_LO_grouped.pkl\", 'wb') as pickle_file:\n",
    "    pickle.dump(cat_subnet, pickle_file, protocol=pickle.HIGHEST_PROTOCOL)"
   ]
  },
  {
   "cell_type": "code",
   "execution_count": null,
   "metadata": {},
   "outputs": [],
   "source": [
    "loom = sp.read_10x_h5(\"/Users/sahilmoza/Downloads/s_fca_biohub_head_10x.loom\")"
   ]
  },
  {
   "cell_type": "code",
   "execution_count": null,
   "metadata": {},
   "outputs": [],
   "source": [
    "with lp.connect(\"/Users/sahilmoza/Downloads/s_fca_biohub_head_10x.loom\") as ds:\n",
    "    # Get expression values for a specific gene\n",
    "    gene_expression = ds[ds.ra.Gene == \"Gene1\", :] \n",
    "    print(gene_expression)"
   ]
  },
  {
   "cell_type": "code",
   "execution_count": null,
   "metadata": {},
   "outputs": [],
   "source": [
    "f.save(\"./fly.pkl\")"
   ]
  },
  {
   "cell_type": "code",
   "execution_count": null,
   "metadata": {},
   "outputs": [],
   "source": [
    "mb0, mb1, mb2 = [], [], []\n",
    "for n in nlist:\n",
    "    if \"MB\" in n:\n",
    "        l_ = n.split(\".\")\n",
    "        mb0.append(n)\n",
    "        if len(l_)>2:\n",
    "            mb1.append(l_[1])\n",
    "            mb2.append(l_[2])\n",
    "        else:\n",
    "            mb1.append('')\n",
    "            mb2.append(l_[1])"
   ]
  },
  {
   "cell_type": "code",
   "execution_count": null,
   "metadata": {},
   "outputs": [],
   "source": [
    "nlist, npos = [], []\n",
    "for n in nn.neurons:\n",
    "    nlist.append(n) \n",
    "    npos.append(nn.neurons[n].position)\n",
    "\n",
    "npos = np.array(npos)"
   ]
  },
  {
   "cell_type": "code",
   "execution_count": null,
   "metadata": {},
   "outputs": [],
   "source": [
    "mb_subsets = list(set(mb1))\n",
    "cols_ind = []\n",
    "alpha_ind= []\n",
    "for n in nlist:\n",
    "    if n in mb0:        \n",
    "        cols_ind.append(mb_subsets.index(mb1[mb0.index(n)]))\n",
    "        alpha_ind.append(0)\n",
    "    else:\n",
    "        cols_ind.append(len(mb_subsets))\n",
    "        alpha_ind.append(1)"
   ]
  },
  {
   "cell_type": "code",
   "execution_count": null,
   "metadata": {},
   "outputs": [],
   "source": [
    "colors = plt.cm.tab20(np.arange(len(mb_subsets)))\n",
    "colors = np.append(colors, [[0.5,0.5,0.5,1]], axis=0)\n",
    "alpha_arr = [1,3e-2]\n",
    "\n",
    "cols = colors[cols_ind]\n",
    "alpha = [alpha_arr[a] for a in alpha_ind]\n",
    "labels = [mb_subsets[j] if j<len(mb_subsets) else 'Other' for j in cols_ind]"
   ]
  },
  {
   "cell_type": "code",
   "execution_count": null,
   "metadata": {},
   "outputs": [],
   "source": [
    "%matplotlib inline\n",
    "fig, ax = plt.subplots(figsize=(6,6), layout='constrained')\n",
    "ax.set_aspect('equal')\n",
    "scatter = ax.scatter(npos[:,0], npos[:,1], s=1, c=cols, alpha=alpha, label=labels)\n",
    "# legend1 = f.legend(*scatter.legend_elements(num=2),\n",
    "#                     loc=\"outside upper center\", fontsize=72)\n",
    "# f.add_artist(legend1)\n",
    "ax.axis('off')\n",
    "plt.savefig(\"./fly-MB.png\")\n",
    "plt.close()"
   ]
  },
  {
   "cell_type": "code",
   "execution_count": null,
   "metadata": {},
   "outputs": [],
   "source": [
    "npos[:,0]"
   ]
  },
  {
   "cell_type": "code",
   "execution_count": null,
   "metadata": {},
   "outputs": [],
   "source": []
  }
 ],
 "metadata": {
  "language_info": {
   "name": "python"
  }
 },
 "nbformat": 4,
 "nbformat_minor": 2
}
