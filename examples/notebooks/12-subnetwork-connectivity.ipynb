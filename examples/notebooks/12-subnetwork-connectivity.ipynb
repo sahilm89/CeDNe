{
 "cells": [
  {
   "cell_type": "markdown",
   "metadata": {},
   "source": [
    "## Here we are interested in looking at the connectivity between several neurons in the network."
   ]
  },
  {
   "cell_type": "code",
   "execution_count": null,
   "metadata": {},
   "outputs": [],
   "source": [
    "from cedne import utils"
   ]
  },
  {
   "cell_type": "code",
   "execution_count": null,
   "metadata": {},
   "outputs": [],
   "source": [
    "w = utils.makeWorm()\n",
    "nn = w.networks[\"Neutral\"]\n",
    "# utils.loadNeuropeptides(nn)\n",
    "# utils.loadNeurotransmitters(nn)\n",
    "# utils.loadGapJunctions(nn)"
   ]
  },
  {
   "cell_type": "markdown",
   "metadata": {},
   "source": [
    "### Folding the network with some exceptions, avoiding self loops added if the neurons of the same class connect with each other."
   ]
  },
  {
   "cell_type": "code",
   "execution_count": null,
   "metadata": {},
   "outputs": [],
   "source": [
    "nn_folded = utils.foldByNeuronType(nn, exceptions=['ASEL', 'ASER', 'RMDDL', 'RMDDR'], self_loops=False)"
   ]
  },
  {
   "cell_type": "code",
   "execution_count": null,
   "metadata": {},
   "outputs": [],
   "source": [
    "neurons_of_interest = ['AVA', 'RMDDL', 'RMDDR', 'RME', 'ADF', 'AWA', 'ASEL', 'AWC', 'ADA', 'AIN', 'RIR', 'OLL']"
   ]
  },
  {
   "cell_type": "code",
   "execution_count": null,
   "metadata": {},
   "outputs": [],
   "source": [
    "g = nn_folded.subnetwork(neurons_of_interest, as_view=False)"
   ]
  },
  {
   "cell_type": "code",
   "execution_count": null,
   "metadata": {},
   "outputs": [],
   "source": [
    "#shells = [[n for n in g.neurons if nn_folded.neurons[n].type == ntype] for ntype in ['sensory', 'interneuron', 'motorneuron']]\n",
    "center = [n for n in g.neurons if nn_folded.neurons[n].type == 'sensory']\n",
    "#utils.plot_shell(g, center=center)\n",
    "conns = [(conn[0].name, conn[1].name) for conn in g.edges]\n",
    "utils.plot_layered(conns, g, nodeColors={}, edgeColors='gray')"
   ]
  },
  {
   "cell_type": "code",
   "execution_count": null,
   "metadata": {},
   "outputs": [],
   "source": []
  }
 ],
 "metadata": {
  "language_info": {
   "name": "python"
  }
 },
 "nbformat": 4,
 "nbformat_minor": 2
}
