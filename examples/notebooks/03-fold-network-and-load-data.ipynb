{
 "cells": [
  {
   "cell_type": "markdown",
   "metadata": {},
   "source": [
    "# Fold network and load data in the neurons"
   ]
  },
  {
   "cell_type": "markdown",
   "metadata": {},
   "source": [
    "\n",
    "While there are whole organism based datasets are increasingly becoming common for C elegans, several datasets are not currently available for every individual worm neuron, but a subset. Even for whole organism level datasets, data can often be found organized by neuron classes.\n",
    "For example, datasets can be found with neuron class based on left/right position (AWCL and AWCR into AWC), or by dorsal and ventral position (RMEDL/RMEVL), or by lineage/function (e.g. amphids or ventral cord neurons (VC)) or by some combination of these. Here we show by taking the example of the CENGEN dataset how the network can be folded across these axes, preserving the data and combining the connections across the axis of folding."
   ]
  },
  {
   "cell_type": "code",
   "execution_count": null,
   "metadata": {},
   "outputs": [],
   "source": [
    "### How are the neurotransmitter release ligands defined?"
   ]
  },
  {
   "cell_type": "code",
   "execution_count": null,
   "metadata": {},
   "outputs": [],
   "source": [
    "from cedne import utils\n",
    "import pandas as pd\n",
    "import matplotlib\n",
    "import matplotlib.patches as mpatches\n",
    "import numpy as np"
   ]
  },
  {
   "cell_type": "markdown",
   "metadata": {},
   "source": [
    "## Specify worm parameters"
   ]
  },
  {
   "cell_type": "code",
   "execution_count": null,
   "metadata": {},
   "outputs": [],
   "source": [
    "w = utils.makeWorm()\n",
    "\n",
    "## Optional parameters\n",
    "w.stage='L4'\n",
    "w.sex='Hermaphrodite'\n",
    "w.genotype='N2'\n",
    "\n",
    "## Neural network for this worm\n",
    "nn = w.networks['Neutral']"
   ]
  },
  {
   "cell_type": "markdown",
   "metadata": {},
   "source": [
    "## Loading CENGEN data into a dataframe (Using threshold 4 data)"
   ]
  },
  {
   "cell_type": "code",
   "execution_count": null,
   "metadata": {},
   "outputs": [],
   "source": [
    "transcripts = pd.read_csv(utils.thres_4,encoding= 'unicode_escape', index_col=1).drop(['Wormbase_ID','Unnamed: 0'], axis = 'columns')"
   ]
  },
  {
   "cell_type": "markdown",
   "metadata": {},
   "source": [
    "## Creating the folding dictionary"
   ]
  },
  {
   "cell_type": "markdown",
   "metadata": {},
   "source": [
    "The folding dictionary has the class name as the key and a list of neuron names that belong to that class as the values.\n",
    "All the neurons in the values of this dictionary will be folded together into a single \"class neuron\" with its connections and \n",
    "attributes being the union of the connections and attributes of its member neurons.\n",
    "Folding dictionaries can also be created by loading from a csv file. \n",
    "\n",
    "**Note that AWC_OFF has been mapped to AWCL and AWC_ON to AWCR for the graph.**"
   ]
  },
  {
   "cell_type": "code",
   "execution_count": null,
   "metadata": {},
   "outputs": [],
   "source": [
    "suffixes = ['', 'D', 'V', 'L', 'R', 'DL', 'DR', 'VL', 'VR', '01', '02', '03', '04', '05', '06', '07', '08', '09', '10', '11', '12', '13']\n",
    "neuron_class = {}\n",
    "for n in transcripts.columns:\n",
    "    neuron_class[n] = []\n",
    "    for s in suffixes:\n",
    "        if (n+s) in nn.neurons:\n",
    "            neuron_class[n].append(n+s)\n",
    "    if n == 'AWC_OFF':\n",
    "        neuron_class[n].append('AWCL')\n",
    "    if n == 'AWC_ON':\n",
    "        neuron_class[n].append('AWCR')\n",
    "    if n == 'VD_DD':\n",
    "        for m in nn.neurons:\n",
    "            if m.startswith('VD') or m.startswith('DD'):\n",
    "                neuron_class[n].append(m)\n",
    "    if n == 'RME_LR':\n",
    "        for m in nn.neurons:\n",
    "            if m == 'RMEL' or m == 'RMER':\n",
    "                neuron_class[n].append(m)\n",
    "    if n == 'RME_DV':\n",
    "        for m in nn.neurons:\n",
    "            if m == 'RMED' or m == 'RMEV':\n",
    "                neuron_class[n].append(m)\n",
    "    if n == 'RMD_LR':\n",
    "        for m in nn.neurons:\n",
    "            if m == 'RMDL' or m == 'RMDR':\n",
    "                neuron_class[n].append(m)\n",
    "    if n == 'RMD_DV':\n",
    "        for m in nn.neurons:\n",
    "            if m.startswith('RMDD') or m.startswith('RMDV'):\n",
    "                neuron_class[n].append(m)\n",
    "    if n == 'IL2_LR':\n",
    "        for m in nn.neurons:\n",
    "            if m == 'IL2L' or m == 'IL2R':\n",
    "                neuron_class[n].append(m)\n",
    "    if n == 'IL2_DV':\n",
    "        for m in nn.neurons:\n",
    "            if m.startswith('IL2D') or m.startswith('IL2V'):\n",
    "                neuron_class[n].append(m)\n",
    "\n",
    "for p in ['DA09']:\n",
    "    neuron_class['DA'].remove(p)\n",
    "for p in ['VB01', 'VB02']:\n",
    "    neuron_class['VB'].remove(p)\n",
    "for p in ['VC04', 'VC05']:\n",
    "    neuron_class['VC'].remove(p)\n",
    "for p in ['DB01']:\n",
    "    neuron_class['DB'].remove(p) \n",
    "for p in ['VA12']:\n",
    "    neuron_class['VA'].remove(p)\n",
    "\n",
    "neuron_class['VC_4_5'] = ['VC04', 'VC05']\n",
    "neuron_class['DA9'] = ['DA09']"
   ]
  },
  {
   "cell_type": "code",
   "execution_count": null,
   "metadata": {},
   "outputs": [],
   "source": [
    "neuron_class"
   ]
  },
  {
   "cell_type": "code",
   "execution_count": null,
   "metadata": {},
   "outputs": [],
   "source": [
    "nn.nodes"
   ]
  },
  {
   "cell_type": "markdown",
   "metadata": {},
   "source": [
    "## Folding the network"
   ]
  },
  {
   "cell_type": "code",
   "execution_count": null,
   "metadata": {},
   "outputs": [],
   "source": [
    "nn_folded = nn.fold_network(neuron_class)"
   ]
  },
  {
   "cell_type": "markdown",
   "metadata": {},
   "source": [
    "## Loading cengen transcripts into the network"
   ]
  },
  {
   "cell_type": "code",
   "execution_count": null,
   "metadata": {},
   "outputs": [],
   "source": [
    "for n in nn_folded.neurons:\n",
    "    nn_folded.neurons[n].set_property('transcript', transcripts[n])"
   ]
  },
  {
   "cell_type": "code",
   "execution_count": null,
   "metadata": {},
   "outputs": [],
   "source": [
    "## Giving the sex specific neurons an interneuron type for positioning on graph.\n",
    "sex_neurons = ['CAN']\n",
    "for n in nn_folded.neurons:\n",
    "    if n in sex_neurons:\n",
    "        nn_folded.neurons[n].type = 'interneuron'"
   ]
  },
  {
   "cell_type": "markdown",
   "metadata": {},
   "source": [
    "## Plotting the network with the CENGEN transcript data"
   ]
  },
  {
   "cell_type": "code",
   "execution_count": null,
   "metadata": {},
   "outputs": [],
   "source": [
    "nn.edges"
   ]
  },
  {
   "cell_type": "code",
   "execution_count": null,
   "metadata": {},
   "outputs": [],
   "source": [
    "transcript_name = 'gpa-4'\n",
    "save = False #outputDir + transcript_name + '.pdf'\n",
    "conns = [(e[0].name, e[1].name) for e in nn_folded.edges]\n",
    "connNodes = list(nn_folded.neurons.keys())\n",
    "nodeColors = {n:('orange' if nn_folded.neurons[n].transcript[transcript_name]>0 else 'lightgray') for n in connNodes}\n",
    "\n",
    "pos = utils.plot_layered(conns, neunet=nn_folded, nodeColors=nodeColors, title= '', save= save)"
   ]
  },
  {
   "cell_type": "markdown",
   "metadata": {},
   "source": [
    "ASI looks interesting..."
   ]
  },
  {
   "cell_type": "markdown",
   "metadata": {},
   "source": [
    "## Plotting the subnetwork of the neuron 'ASI'"
   ]
  },
  {
   "cell_type": "code",
   "execution_count": null,
   "metadata": {},
   "outputs": [],
   "source": [
    "conns = nn_folded.neurons['ASI'].get_connections()\n",
    "g = nn_folded.subnetwork(connections=conns, as_view=False)\n",
    "asi_fig = utils.plot_shell(g, center='ASI', figsize=(6,6))"
   ]
  },
  {
   "cell_type": "code",
   "execution_count": null,
   "metadata": {},
   "outputs": [],
   "source": [
    "### Put the synapse number on the edges, gap junction. edge weight as the number of synapses."
   ]
  },
  {
   "cell_type": "markdown",
   "metadata": {},
   "source": [
    "## Fold by category in the network."
   ]
  },
  {
   "cell_type": "code",
   "execution_count": null,
   "metadata": {},
   "outputs": [],
   "source": [
    "utils.loadNeurotransmitters(nn)"
   ]
  },
  {
   "cell_type": "code",
   "execution_count": null,
   "metadata": {},
   "outputs": [],
   "source": [
    "by_category = {}\n",
    "for n in nn.neurons:\n",
    "    if not nn.neurons[n].category in by_category: \n",
    "        by_category[nn.neurons[n].category] = []\n",
    "    by_category[nn.neurons[n].category].append(n)"
   ]
  },
  {
   "cell_type": "code",
   "execution_count": null,
   "metadata": {},
   "outputs": [],
   "source": [
    "nn_cat = nn.fold_network(by_category, data='clean')"
   ]
  },
  {
   "cell_type": "code",
   "execution_count": null,
   "metadata": {},
   "outputs": [],
   "source": [
    "edges = list(nn_cat.connections.keys())\n",
    "for e in edges:\n",
    "    c = nn_cat.connections[e]\n",
    "    if c.connection_type != 'chemical-synapse':\n",
    "        nn_cat.connections.pop(e)"
   ]
  },
  {
   "cell_type": "code",
   "execution_count": null,
   "metadata": {},
   "outputs": [],
   "source": [
    "fig_ent = utils.plot_shell(nn_cat, save='chemical-synapses-grouped.svg', shells=[[], [nn_cat.neurons[n] for n in nn_cat.neurons]], figsize=(8,8), width_logbase=10)"
   ]
  },
  {
   "cell_type": "code",
   "execution_count": null,
   "metadata": {},
   "outputs": [],
   "source": [
    "edge_nt = {}\n",
    "for e,c in nn_cat.connections.items():\n",
    "    for cid, conn in c.contraction_data.items():\n",
    "        if(conn.connection_type) == 'chemical-synapse':\n",
    "            if len(conn.putative_neurotrasmitter_receptors):\n",
    "                if all([isinstance(ntrec,str) for ntrec in set(list(zip(*conn.putative_neurotrasmitter_receptors))[0])]):\n",
    "                    edge_nt[e] = '_'.join(set(list(zip(*conn.putative_neurotrasmitter_receptors))[0]))\n",
    "                else:\n",
    "                    edge_nt[e] = 'others'\n",
    "            else:\n",
    "                    edge_nt[e] = 'others'\n",
    "        else:\n",
    "                    edge_nt[e] = 'others'"
   ]
  },
  {
   "cell_type": "code",
   "execution_count": null,
   "metadata": {},
   "outputs": [],
   "source": [
    "for e,c in nn_cat.connections.items():\n",
    "    print(e,c.connection_type)\n",
    "    for cid, conn in c.contraction_data.items():\n",
    "        pass"
   ]
  },
  {
   "cell_type": "code",
   "execution_count": null,
   "metadata": {},
   "outputs": [],
   "source": [
    "setedge_nt = set(edge_nt.values())\n",
    "setedge_nt.remove('others')\n",
    "set_edge_nt = list(setedge_nt) + ['others']\n",
    "edge_cm = list(matplotlib.cm.plasma(np.linspace(0,1,len(set_edge_nt)-1))) + [np.array(matplotlib.colors.to_rgba('gray'))]\n",
    "edge_color_dict = {eid:edge_cm[set_edge_nt.index(ent)] for eid, ent in edge_nt.items()}\n",
    "edge_alpha_dict = {eid:1 for eid, ent in edge_nt.items()}\n",
    "handles = [mpatches.Patch(color=color, label=label) for color, label in zip(edge_cm, set_edge_nt)]"
   ]
  },
  {
   "cell_type": "code",
   "execution_count": null,
   "metadata": {},
   "outputs": [],
   "source": [
    "fig_ent = utils.plot_shell(nn_cat, shells=[[], [nn_cat.neurons[n] for n in nn_cat.neurons]], figsize=(12,12), width_logbase=10, edge_color_dict=edge_color_dict, edge_alpha_dict=edge_alpha_dict, handles=handles)"
   ]
  },
  {
   "cell_type": "code",
   "execution_count": null,
   "metadata": {},
   "outputs": [],
   "source": [
    "set_edge_nt[:-1]"
   ]
  },
  {
   "cell_type": "code",
   "execution_count": null,
   "metadata": {},
   "outputs": [],
   "source": [
    "edge_color_dict"
   ]
  },
  {
   "cell_type": "code",
   "execution_count": null,
   "metadata": {},
   "outputs": [],
   "source": [
    "handle_dict = {ent:edge_cm[set_edge_nt.index(ent)] for eid, ent in edge_nt.items() if nt in ent}\n",
    "handle_dict['others'] = edge_cm[-1]\n",
    "handles = [mpatches.Patch(color=color, label=label) for label,color in handle_dict.items()]\n",
    "print(handles)"
   ]
  },
  {
   "cell_type": "code",
   "execution_count": null,
   "metadata": {},
   "outputs": [],
   "source": [
    "for nt in set_edge_nt[:-1]:\n",
    "    edge_color_dict = {eid:edge_cm[set_edge_nt.index(ent)] if nt in ent else edge_cm[-1] for eid, ent in edge_nt.items()}\n",
    "    edge_alpha_dict = {eid:1 if nt in ent else 0.1 for eid, ent in edge_nt.items()}\n",
    "    handle_dict = {ent:edge_cm[set_edge_nt.index(ent)] for eid, ent in edge_nt.items() if nt in ent}\n",
    "    handle_dict['others'] = edge_cm[-1] \n",
    "    handles = [mpatches.Patch(color=color, label=label) for label,color in handle_dict.items()]\n",
    "    # handles = [mpatches.Patch(color=color, label=label) for color, label in zip([edge_cm[set_edge_nt.index(nt)], edge_cm[-1]], [nt, 'others'])]\n",
    "    fig_ent = utils.plot_shell(nn_cat, shells=[[], [nn_cat.neurons[n] for n in nn_cat.neurons]], figsize=(8,8), width_logbase=10, edge_color_dict=edge_color_dict, edge_alpha_dict=edge_alpha_dict, handles=handles, save=f\"grouped-{nt}_new.svg\")"
   ]
  },
  {
   "cell_type": "code",
   "execution_count": null,
   "metadata": {},
   "outputs": [],
   "source": []
  },
  {
   "cell_type": "code",
   "execution_count": null,
   "metadata": {},
   "outputs": [],
   "source": []
  }
 ],
 "metadata": {
  "language_info": {
   "name": "python"
  }
 },
 "nbformat": 4,
 "nbformat_minor": 2
}
