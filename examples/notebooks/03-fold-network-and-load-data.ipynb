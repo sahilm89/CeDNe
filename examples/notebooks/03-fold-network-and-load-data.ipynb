{
 "cells": [
  {
   "cell_type": "markdown",
   "metadata": {},
   "source": [
    "# Fold network and load data in the neurons"
   ]
  },
  {
   "cell_type": "markdown",
   "metadata": {},
   "source": [
    "\n",
    "While there are whole organism based datasets are increasingly becoming common for C elegans, several datasets are not currently available for every individual worm neuron, but a subset. Even for whole organism level datasets, data can often be found organized by neuron classes.\n",
    "For example, datasets can be found with neuron class based on left/right position (AWCL and AWCR into AWC), or by dorsal and ventral position (RMEDL/RMEVL), or by lineage/function (e.g. amphids or ventral cord neurons (VC)) or by some combination of these. Here we show by taking the example of the CENGEN dataset how the network can be folded across these axes, preserving the data and combining the connections across the axis of folding."
   ]
  },
  {
   "cell_type": "code",
   "execution_count": null,
   "metadata": {},
   "outputs": [],
   "source": [
    "from cedne import utils\n",
    "import pandas as pd"
   ]
  },
  {
   "cell_type": "markdown",
   "metadata": {},
   "source": [
    "## Specify worm parameters"
   ]
  },
  {
   "cell_type": "code",
   "execution_count": null,
   "metadata": {},
   "outputs": [],
   "source": [
    "w = utils.makeWorm()\n",
    "\n",
    "## Optional parameters\n",
    "w.stage='L4'\n",
    "w.sex='Hermaphrodite'\n",
    "w.genotype='N2'\n",
    "\n",
    "## Neural network for this worm\n",
    "nn = w.networks['Neutral']"
   ]
  },
  {
   "cell_type": "markdown",
   "metadata": {},
   "source": [
    "## Loading CENGEN data into a dataframe (Using threshold 4 data)"
   ]
  },
  {
   "cell_type": "code",
   "execution_count": null,
   "metadata": {},
   "outputs": [],
   "source": [
    "transcripts = pd.read_csv(utils.thres_4,encoding= 'unicode_escape', index_col=1).drop(['Wormbase_ID','Unnamed: 0'], axis = 'columns')"
   ]
  },
  {
   "cell_type": "markdown",
   "metadata": {},
   "source": [
    "## Creating the folding dictionary"
   ]
  },
  {
   "cell_type": "markdown",
   "metadata": {},
   "source": [
    "The folding dictionary has the class name as the key and a list of neuron names that belong to that class as the values.\n",
    "All the neurons in the values of this dictionary will be folded together into a single \"class neuron\" with its connections and \n",
    "attributes being the union of the connections and attributes of its member neurons.\n",
    "Folding dictionaries can also be created by loading from a csv file. \n",
    "\n",
    "**Note that AWC_OFF has been mapped to AWCL and AWC_ON to AWCR for the graph.**"
   ]
  },
  {
   "cell_type": "code",
   "execution_count": null,
   "metadata": {},
   "outputs": [],
   "source": [
    "suffixes = ['', 'D', 'V', 'L', 'R', 'DL', 'DR', 'VL', 'VR', '01', '02', '03', '04', '05', '06', '07', '08', '09', '10', '11', '12', '13']\n",
    "neuron_class = {}\n",
    "for n in transcripts.columns:\n",
    "    neuron_class[n] = []\n",
    "    for s in suffixes:\n",
    "        if (n+s) in nn.neurons:\n",
    "            neuron_class[n].append(n+s)\n",
    "    if n == 'AWC_OFF':\n",
    "        neuron_class[n].append('AWCL')\n",
    "    if n == 'AWC_ON':\n",
    "        neuron_class[n].append('AWCR')\n",
    "    if n == 'VD_DD':\n",
    "        for m in nn.neurons:\n",
    "            if m.startswith('VD') or m.startswith('DD'):\n",
    "                neuron_class[n].append(m)\n",
    "    if n == 'RME_LR':\n",
    "        for m in nn.neurons:\n",
    "            if m == 'RMEL' or m == 'RMER':\n",
    "                neuron_class[n].append(m)\n",
    "    if n == 'RME_DV':\n",
    "        for m in nn.neurons:\n",
    "            if m == 'RMED' or m == 'RMEV':\n",
    "                neuron_class[n].append(m)\n",
    "    if n == 'RMD_LR':\n",
    "        for m in nn.neurons:\n",
    "            if m == 'RMDL' or m == 'RMDR':\n",
    "                neuron_class[n].append(m)\n",
    "    if n == 'RMD_DV':\n",
    "        for m in nn.neurons:\n",
    "            if m.startswith('RMDD') or m.startswith('RMDV'):\n",
    "                neuron_class[n].append(m)\n",
    "    if n == 'IL2_LR':\n",
    "        for m in nn.neurons:\n",
    "            if m == 'IL2L' or m == 'IL2R':\n",
    "                neuron_class[n].append(m)\n",
    "    if n == 'IL2_DV':\n",
    "        for m in nn.neurons:\n",
    "            if m.startswith('IL2D') or m.startswith('IL2V'):\n",
    "                neuron_class[n].append(m)\n",
    "\n",
    "for p in ['DA09']:\n",
    "    neuron_class['DA'].remove(p)\n",
    "for p in ['VB01', 'VB02']:\n",
    "    neuron_class['VB'].remove(p)\n",
    "for p in ['VC04', 'VC05']:\n",
    "    neuron_class['VC'].remove(p)\n",
    "for p in ['DB01']:\n",
    "    neuron_class['DB'].remove(p) \n",
    "for p in ['VA12']:\n",
    "    neuron_class['VA'].remove(p)\n",
    "\n",
    "neuron_class['VC_4_5'] = ['VC04', 'VC05']\n",
    "neuron_class['DA9'] = ['DA09']"
   ]
  },
  {
   "cell_type": "code",
   "execution_count": null,
   "metadata": {},
   "outputs": [],
   "source": [
    "neuron_class"
   ]
  },
  {
   "cell_type": "markdown",
   "metadata": {},
   "source": [
    "## Folding the network"
   ]
  },
  {
   "cell_type": "code",
   "execution_count": null,
   "metadata": {},
   "outputs": [],
   "source": [
    "nn.fold_network(neuron_class)"
   ]
  },
  {
   "cell_type": "markdown",
   "metadata": {},
   "source": [
    "## Loading cengen transcripts into the network"
   ]
  },
  {
   "cell_type": "code",
   "execution_count": null,
   "metadata": {},
   "outputs": [],
   "source": [
    "for n in nn.neurons:\n",
    "    nn.neurons[n].set_property('transcript', transcripts[n])"
   ]
  },
  {
   "cell_type": "code",
   "execution_count": null,
   "metadata": {},
   "outputs": [],
   "source": [
    "## Giving the sex specific neurons an interneuron type for positioning on graph.\n",
    "sex_neurons = ['CAN']\n",
    "for n in nn.neurons:\n",
    "    if n in sex_neurons:\n",
    "        nn.neurons[n].type = 'interneuron'"
   ]
  },
  {
   "cell_type": "markdown",
   "metadata": {},
   "source": [
    "## Plotting the network with the CENGEN transcript data"
   ]
  },
  {
   "cell_type": "code",
   "execution_count": null,
   "metadata": {},
   "outputs": [],
   "source": [
    "transcript_name = 'gpa-4'\n",
    "save = False #outputDir + transcript_name + '.pdf'\n",
    "conns = [(e[0].name, e[1].name) for e in nn.edges]\n",
    "connNodes = list(nn.neurons.keys())\n",
    "nodeColors = {n:('orange' if nn.neurons[n].transcript[transcript_name]>0 else 'lightgray') for n in connNodes}\n",
    "\n",
    "pos = utils.plot_layered(conns, neunet=nn, nodeColors=nodeColors, title= '', save= save)"
   ]
  },
  {
   "cell_type": "markdown",
   "metadata": {},
   "source": [
    "ASI looks interesting..."
   ]
  },
  {
   "cell_type": "markdown",
   "metadata": {},
   "source": [
    "## Plotting the subnetwork of the neuron 'ASI'"
   ]
  },
  {
   "cell_type": "code",
   "execution_count": null,
   "metadata": {},
   "outputs": [],
   "source": [
    "conns = nn.neurons['ASI'].get_connections()\n",
    "g = nn.subnetwork(connections=conns, as_view=True)\n",
    "utils.plot_shell(g, center='ASI')"
   ]
  },
  {
   "cell_type": "code",
   "execution_count": null,
   "metadata": {},
   "outputs": [],
   "source": [
    "for c in conns:\n",
    "    print(c[0].name, c[1].name, c[2])"
   ]
  },
  {
   "cell_type": "code",
   "execution_count": null,
   "metadata": {},
   "outputs": [],
   "source": [
    "utils.plot_shell(g, center='ASI')"
   ]
  },
  {
   "cell_type": "code",
   "execution_count": null,
   "metadata": {},
   "outputs": [],
   "source": [
    "for e in nn.edges:\n",
    "    if e[0].name == 'ASI' or e[1].name == 'ASI':\n",
    "        print(e[0].name, e[1].name, e[2])"
   ]
  },
  {
   "cell_type": "code",
   "execution_count": null,
   "metadata": {},
   "outputs": [],
   "source": []
  }
 ],
 "metadata": {
  "language_info": {
   "name": "python"
  }
 },
 "nbformat": 4,
 "nbformat_minor": 2
}
