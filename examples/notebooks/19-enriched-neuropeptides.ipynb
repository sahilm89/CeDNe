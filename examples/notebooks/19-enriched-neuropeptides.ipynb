{
 "cells": [
  {
   "cell_type": "code",
   "execution_count": null,
   "metadata": {},
   "outputs": [],
   "source": [
    "from cedne import cedne\n",
    "from cedne import utils\n",
    "import numpy as np\n",
    "import matplotlib.pyplot as plt"
   ]
  },
  {
   "cell_type": "code",
   "execution_count": null,
   "metadata": {},
   "outputs": [],
   "source": [
    "w = utils.makeWorm()\n",
    "nn = w.networks[\"Neutral\"]\n",
    "# nprc = 'NTC_1_NTR_1'\n",
    "# utils.loadNeuropeptides(w, neuropeps=nprc)\n",
    "utils.loadNeuropeptides(nn)"
   ]
  },
  {
   "cell_type": "code",
   "execution_count": null,
   "metadata": {},
   "outputs": [],
   "source": [
    "# sigNeurList_corrdiff = ['ADFL',\n",
    "#                         'ADFR',\n",
    "#   'ASEL',\n",
    "#   'AWAL',\n",
    "#   'AWAR'\n",
    "#   'AWCL',\n",
    "#   'AWCR'\n",
    "#   'ASGL',\n",
    "#   'ASGR'\n",
    "#   'URYDL',\n",
    "#   'URYDR',\n",
    "#   'ADAL',\n",
    "#   'ADAR',\n",
    "#   'AIML'\n",
    "#   'AIMR'\n",
    "#   'RIML',\n",
    "#   'RIMR',\n",
    "#   'RMEL', \n",
    "#   'RMER']"
   ]
  },
  {
   "cell_type": "code",
   "execution_count": null,
   "metadata": {},
   "outputs": [],
   "source": [
    "sigNeurList_corrdiff = [\n",
    "  'ASEL',\n",
    "  'AWCL',\n",
    "  'AWCR',\n",
    "  'AIAL',\n",
    "  'AIAR',\n",
    "  'AIBL',\n",
    "  'AIBR',\n",
    "  'AIYL',\n",
    "  'AIYR',\n",
    "  'AIZL',\n",
    "  'AIZR',\n",
    "  'RIAL',\n",
    "  'RIAR',\n",
    "]"
   ]
  },
  {
   "cell_type": "code",
   "execution_count": null,
   "metadata": {},
   "outputs": [],
   "source": [
    "sigNeurList_corrdiff = [n for n in nn.neurons if nn.neurons[n].category in [\"head motor neuron\", \"sublateral motor neuron\", \"SN6\"]]"
   ]
  },
  {
   "cell_type": "code",
   "execution_count": null,
   "metadata": {},
   "outputs": [],
   "source": [
    "for e, c in nn.neurons['ADAL'].get_connections(direction='in').items():\n",
    "    print(e, c.connection_type)"
   ]
  },
  {
   "cell_type": "code",
   "execution_count": null,
   "metadata": {},
   "outputs": [],
   "source": [
    "len(sigNeurList_corrdiff)"
   ]
  },
  {
   "cell_type": "code",
   "execution_count": null,
   "metadata": {},
   "outputs": [],
   "source": [
    "plotList = sigNeurList_corrdiff\n",
    "nps, nps_base = [], []\n",
    "num_rands = 1000\n",
    "for e,c in nn.connections.items():\n",
    "    if not c.connection_type  in ['chemical-synapse', 'gap-junction']:\n",
    "        nps_base.append(c.connection_type)\n",
    "        if e[1].name in plotList:\n",
    "                nps.append(c.connection_type)\n",
    "\n",
    "nps_random = []\n",
    "for j in np.random.randint(0, len(nn.neurons), (num_rands,len(plotList))):\n",
    "    rand_neuropeps = []\n",
    "    rand_plotlist = [list(nn.neurons)[n] for n in j]\n",
    "    for v in rand_plotlist:\n",
    "        for e,c in nn.neurons[v].get_connections(direction='in').items():\n",
    "            if not c.connection_type  in ['chemical-synapse', 'gap-junction']: \n",
    "                rand_neuropeps.append(c.connection_type)\n",
    "    nps_random.append(rand_neuropeps)\n",
    "\n",
    "perc_NP = {}\n",
    "perc_NP_base = {}\n",
    "perc_NP_random = {}\n",
    "\n",
    "val_NP = {}\n",
    "val_NP_base = {}\n",
    "val_NP_random = {}\n",
    "for n in set(nps):\n",
    "    perc_NP[n] = len([n1 for n1 in nps if n1 == n])*100/len(nps)\n",
    "    perc_NP_base[n] = len([n1 for n1 in nps_base if n1 == n])*100/len(nps_base) \n",
    "    perc_NP_random[n] = [len([n1 for n1 in nps_rand if n1 == n])*100/len(nps_rand) for nps_rand in nps_random]\n",
    "\n",
    "    val_NP[n] = len([n1 for n1 in nps if n1 == n])\n",
    "    val_NP_base[n] = len([n1 for n1 in nps_base if n1 == n])\n",
    "    val_NP_random[n] = [len([n1 for n1 in nps_rand if n1 == n]) for nps_rand in nps_random]\n",
    "\n",
    "neurpep, percval = zip(*sorted(perc_NP.items(), key=lambda x:x[1], reverse=True))\n",
    "percval_base = [perc_NP_base[n] for n in neurpep]\n",
    "percval_random_mu = [np.mean(perc_NP_random[n]) for n in neurpep]\n",
    "percval_random_sigma = [np.std(perc_NP_random[n]) for n in neurpep]\n",
    "\n",
    "val = [val_NP[n] for n in neurpep]  \n",
    "val_base = [val_NP_base[n] for n in neurpep] \n"
   ]
  },
  {
   "cell_type": "code",
   "execution_count": null,
   "metadata": {},
   "outputs": [],
   "source": [
    "from scipy.stats import norm\n",
    "from statsmodels.stats.multitest import multipletests"
   ]
  },
  {
   "cell_type": "code",
   "execution_count": null,
   "metadata": {},
   "outputs": [],
   "source": [
    "# zscore_sig_thres = 2.326\n",
    "p_thres = 0.05\n",
    "\n",
    "f, ax = plt.subplots(figsize=(21,3))\n",
    "ax.scatter(range(len(neurpep)), percval, color='orange')\n",
    "# ax.scatter(range(len(neurpep)), percval_base, color='k')\n",
    "ax.errorbar(range(len(neurpep)), percval_random_mu, yerr= percval_random_sigma, color='gray', linestyle='None', marker='o')\n",
    "\n",
    "zscores = [(percval[l]- percval_random_mu[l])/percval_random_sigma[l] for l in np.arange(len(neurpep))]\n",
    "p_values_right = 1 - norm.cdf(zscores)\n",
    "# _, p_bh_right, _, _ = multipletests(p_values_right, method='bonferroni')\n",
    "_, p_bh_right, _, _ = multipletests(p_values_right, method='fdr_bh')\n",
    "\n",
    "#zscore_sig = np.where(np.array([(percval[l]- percval_random_mu[l])/percval_random_sigma[l] for l in np.arange(len(neurpep))])>zscore_sig_thres)[0]\n",
    "zscore_sig = np.where(p_bh_right<p_thres)[0]\n",
    "for x in zscore_sig:\n",
    "        ax.text(x=x, y=16, s=\"*\", color='k', ha='center')\n",
    "utils.simpleaxis(ax)\n",
    "ax.set_xticks(range(len(neurpep)), labels=neurpep, rotation=45, horizontalalignment='right')\n",
    "\n",
    "labels = ax.get_xticklabels()\n",
    "ax.set_ylabel(\"% incoming neuropeptidergic\\n connections\")\n",
    "\n",
    "ax.set_yticks([0,8,16])\n",
    "# Make specific labels bold\n",
    "for x in zscore_sig:\n",
    "        labels[x].set_fontweight('bold')\n",
    "plt.savefig(\"Enriched_neuropeptides.svg\", transparent=True)\n",
    "plt.show()"
   ]
  },
  {
   "cell_type": "code",
   "execution_count": null,
   "metadata": {},
   "outputs": [],
   "source": [
    "insig = 0\n",
    "total = 0\n",
    "for e,c in nn.connections.items():\n",
    "    if c.connection_type == 'FLP_9_DMSR_1':\n",
    "        if e[1].name in sigNeurList_corrdiff:\n",
    "            insig+=1\n",
    "            print(e[0].name, e[1].name, e[2])\n",
    "    total+=1"
   ]
  },
  {
   "cell_type": "code",
   "execution_count": null,
   "metadata": {},
   "outputs": [],
   "source": [
    "insig/total"
   ]
  },
  {
   "cell_type": "code",
   "execution_count": null,
   "metadata": {},
   "outputs": [],
   "source": [
    "for l, (p,n,p_mul) in enumerate(zip(percval, neurpep, p_bh_right)):\n",
    "    print(p,n, percval_random_mu[l], (percval[l] -percval_random_mu[l])/percval_random_sigma[l], p_mul)"
   ]
  },
  {
   "cell_type": "code",
   "execution_count": null,
   "metadata": {},
   "outputs": [],
   "source": [
    "zscores_np = []\n",
    "for j,n in enumerate(neurpep):\n",
    "    zscores_np.append((np.array(perc_NP_random[n]) - np.array(percval_random_mu[j]))/np.array(percval_random_sigma[j]))"
   ]
  },
  {
   "cell_type": "code",
   "execution_count": null,
   "metadata": {},
   "outputs": [],
   "source": [
    "plt.pcolor(np.corrcoef(zscores_np), vmin=-1, vmax=1, cmap='PuOr')\n",
    "plt.show()"
   ]
  },
  {
   "cell_type": "code",
   "execution_count": null,
   "metadata": {},
   "outputs": [],
   "source": [
    "corrm = np.abs(np.corrcoef(zscores_np))\n",
    "plt.hist(np.ravel(corrm[np.triu_indices_from(corrm, k=1)]), bins=30, density=True, cumulative=True, histtype='step')\n",
    "plt.axvline(x=0.3)\n",
    "plt.axhline(y=0.8)\n",
    "plt.show()"
   ]
  },
  {
   "cell_type": "code",
   "execution_count": null,
   "metadata": {},
   "outputs": [],
   "source": [
    "len(zscore_sig)"
   ]
  },
  {
   "cell_type": "code",
   "execution_count": null,
   "metadata": {},
   "outputs": [],
   "source": []
  }
 ],
 "metadata": {
  "language_info": {
   "name": "python"
  }
 },
 "nbformat": 4,
 "nbformat_minor": 2
}
