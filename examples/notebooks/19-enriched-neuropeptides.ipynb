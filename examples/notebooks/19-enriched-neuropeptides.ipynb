{
 "cells": [
  {
   "cell_type": "code",
   "execution_count": null,
   "metadata": {},
   "outputs": [],
   "source": [
    "from cedne import utils\n",
    "import numpy as np\n",
    "import matplotlib.pyplot as plt"
   ]
  },
  {
   "cell_type": "code",
   "execution_count": null,
   "metadata": {},
   "outputs": [],
   "source": [
    "w = utils.makeWorm()\n",
    "nn = w.networks[\"Neutral\"]\n",
    "# nprc = 'NTC_1_NTR_1'\n",
    "# utils.loadNeuropeptides(w, neuropeps=nprc)\n",
    "utils.loadNeuropeptides(nn)"
   ]
  },
  {
   "cell_type": "code",
   "execution_count": null,
   "metadata": {},
   "outputs": [],
   "source": [
    "# sigNeurList_corrdiff = ['ADFL',\n",
    "#                         'ADFR',\n",
    "#   'ASEL',\n",
    "#   'AWAL',\n",
    "#   'AWAR'\n",
    "#   'AWCL',\n",
    "#   'AWCR'\n",
    "#   'ASGL',\n",
    "#   'ASGR'\n",
    "#   'URYDL',\n",
    "#   'URYDR',\n",
    "#   'ADAL',\n",
    "#   'ADAR',\n",
    "#   'AIML'\n",
    "#   'AIMR'\n",
    "#   'RIML',\n",
    "#   'RIMR',\n",
    "#   'RMEL', \n",
    "#   'RMER']"
   ]
  },
  {
   "cell_type": "code",
   "execution_count": null,
   "metadata": {},
   "outputs": [],
   "source": [
    "sigNeurList_corrdiff = [\n",
    "  'ASEL',\n",
    "  'AWCL',\n",
    "  'AWCR',\n",
    "  'AIAL',\n",
    "  'AIAR',\n",
    "  'AIBL',\n",
    "  'AIBR',\n",
    "  'AIYL',\n",
    "  'AIYR',\n",
    "  'AIZL',\n",
    "  'AIZR',\n",
    "  'RIAL',\n",
    "  'RIAR',\n",
    "]"
   ]
  },
  {
   "cell_type": "code",
   "execution_count": null,
   "metadata": {},
   "outputs": [],
   "source": [
    "body_curv = [\n",
    "'RMDR',\n",
    "'AIMR',\n",
    "'AIBR',\n",
    "'RMER', \n",
    "'M3L',\n",
    "'RMEL',\n",
    "'URYVR',\n",
    "'I3',\n",
    "'AVAL',\n",
    "'URYDR',\n",
    "'URXR',\n",
    "'RID',\n",
    "'AVEL',\n",
    "'CEPVR',\n",
    "'CEPDR',\n",
    "'RIAL',\n",
    "'CEPDL',\n",
    "'IL2VR',\n",
    "'AVDR',\n",
    "'AVDL',\n",
    "'AUAR',\n",
    "'IL2DL',\n",
    "'AVJL' ]"
   ]
  },
  {
   "cell_type": "code",
   "execution_count": null,
   "metadata": {},
   "outputs": [],
   "source": [
    "vel = ['ADEL', 'ADLL', 'AIBL', 'AIZR', 'AQR', 'ASEL', 'ASGL', 'AUAR', 'AVAL', 'AVAR', 'AVL', 'AWCL', 'CEPVR', 'FLPL', 'I1L', 'I2L', 'I3', 'IL1L', 'M1', 'M3L', 'M3R', 'MCL', 'MCR', 'NSML', 'RICR', 'RIVL', 'RMGL', 'URADL', 'URYVR']"
   ]
  },
  {
   "cell_type": "code",
   "execution_count": null,
   "metadata": {},
   "outputs": [],
   "source": [
    "pump = [\n",
    "    'AQR',\n",
    "    'AVAR',\n",
    "    'I2L',\n",
    "    'I1R',\n",
    "    'OLQDR',\n",
    "    'IL2VR',\n",
    "    'SMDVR',\n",
    "    'SMDVL',\n",
    "    'IL2L',\n",
    "    'AVDL',\n",
    "    'IL2DL',\n",
    "    'RIVL',\n",
    "    'ASGR',\n",
    "    'ASGL',\n",
    "    'NSMR',\n",
    "    'RMDL',\n",
    "    'M1',\n",
    "    'AIBL',\n",
    "    'M3L',\n",
    "    'IL1R',\n",
    "    'IL1DR'\n",
    "]"
   ]
  },
  {
   "cell_type": "code",
   "execution_count": null,
   "metadata": {},
   "outputs": [],
   "source": [
    "comps = {'0':  ['ADEL', 'AIBR', 'AIML', 'AIZL', 'ASEL', 'ASGL', 'ASGR', 'AVAL', 'AWBL', 'CEPDL', 'CEPVL', 'I2R', 'IL1R', 'M1', 'M3L', 'M3R', 'M4', 'NSMR', 'OLLL', 'OLQDL', 'OLQVL', 'RICL', 'RIVL', 'RMDDR', 'RMDL', 'RMDR', 'RMDVR', 'RMEL', 'RMER', 'URBL', 'URYDL', 'URYVR'], \n",
    "'1': ['AINL', 'AIZR', 'AUAL', 'AVAL', 'AVER', 'I1L', 'I3', 'IL1DL', 'IL1L', 'IL1R', 'IL2L', 'IL2R', 'MI', 'NSML', 'NSMR', 'OLQDR', 'RID', 'RIVR', 'RMDDL', 'RMDDR', 'RMDVR', 'RMGL', 'URBL', 'URBR', 'URXR', 'URYVL'],\n",
    "'2': ['AVAR', 'AVDR', 'AVJL', 'CEPVR', 'I1L', 'I1R', 'I3', 'IL1DL', 'IL1DR', 'IL2VL', 'IL2VR', 'M3L', 'M5', 'NSML', 'OLQDR', 'RIAL', 'RID', 'RIVR', 'RMER', 'RMGL', 'SAAVL', 'SMDVL', 'URXL', 'URYVL', 'URYVR'],\n",
    "'3': ['AIBL', 'AIMR', 'AIZR', 'ASGR', 'AUAL', 'AVAL', 'AVAR', 'AVJL', 'AVJR', 'BAGL', 'CEPVL', 'FLPL', 'I1R', 'I3', 'IL1DL', 'IL2DL', 'IL2VL', 'MCL', 'MI', 'OLLR', 'OLQVL', 'RIAL', 'RID', 'RMDDR', 'RMEL', 'SMDVL', 'URXL', 'URYDL', 'URYDR'],\n",
    "'4': ['ADEL', 'AINL', 'ASEL', 'ASGR', 'ASHL', 'AVDL', 'AWAL', 'AWBL', 'CEPDL', 'CEPVL', 'IL1DR', 'IL1R', 'IL2DL', 'IL2VL', 'M3L', 'OLLR', 'OLQDR', 'OLQVR', 'RIH', 'RMDL', 'RMEL', 'RMER', 'RMEV', 'SAAVL', 'SMDDR', 'SMDVL', 'URADL', 'URBL', 'URBR', 'VB02'],\n",
    "'5': ['ADAL', 'AIBL', 'AIBR', 'AINL', 'AIZR', 'AVER', 'AWAR', 'AWCL', 'AWCR', 'I1R', 'I2L', 'I2R', 'I3', 'IL1DL', 'M3L', 'M3R', 'OLLR', 'OLQVR', 'RIVL', 'RMDL', 'RMDR', 'RMDVR', 'RMEL', 'URADL', 'URXR', 'URYVL'],\n",
    "'6': ['ADEL', 'AIBL', 'AIML', 'AIMR', 'AINL', 'ASHL', 'AVDL', 'AVHL', 'AVJR', 'AWAR', 'AWBL', 'AWCL', 'BAGL', 'CEPDL', 'CEPVR', 'I3', 'IL1R', 'IL2DL', 'IL2VL', 'M1', 'MI', 'OLLR', 'OLQDL', 'OLQDR', 'OLQVL', 'RIAL', 'RIVL', 'RMDL', 'SMDVL', 'URADL', 'URAVL', 'VB02'],\n",
    "'7': ['ADAL', 'ADEL', 'AINL', 'ASEL', 'AVDL', 'AVER', 'AWBL', 'AWCL', 'CEPDL', 'CEPDR', 'I2R', 'IL1VR', 'IL2VR', 'NSMR', 'OLQVL', 'RIAL', 'RIH', 'RIVL', 'RMDDL', 'RMDDR', 'RMDVL', 'RMED', 'SMDDR', 'URBR', 'URYDL', 'URYVR'],\n",
    "'8': ['AIBL', 'AIBR', 'ASER', 'ASGL', 'ASHL', 'AVAL', 'AVHL', 'AVJR', 'AWCR', 'BAGL', 'CEPDL', 'FLPL', 'I2R', 'IL1DR', 'IL2L', 'M3L', 'M4', 'OLLR', 'OLQDL', 'OLQVR', 'RIH', 'RIVL', 'RMDDL', 'RMDVR', 'RMER', 'URBR', 'URXL', 'URXR', 'URYDL', 'URYDR'],\n",
    "'9': ['ADAL', 'AIZR', 'AUAR', 'AVDL', 'AVJR', 'AVL', 'AWBR', 'BAGL', 'CEPDL', 'CEPVL', 'CEPVR', 'IL1DR', 'IL1L', 'IL2DL', 'IL2R', 'M3R', 'M5', 'MI', 'OLLR', 'OLQDL', 'OLQDR', 'RIAL', 'RICR', 'RIH', 'RMDDR', 'RMDL', 'RMDVL', 'URXL', 'URXR', 'URYDL', 'URYVR'],\n",
    "'10': ['ADEL', 'AIBR', 'AIML', 'AINL', 'AIZL', 'ASGL', 'AVAL', 'AVAR', 'AVER', 'AVJL', 'AWAL', 'CEPDR', 'IL2DL', 'M3R', 'M5', 'MI', 'RICR', 'RID', 'RMDL', 'RMDR', 'SAAVL', 'SMDDL', 'SMDVL', 'URBL', 'URXL'],\n",
    "'11': ['ADEL', 'ADLL', 'AIBL', 'AIZR', 'AQR', 'ASEL', 'ASGL', 'AUAR', 'AVAL', 'AVAR', 'AVL', 'AWCL', 'CEPVR', 'FLPL', 'I1L', 'I2L', 'I3', 'IL1L', 'M1', 'M3L', 'M3R', 'MCL', 'MCR', 'NSML', 'RICR', 'RIVL', 'RMGL', 'URADL', 'URYVR'],\n",
    "'12': ['ADEL', 'AIBR', 'AINL', 'ASEL', 'ASHL', 'AVJL', 'AWAL', 'AWAR', 'CEPVL', 'FLPL', 'I2L', 'IL1DR', 'IL1L', 'IL2R', 'M3L', 'MI', 'NSMR', 'OLQDR', 'RID', 'RMDL', 'RMDVL', 'RMEV', 'RMGL', 'SMDVR', 'URBL', 'URBR', 'URXR', 'URYVR', 'VB02'],\n",
    "'13': ['AIZL', 'AQR', 'ASER', 'ASGL', 'AVL', 'AWBL', 'AWBR', 'CEPVR', 'FLPL', 'I1L', 'IL1DL', 'IL1DR', 'IL2DL', 'IL2DR', 'IL2VR', 'NSMR', 'OLLL', 'OLQDL', 'OLQVR', 'RIVL', 'RIVR', 'RMDVL', 'RMDVR', 'RMER', 'URXR', 'URYVL', 'URYVR'],\n",
    "'14': ['ADEL', 'AIBL', 'AIZL', 'AQR', 'ASGL', 'AVHL', 'AWAR', 'AWBL', 'AWBR', 'CEPDR', 'CEPVR', 'FLPL', 'I2R', 'IL1DR', 'IL1R', 'IL2DR', 'M1', 'M4', 'NSML', 'NSMR', 'OLQDL', 'RICL', 'RMDDR', 'RMDVL', 'RMDVR', 'RMER', 'URXL', 'URXR', 'URYVR']}"
   ]
  },
  {
   "cell_type": "code",
   "execution_count": null,
   "metadata": {},
   "outputs": [],
   "source": [
    "sigNeurList_corrdiff = comps['6']"
   ]
  },
  {
   "cell_type": "code",
   "execution_count": null,
   "metadata": {},
   "outputs": [],
   "source": [
    "sigNeurList_corrdiff = [n for n in nn.neurons if nn.neurons[n].category in [\"head motor neuron\", \"sublateral motor neuron\", \"SN6\"]]"
   ]
  },
  {
   "cell_type": "code",
   "execution_count": null,
   "metadata": {},
   "outputs": [],
   "source": [
    "for e, c in nn.neurons['ADAL'].get_connections(direction='in').items():\n",
    "    print(e, c.connection_type)"
   ]
  },
  {
   "cell_type": "code",
   "execution_count": null,
   "metadata": {},
   "outputs": [],
   "source": [
    "len(sigNeurList_corrdiff)"
   ]
  },
  {
   "cell_type": "code",
   "execution_count": null,
   "metadata": {},
   "outputs": [],
   "source": [
    "plotList = sigNeurList_corrdiff\n",
    "nps, nps_base = [], []\n",
    "num_rands = 1000\n",
    "for e,c in nn.connections.items():\n",
    "    if not c.connection_type  in ['chemical-synapse', 'gap-junction']:\n",
    "        nps_base.append(c.connection_type)\n",
    "        if e[1].name in plotList:\n",
    "                nps.append(c.connection_type)\n",
    "\n",
    "nps_random = []\n",
    "for j in np.random.randint(0, len(nn.neurons), (num_rands,len(plotList))):\n",
    "    rand_neuropeps = []\n",
    "    rand_plotlist = [list(nn.neurons)[n] for n in j]\n",
    "    for v in rand_plotlist:\n",
    "        for e,c in nn.neurons[v].get_connections(direction='in').items():\n",
    "            if not c.connection_type  in ['chemical-synapse', 'gap-junction']: \n",
    "                rand_neuropeps.append(c.connection_type)\n",
    "    nps_random.append(rand_neuropeps)\n",
    "\n",
    "perc_NP = {}\n",
    "perc_NP_base = {}\n",
    "perc_NP_random = {}\n",
    "\n",
    "val_NP = {}\n",
    "val_NP_base = {}\n",
    "val_NP_random = {}\n",
    "for n in set(nps):\n",
    "    perc_NP[n] = len([n1 for n1 in nps if n1 == n])*100/len(nps)\n",
    "    perc_NP_base[n] = len([n1 for n1 in nps_base if n1 == n])*100/len(nps_base) \n",
    "    perc_NP_random[n] = [len([n1 for n1 in nps_rand if n1 == n])*100/len(nps_rand) for nps_rand in nps_random]\n",
    "\n",
    "    val_NP[n] = len([n1 for n1 in nps if n1 == n])\n",
    "    val_NP_base[n] = len([n1 for n1 in nps_base if n1 == n])\n",
    "    val_NP_random[n] = [len([n1 for n1 in nps_rand if n1 == n]) for nps_rand in nps_random]\n",
    "\n",
    "neurpep, percval = zip(*sorted(perc_NP.items(), key=lambda x:x[1], reverse=True))\n",
    "percval_base = [perc_NP_base[n] for n in neurpep]\n",
    "percval_random_mu = [np.mean(perc_NP_random[n]) for n in neurpep]\n",
    "percval_random_sigma = [np.std(perc_NP_random[n]) for n in neurpep]\n",
    "\n",
    "val = [val_NP[n] for n in neurpep]  \n",
    "val_base = [val_NP_base[n] for n in neurpep] \n"
   ]
  },
  {
   "cell_type": "code",
   "execution_count": null,
   "metadata": {},
   "outputs": [],
   "source": [
    "from scipy.stats import norm\n",
    "from statsmodels.stats.multitest import multipletests"
   ]
  },
  {
   "cell_type": "code",
   "execution_count": null,
   "metadata": {},
   "outputs": [],
   "source": [
    "# zscore_sig_thres = 2.326\n",
    "p_thres = 0.05\n",
    "\n",
    "f, ax = plt.subplots(figsize=(21,3))\n",
    "ax.scatter(range(len(neurpep)), percval, color='orange')\n",
    "# ax.scatter(range(len(neurpep)), percval_base, color='k')\n",
    "ax.errorbar(range(len(neurpep)), percval_random_mu, yerr= percval_random_sigma, color='gray', linestyle='None', marker='o')\n",
    "\n",
    "zscores = [(percval[l]- percval_random_mu[l])/percval_random_sigma[l] for l in np.arange(len(neurpep))]\n",
    "p_values_right = 1 - norm.cdf(zscores)\n",
    "# _, p_bh_right, _, _ = multipletests(p_values_right, method='bonferroni')\n",
    "_, p_bh_right, _, _ = multipletests(p_values_right, method='fdr_bh')\n",
    "\n",
    "#zscore_sig = np.where(np.array([(percval[l]- percval_random_mu[l])/percval_random_sigma[l] for l in np.arange(len(neurpep))])>zscore_sig_thres)[0]\n",
    "zscore_sig = np.where(p_bh_right<p_thres)[0]\n",
    "for x in zscore_sig:\n",
    "        ax.text(x=x, y=16, s=\"*\", color='k', ha='center')\n",
    "utils.simpleaxis(ax)\n",
    "ax.set_xticks(range(len(neurpep)), labels=neurpep, rotation=45, horizontalalignment='right')\n",
    "\n",
    "labels = ax.get_xticklabels()\n",
    "ax.set_ylabel(\"% incoming neuropeptidergic\\n connections\")\n",
    "\n",
    "ax.set_yticks([0,8,16])\n",
    "# Make specific labels bold\n",
    "for x in zscore_sig:\n",
    "        labels[x].set_fontweight('bold')\n",
    "# plt.savefig(\"Enriched_neuropeptides.svg\", transparent=True)\n",
    "plt.show()"
   ]
  },
  {
   "cell_type": "code",
   "execution_count": null,
   "metadata": {},
   "outputs": [],
   "source": [
    "p_bh_right"
   ]
  },
  {
   "cell_type": "code",
   "execution_count": null,
   "metadata": {},
   "outputs": [],
   "source": [
    "insig = 0\n",
    "total = 0\n",
    "for e,c in nn.connections.items():\n",
    "    if c.connection_type == 'FLP_9_DMSR_1':\n",
    "        if e[1].name in sigNeurList_corrdiff:\n",
    "            insig+=1\n",
    "            print(e[0].name, e[1].name, e[2])\n",
    "    total+=1"
   ]
  },
  {
   "cell_type": "code",
   "execution_count": null,
   "metadata": {},
   "outputs": [],
   "source": [
    "insig/total"
   ]
  },
  {
   "cell_type": "code",
   "execution_count": null,
   "metadata": {},
   "outputs": [],
   "source": [
    "for l, (p,n,p_mul) in enumerate(zip(percval, neurpep, p_bh_right)):\n",
    "    print(p,n, percval_random_mu[l], (percval[l] -percval_random_mu[l])/percval_random_sigma[l], p_mul)"
   ]
  },
  {
   "cell_type": "code",
   "execution_count": null,
   "metadata": {},
   "outputs": [],
   "source": [
    "zscores_np = []\n",
    "for j,n in enumerate(neurpep):\n",
    "    zscores_np.append((np.array(perc_NP_random[n]) - np.array(percval_random_mu[j]))/np.array(percval_random_sigma[j]))"
   ]
  },
  {
   "cell_type": "code",
   "execution_count": null,
   "metadata": {},
   "outputs": [],
   "source": [
    "plt.pcolor(np.corrcoef(zscores_np), vmin=-1, vmax=1, cmap='PuOr')\n",
    "plt.show()"
   ]
  },
  {
   "cell_type": "code",
   "execution_count": null,
   "metadata": {},
   "outputs": [],
   "source": [
    "corrm = np.abs(np.corrcoef(zscores_np))\n",
    "plt.hist(np.ravel(corrm[np.triu_indices_from(corrm, k=1)]), bins=30, density=True, cumulative=True, histtype='step')\n",
    "plt.axvline(x=0.3)\n",
    "plt.axhline(y=0.8)\n",
    "plt.show()"
   ]
  },
  {
   "cell_type": "code",
   "execution_count": null,
   "metadata": {},
   "outputs": [],
   "source": [
    "len(zscore_sig)"
   ]
  },
  {
   "cell_type": "code",
   "execution_count": null,
   "metadata": {},
   "outputs": [],
   "source": []
  }
 ],
 "metadata": {
  "language_info": {
   "name": "python"
  }
 },
 "nbformat": 4,
 "nbformat_minor": 2
}
