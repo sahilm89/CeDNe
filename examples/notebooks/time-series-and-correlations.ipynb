{
 "cells": [
  {
   "cell_type": "code",
   "execution_count": null,
   "metadata": {},
   "outputs": [],
   "source": [
    "from cedne import utils\n",
    "import os\n",
    "import json\n",
    "import matplotlib.pyplot as plt\n",
    "import numpy as np\n",
    "import networkx as nx\n",
    "import matplotlib\n",
    "import matplotlib.cm as cm"
   ]
  },
  {
   "cell_type": "code",
   "execution_count": null,
   "metadata": {},
   "outputs": [],
   "source": [
    "jsons = {}\n",
    "for js in os.listdir('/Users/sahilmoza/Documents/Postdoc/Yun Zhang/data/SteveFlavell-NeuroPAL-Cell/Control/'):\n",
    "    with open (\"/Users/sahilmoza/Documents/Postdoc/Yun Zhang/data/SteveFlavell-NeuroPAL-Cell/Control/{}\".format(js), 'r') as f:\n",
    "        jsons['Atanas et al (2023) ' +  js] = json.load(f)"
   ]
  },
  {
   "cell_type": "code",
   "execution_count": null,
   "metadata": {},
   "outputs": [],
   "source": [
    "w = utils.makeWorm('atanas')\n",
    "nn = w.networks['Neutral']"
   ]
  },
  {
   "cell_type": "code",
   "execution_count": null,
   "metadata": {},
   "outputs": [],
   "source": [
    "measuredNeurons = {}\n",
    "for js, p in jsons.items():\n",
    "    sortedKeys = sorted ([int(x) for x in (p['labeled'].keys())])\n",
    "    labelledNeurons = {p['labeled'][str(x)]['label']:x for x in sortedKeys if not '?' in p['labeled'][str(x)]['label']} # Removing unsure hits\n",
    "    measuredNeurons[js] = {m:i for i,m in enumerate(set(labelledNeurons))}"
   ]
  },
  {
   "cell_type": "code",
   "execution_count": null,
   "metadata": {},
   "outputs": [],
   "source": [
    "jsons.keys()\n",
    "database = 'Atanas et al (2023) 2022-06-14-01.json'"
   ]
  },
  {
   "cell_type": "code",
   "execution_count": null,
   "metadata": {},
   "outputs": [],
   "source": [
    "timepoint = 100\n",
    "for neuron in nn.neurons:\n",
    "    if neuron in measuredNeurons[database]: \n",
    "        nn.neurons[neuron].set_property('amplitude', jsons[database]['trace_array'][measuredNeurons[database][neuron]][timepoint])"
   ]
  },
  {
   "cell_type": "code",
   "execution_count": null,
   "metadata": {},
   "outputs": [],
   "source": [
    "utils.loadSynapticWeights(nn)"
   ]
  },
  {
   "cell_type": "code",
   "execution_count": null,
   "metadata": {},
   "outputs": [],
   "source": [
    "nodeColors = {}\n",
    "nodelist = []\n",
    "for neuron in nn.neurons:\n",
    "    if neuron in measuredNeurons[database]:\n",
    "        nodeColors[neuron] = nn.neurons[neuron].amplitude\n",
    "        nn.neurons[neuron].set_property('color', nn.neurons[neuron].amplitude)\n",
    "        nodelist.append(neuron)"
   ]
  },
  {
   "cell_type": "code",
   "execution_count": null,
   "metadata": {},
   "outputs": [],
   "source": [
    "nn_2 = nn.subnetwork(nodelist, as_view=False)"
   ]
  },
  {
   "cell_type": "code",
   "execution_count": null,
   "metadata": {},
   "outputs": [],
   "source": [
    "## Giving the sex specific neurons an interneuron type for positioning on graph.\n",
    "sex_neurons = ['CANL', 'CANR']\n",
    "for n in nn_2.neurons:\n",
    "    if n in sex_neurons:\n",
    "        nn_2.neurons[n].type = 'interneuron'"
   ]
  },
  {
   "cell_type": "code",
   "execution_count": null,
   "metadata": {},
   "outputs": [],
   "source": [
    "edgeColors = []\n",
    "for e in nn_2.connections:\n",
    "    edgeColors.append(nn_2.connections[e].weight)\n",
    "cmap = plt.get_cmap('PuOr')\n",
    "max_color = max(np.abs(edgeColors))\n",
    "norm = matplotlib.colors.Normalize(vmin=-max_color,vmax=max_color)\n",
    "m = cm.ScalarMappable(norm=norm, cmap=cmap)\n",
    "edge_color_dict = {e: m.to_rgba(nn_2.connections[e].weight) for e in nn_2.connections}\n",
    "\n",
    "\n",
    "max_color = max(np.abs(list(nodeColors.values())))\n",
    "cmap2 = plt.get_cmap('RdYlGn')\n",
    "norm2 = matplotlib.colors.Normalize(vmin=-max_color,vmax=max_color)\n",
    "o = cm.ScalarMappable(norm=norm2, cmap=cmap2)\n",
    "\n",
    "node_color_dict = {nn_2.neurons[n]: o.to_rgba(nn_2.neurons[n].color) for n in nn_2.neurons}"
   ]
  },
  {
   "cell_type": "code",
   "execution_count": null,
   "metadata": {},
   "outputs": [],
   "source": [
    "center = [n for n in nn_2.neurons if nn_2.neurons[n].type == 'sensory']\n",
    "utils.plot_shell(nn_2, center=center, figsize=(10,10), edge_color_dict=edge_color_dict, node_color_dict=node_color_dict, save=False)#\"weight-activity.pdf\")"
   ]
  },
  {
   "cell_type": "code",
   "execution_count": null,
   "metadata": {},
   "outputs": [],
   "source": [
    "conns = [(e[0].name, e[1].name) for e in nn_2.connections]\n",
    "edgeColors = [nn_2.connections[e].weight for e in nn_2.connections]\n",
    "\n",
    "utils.plot_layered(conns, nn_2, nodeColors=nodeColors, edgeColors=edgeColors)"
   ]
  },
  {
   "cell_type": "code",
   "execution_count": null,
   "metadata": {},
   "outputs": [],
   "source": [
    "conns = [(e[0].name, e[1].name) for e in nn_2.connections]"
   ]
  },
  {
   "cell_type": "code",
   "execution_count": null,
   "metadata": {},
   "outputs": [],
   "source": [
    "nn_2.edges"
   ]
  },
  {
   "cell_type": "code",
   "execution_count": null,
   "metadata": {},
   "outputs": [],
   "source": [
    "for n in nn_2.neurons:\n",
    "    print(n, nn_2.neurons[n].type, nn_2.neurons[n].category)"
   ]
  },
  {
   "cell_type": "code",
   "execution_count": null,
   "metadata": {},
   "outputs": [],
   "source": [
    "import pandas as pd\n",
    "\n",
    "\n",
    "TOPDIR = '../../' ## Change this to cedne and write a function to download data from an online server for heavy data.\n",
    "DATADIR = TOPDIR + 'data_sources/'\n",
    "DOWNLOAD_DIR = TOPDIR + 'data_sources/downloads/'\n",
    "\n",
    "prefix_NT = 'Wang_2019/'\n",
    "prefix_CENGEN = 'CENGEN/'\n",
    "prefix_NP = 'Ripoll-Sanchez_2023/'\n",
    "prefix_synaptic_weights = 'Randi_2023/'\n",
    "weightMatrix = DOWNLOAD_DIR + prefix_synaptic_weights + \"41586_2023_6683_MOESM13_ESM.xls\"\n",
    "tMat = pd.read_excel(weightMatrix, index_col=0).T"
   ]
  },
  {
   "cell_type": "code",
   "execution_count": null,
   "metadata": {},
   "outputs": [],
   "source": [
    "for e in nn.neurons['AWCL'].out_connections:\n",
    "    if(nn.neurons['AWCR'] in e):\n",
    "        print(nn.connections[e])"
   ]
  },
  {
   "cell_type": "code",
   "execution_count": null,
   "metadata": {},
   "outputs": [],
   "source": [
    "for n in nn_2.neurons: \n",
    "    print(nn_2.neurons[n].type)\n",
    "    print(nn_2.neurons[n].category)"
   ]
  },
  {
   "cell_type": "code",
   "execution_count": null,
   "metadata": {},
   "outputs": [],
   "source": [
    "\n",
    "deColors"
   ]
  }
 ],
 "metadata": {
  "language_info": {
   "name": "python"
  }
 },
 "nbformat": 4,
 "nbformat_minor": 2
}
