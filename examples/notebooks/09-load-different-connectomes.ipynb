{
 "cells": [
  {
   "cell_type": "markdown",
   "metadata": {},
   "source": [
    "## Look at different connectomes from different stages from Wilvliet and others. "
   ]
  },
  {
   "cell_type": "code",
   "execution_count": null,
   "metadata": {},
   "outputs": [],
   "source": [
    "## Plot various sta?ges of the connectome from Wilvliet"
   ]
  },
  {
   "cell_type": "code",
   "execution_count": null,
   "metadata": {},
   "outputs": [],
   "source": [
    "from cedne import utils\n",
    "import matplotlib.pyplot as plt\n",
    "import numpy as np"
   ]
  },
  {
   "cell_type": "markdown",
   "metadata": {},
   "source": [
    "## Loading adult"
   ]
  },
  {
   "cell_type": "code",
   "execution_count": null,
   "metadata": {},
   "outputs": [],
   "source": [
    "worm = {}\n",
    "for j in range(1,3):\n",
    "    import_parameters = {'style':'witvliet', 'stage':'adult', 'dataset_ind':str(j)}\n",
    "    worm[j] = utils.makeWorm(name = f\"{import_parameters['style']}_{import_parameters['stage']}_{import_parameters['dataset_ind']}\", import_parameters=import_parameters)\n",
    "    n = worm[j].networks[f\"{import_parameters['style']}_{import_parameters['stage']}_{import_parameters['dataset_ind']}\"]\n",
    "    print(len(n.connections))"
   ]
  },
  {
   "cell_type": "code",
   "execution_count": null,
   "metadata": {},
   "outputs": [],
   "source": [
    "networks_to_join = []\n",
    "for j in range(2,3):\n",
    "    networks_to_join.append(worm[j].networks[f\"{import_parameters['style']}_{import_parameters['stage']}_{j}\"])\n",
    "\n",
    "n1 = worm[1].networks[f\"{import_parameters['style']}_{import_parameters['stage']}_{1}\"]\n",
    "joined_adult = n1.join_networks(networks_to_join)\n",
    "joined_adult.remove_unconnected_neurons()"
   ]
  },
  {
   "cell_type": "code",
   "execution_count": null,
   "metadata": {},
   "outputs": [],
   "source": [
    "# import_parameters = {'style':'witvliet', 'stage':'adult', 'dataset_ind':'1'}\n",
    "# w = utils.makeWorm(import_parameters=import_parameters)\n",
    "# nn_adult = w.networks[\"witvliet_adult_1\"]"
   ]
  },
  {
   "cell_type": "markdown",
   "metadata": {},
   "source": [
    "## Loading L1"
   ]
  },
  {
   "cell_type": "code",
   "execution_count": null,
   "metadata": {},
   "outputs": [],
   "source": [
    "worm = {}\n",
    "for j in range(1,5):\n",
    "    import_parameters = {'style':'witvliet', 'stage':'L1', 'dataset_ind':str(j)}\n",
    "    worm[j] = utils.makeWorm(name = f\"{import_parameters['style']}_{import_parameters['stage']}_{import_parameters['dataset_ind']}\", import_parameters=import_parameters)"
   ]
  },
  {
   "cell_type": "code",
   "execution_count": null,
   "metadata": {},
   "outputs": [],
   "source": [
    "networks_to_join = []\n",
    "for j in range(2,5):\n",
    "    networks_to_join.append(worm[j].networks[f\"{import_parameters['style']}_{import_parameters['stage']}_{j}\"])\n",
    "\n",
    "n1 = worm[1].networks[f\"{import_parameters['style']}_{import_parameters['stage']}_{1}\"]\n",
    "joined_l1 = n1.join_networks(networks_to_join)\n",
    "joined_l1.remove_unconnected_neurons()"
   ]
  },
  {
   "cell_type": "markdown",
   "metadata": {},
   "source": [
    "## Loading L2"
   ]
  },
  {
   "cell_type": "code",
   "execution_count": null,
   "metadata": {},
   "outputs": [],
   "source": [
    "import_parameters = {'style':'witvliet', 'stage':'L2', 'dataset_ind':'1'}\n",
    "w = utils.makeWorm(import_parameters=import_parameters)\n",
    "nn_l2 = w.networks[\"witvliet_L2_1\"]"
   ]
  },
  {
   "cell_type": "markdown",
   "metadata": {},
   "source": [
    "## Loading L3"
   ]
  },
  {
   "cell_type": "code",
   "execution_count": null,
   "metadata": {},
   "outputs": [],
   "source": [
    "import_parameters = {'style':'witvliet', 'stage':'L3', 'dataset_ind':'1'}\n",
    "w = utils.makeWorm(import_parameters=import_parameters)\n",
    "nn_l3 = w.networks[\"witvliet_L3_1\"]"
   ]
  },
  {
   "cell_type": "markdown",
   "metadata": {},
   "source": [
    "## Finding neurons that connect to HSN neurons."
   ]
  },
  {
   "cell_type": "code",
   "execution_count": null,
   "metadata": {},
   "outputs": [],
   "source": [
    "conns_adult = []\n",
    "for e in joined_adult.neurons['HSNL'].get_connections(direction='out').keys():\n",
    "    conns_adult.append(e[1].name)\n",
    "for e in joined_adult.neurons['HSNR'].get_connections(direction='out').keys():\n",
    "    conns_adult.append(e[1].name)\n",
    "for e in joined_adult.neurons['HSNL'].get_connections(direction='in').keys():\n",
    "    conns_adult.append(e[0].name)\n",
    "for e in joined_adult.neurons['HSNR'].get_connections(direction='in').keys():\n",
    "    conns_adult.append(e[0].name)\n",
    "conns_adult = set(conns_adult)"
   ]
  },
  {
   "cell_type": "code",
   "execution_count": null,
   "metadata": {},
   "outputs": [],
   "source": [
    "present_subset = set(joined_l1.neurons) & set(nn_l2.neurons) & set(nn_l3.neurons) & set(joined_adult.neurons)\n",
    "\n",
    "## HSN connected network\n",
    "l1_subnet = joined_l1.subnetwork([n for n in conns_adult if n in present_subset])\n",
    "l2_subnet = nn_l2.subnetwork([n for n in conns_adult if n in  present_subset])\n",
    "l3_subnet = nn_l3.subnetwork([n for n in conns_adult if n in  present_subset])\n",
    "adult_subnet = joined_adult.subnetwork([n for n in conns_adult if n in present_subset])\n",
    "\n",
    "## Rest of the network\n",
    "l1_residual = joined_l1.subnetwork([n for n in present_subset if not n in conns_adult])\n",
    "l2_residual = nn_l2.subnetwork([n for n in present_subset if not n in conns_adult])\n",
    "l3_residual = nn_l3.subnetwork([n for n in present_subset if not n in conns_adult])\n",
    "adult_residual = joined_adult.subnetwork([n for n in present_subset if not n in conns_adult])"
   ]
  },
  {
   "cell_type": "code",
   "execution_count": null,
   "metadata": {},
   "outputs": [],
   "source": [
    "connectivity_subnet = {}\n",
    "for net in [l1_subnet, l2_subnet, l3_subnet, adult_subnet]:\n",
    "    for n in sorted(net.neurons):\n",
    "        if not n in connectivity_subnet:\n",
    "            connectivity_subnet[n] = []\n",
    "        connectivity_subnet[n].append(len(net.neurons[n].get_connections(direction='both')))\n",
    "\n",
    "connectivity_residual = {}\n",
    "for net in [l1_residual, l2_residual, l3_residual, adult_residual]:\n",
    "    for n in sorted(net.neurons):\n",
    "        if not n in connectivity_residual:\n",
    "            connectivity_residual[n] = []\n",
    "        connectivity_residual[n].append(len(net.neurons[n].get_connections(direction='both')))"
   ]
  },
  {
   "cell_type": "code",
   "execution_count": null,
   "metadata": {},
   "outputs": [],
   "source": [
    "f, ax = plt.subplots(figsize=(4,2), ncols=2, sharey=True, sharex=True, layout='constrained')\n",
    "for n in connectivity_subnet:\n",
    "    ax[0].plot(connectivity_subnet[n], color='gray')\n",
    "ax[0].set_xticks([0,1,2,3], ['L1', 'L2', 'L3', 'Adult'])\n",
    "\n",
    "for n in connectivity_residual:\n",
    "    ax[1].plot(connectivity_residual[n], color='gray')\n",
    "ax[1].set_xticks([0,1,2,3], ['L1', 'L2', 'L3', 'Adult'])\n",
    "f.supylabel(\"# Connections per neuron\")\n",
    "\n",
    "utils.simpleaxis(ax)\n",
    "ax[0].set_title(\"HSN connected\")\n",
    "ax[1].set_title(\"Other neurons\")\n",
    "plt.show()"
   ]
  },
  {
   "cell_type": "markdown",
   "metadata": {},
   "source": [
    "## Looking at triad motifs"
   ]
  },
  {
   "cell_type": "code",
   "execution_count": null,
   "metadata": {},
   "outputs": [],
   "source": [
    "triad_motifs = utils.return_triads()\n",
    "motif = triad_motifs['030T']\n",
    "motif = utils.nx.relabel_nodes(motif, {1:1, 2:3, 3:2})"
   ]
  },
  {
   "cell_type": "code",
   "execution_count": null,
   "metadata": {},
   "outputs": [],
   "source": [
    "ntype = ['sensory', 'interneuron', 'motorneuron']\n",
    "facecolors = ['#FF6F61', '#FFD700', '#4682B4']\n",
    "ntype_pairs = set([tuple(sorted([nt1, nt2])) for nt1 in ntype for nt2 in ntype])\n",
    "colors= plt.cm.magma(np.linspace(0,1,len(ntype_pairs)))\n",
    "type_color_dict = {p:color for (p,color) in zip(ntype_pairs, colors)}"
   ]
  },
  {
   "cell_type": "code",
   "execution_count": null,
   "metadata": {},
   "outputs": [],
   "source": [
    "## All common neurons present.\n",
    "\n",
    "l1_all = joined_l1.subnetwork(present_subset)\n",
    "l2_all = nn_l2.subnetwork(present_subset)\n",
    "l3_all = nn_l3.subnetwork(present_subset)\n",
    "adult_all = joined_adult.subnetwork(present_subset)\n",
    "\n",
    "# network_dict = {stage:net for stage, net in zip(['L1', 'L2', 'L3', 'Adult'], [l1_all, l2_all, l3_all, adult_all])}"
   ]
  },
  {
   "cell_type": "code",
   "execution_count": null,
   "metadata": {},
   "outputs": [],
   "source": [
    "network_dict = {stage:net for stage, net in zip(['L1', 'L2', 'L3', 'Adult'], [joined_l1, nn_l2, nn_l3, joined_adult])}"
   ]
  },
  {
   "cell_type": "code",
   "execution_count": null,
   "metadata": {},
   "outputs": [],
   "source": [
    "adult_default = utils.makeWorm()\n",
    "nn = adult_default.networks[\"Neutral\"]"
   ]
  },
  {
   "cell_type": "code",
   "execution_count": null,
   "metadata": {},
   "outputs": [],
   "source": [
    "for stage, net in network_dict.items():\n",
    "    for n in net.neurons:\n",
    "        if n == 'DB1':\n",
    "            m = 'DB01'\n",
    "        else:\n",
    "            m=n\n",
    "        net.neurons[n].type = nn.neurons[m].type"
   ]
  },
  {
   "cell_type": "code",
   "execution_count": null,
   "metadata": {},
   "outputs": [],
   "source": [
    "mappings = [(2,1), (3,1)]\n",
    "num_graphs = {}\n",
    "conn_types = {stage:{mapping:{n:0 for n in ntype_pairs} for mapping in mappings} for stage in network_dict.keys()}\n",
    "ntype_motif = {}\n",
    "max_chain_length = 6\n",
    "for stage, net in network_dict.items():\n",
    "    num_graphs[stage] = {}\n",
    "    ntype_motif[stage] = {}\n",
    "    for mapping in mappings:\n",
    "        num_graphs[stage][mapping] = []\n",
    "        ntype_motif[stage][mapping] = {}\n",
    "        for l in range(1,max_chain_length+1):\n",
    "            hm = utils.make_hypermotifs(motif, l, [mapping])\n",
    "            for m in hm.nodes:\n",
    "                ntype_motif[stage][mapping][m] = {n:0 for n in ntype}\n",
    "            all_ffgs = net.search_motifs(hm)\n",
    "            num_graphs[stage][mapping].append(len(all_ffgs))\n",
    "            for sub in all_ffgs:\n",
    "                for motif_edge, network_edge in sub.items():\n",
    "                    if all(n.type in ntype for n in network_edge):\n",
    "                        for m,n in zip(motif_edge, network_edge):\n",
    "                            ntype_motif[stage][mapping][m][n.type] +=1\n",
    "                        conn = tuple(sorted([network_edge[0].type, network_edge[1].type]))\n",
    "                        conn_types[stage][mapping][conn] +=1"
   ]
  },
  {
   "cell_type": "code",
   "execution_count": null,
   "metadata": {},
   "outputs": [],
   "source": [
    "motif_fractions_actual = {}\n",
    "for stage, net in network_dict.items():\n",
    "    motif_fractions_actual[stage] = {}\n",
    "    for mapping in mappings:\n",
    "        motif_fractions_actual[stage][mapping] = np.array(num_graphs[stage][mapping])/(np.array(num_graphs[stage][mappings[0]]) + np.array(num_graphs[stage][mappings[1]]))"
   ]
  },
  {
   "cell_type": "code",
   "execution_count": null,
   "metadata": {},
   "outputs": [],
   "source": [
    "cols = ['gray', 'orange']\n",
    "f, ax = plt.subplots(figsize=(max_chain_length*2,2), ncols=max_chain_length, sharey=True, sharex=True)\n",
    "for j, mapping in enumerate(mappings):\n",
    "    by_length = {}\n",
    "    for stage in motif_fractions_actual:\n",
    "        for l in range(max_chain_length):\n",
    "            if not l in by_length:\n",
    "                by_length[l] = []\n",
    "            by_length[l].append(motif_fractions_actual[stage][mapping][l])\n",
    "    for l in range(max_chain_length):\n",
    "        ax[l].plot(range(len(motif_fractions_actual.keys())), by_length[l], label=f'{mapping}', color=cols[j])\n",
    "        ax[l].scatter(range(len(motif_fractions_actual.keys())), by_length[l], color=cols[j])\n",
    "        ax[l].set_xticks(range(len(motif_fractions_actual.keys())), motif_fractions_actual.keys())\n",
    "        utils.simpleaxis(ax[l])\n",
    "        ax[l].set_title(l+1)\n",
    "        ax[l].set_ylim((0,1))\n",
    "plt.legend(loc='center right', bbox_to_anchor=(1.3,0.5), frameon=False)\n",
    "plt.show()"
   ]
  },
  {
   "cell_type": "code",
   "execution_count": null,
   "metadata": {},
   "outputs": [],
   "source": [
    "f, ax = plt.subplots(figsize=(1.5,1.5))\n",
    "utils.nx.draw(motif, with_labels=True, ax=ax, node_color='gray', node_size=225)\n",
    "plt.show()"
   ]
  },
  {
   "cell_type": "code",
   "execution_count": null,
   "metadata": {},
   "outputs": [],
   "source": [
    "piesize=0.08\n",
    "chain_length = 3\n",
    "for stage in network_dict.keys():\n",
    "    for mapping in mappings:\n",
    "        print(stage, mapping)\n",
    "        hm = utils.make_hypermotifs(motif, chain_length, [mapping])\n",
    "        pos = utils.nx.kamada_kawai_layout(hm)\n",
    "        color_dict = {p:facecolors for p in pos.keys()}\n",
    "        alpha_dict = {p:1 for p in pos.keys()}\n",
    "        if sum(ntype_motif[stage][mapping][m].values()) == 0:\n",
    "            continue\n",
    "        pie_division = {m: [ntype_motif[stage][mapping][m][n]/sum(ntype_motif[stage][mapping][m].values()) for n in ntype] for m in hm.nodes}\n",
    "\n",
    "        f, ax = plt.subplots(figsize=(8,8))\n",
    "        utils.nx.draw_networkx_edges(hm, pos=pos, node_size=1200, connectionstyle='arc3', arrowstyle='->')\n",
    "        for n,p in pos.items():\n",
    "            utils.plot_pie(n=n, center=p, ax=ax, color_dict=color_dict, alpha_dict=alpha_dict, pie_division=pie_division[n], piesize=piesize)\n",
    "        # utils.nx.draw_networkx_labels(hm, pos=pos)\n",
    "        ax.set_xlim(-1, 1)\n",
    "        ax.set_ylim(-1, 1)\n",
    "        ax.set_aspect('equal')\n",
    "        ax.axis('off')  # Optionally turn off axis\n",
    "        # plt.savefig(f'motif_ntype_division_{mapping}.svg', transparent=True)\n",
    "        plt.show()\n",
    "        plt.close()\n"
   ]
  },
  {
   "cell_type": "code",
   "execution_count": null,
   "metadata": {},
   "outputs": [],
   "source": [
    "for stage, net in network_dict.items():\n",
    "    print(stage, len(net.neurons))"
   ]
  },
  {
   "cell_type": "code",
   "execution_count": null,
   "metadata": {},
   "outputs": [],
   "source": []
  }
 ],
 "metadata": {
  "language_info": {
   "name": "python"
  }
 },
 "nbformat": 4,
 "nbformat_minor": 2
}
