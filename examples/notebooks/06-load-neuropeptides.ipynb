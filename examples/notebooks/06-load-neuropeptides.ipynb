{
 "cells": [
  {
   "cell_type": "code",
   "execution_count": null,
   "metadata": {},
   "outputs": [],
   "source": [
    "from cedne import utils"
   ]
  },
  {
   "cell_type": "markdown",
   "metadata": {},
   "source": [
    "### Load specific neuropeptide data into the network"
   ]
  },
  {
   "cell_type": "code",
   "execution_count": null,
   "metadata": {},
   "outputs": [],
   "source": [
    "w = utils.makeWorm()\n",
    "nprc = 'NTC_1_NTR_1'\n",
    "# utils.loadNeuropeptides(w, neuropeps=nprc)\n",
    "utils.loadNeuropeptides(w)"
   ]
  },
  {
   "cell_type": "code",
   "execution_count": null,
   "metadata": {},
   "outputs": [],
   "source": [
    "nn = w.networks[nprc]"
   ]
  },
  {
   "cell_type": "code",
   "execution_count": null,
   "metadata": {},
   "outputs": [],
   "source": [
    "senders, receivers, connections = [], [], []\n",
    "for np,net in w.networks.items():\n",
    "    if np == 'Neutral':\n",
    "        continue\n",
    "    net_senders = []\n",
    "    net_receivers = []\n",
    "    for e, conn in net.connections.items():\n",
    "        net_senders.append(e[0].name)\n",
    "        net_receivers.append(e[1].name)\n",
    "        connections.append((e[0].name, e[1].name))\n",
    "    senders+=list(set(net_senders))\n",
    "    receivers+=list(set(net_receivers))"
   ]
  },
  {
   "cell_type": "code",
   "execution_count": null,
   "metadata": {},
   "outputs": [],
   "source": [
    "from collections import Counter\n",
    "print(Counter(senders))\n",
    "print(Counter(receivers))\n",
    "print(Counter(connections))"
   ]
  },
  {
   "cell_type": "code",
   "execution_count": null,
   "metadata": {},
   "outputs": [],
   "source": [
    "receiver_list = ['ADFL', 'ADFR', 'ASEL', 'ASGL', 'ASGR', 'AWAL', 'AWAR', 'AWCL', 'AWCR']\n",
    "for np,net in w.networks.items():\n",
    "    if np == 'Neutral':\n",
    "        continue\n",
    "    net_senders = []\n",
    "    net_receivers = []\n",
    "    for e, conn in net.connections.items():\n",
    "        net_senders.append(e[0].name)\n",
    "        net_receivers.append(e[1].name)\n",
    "        connections.append((e[0].name, e[1].name))\n",
    "    if all([r in net_receivers for r in receiver_list]):\n",
    "        print(np)"
   ]
  },
  {
   "cell_type": "code",
   "execution_count": null,
   "metadata": {},
   "outputs": [],
   "source": [
    "neulist = ['ADF', 'AWA', 'AWB', 'AWC']\n",
    "\n",
    "# facecolors = cmr.take_cmap_colors('cmr.prinsenvlag', 3, cmap_range=(0.15, 0.85), return_fmt='hex')"
   ]
  },
  {
   "cell_type": "code",
   "execution_count": null,
   "metadata": {},
   "outputs": [],
   "source": [
    "facecolors = ['#FF6F61', '#FFD700', '#4682B4']\n",
    "def set_facecolors(nn, facecolors):\n",
    "    for n in nn.neurons:\n",
    "        if nn.neurons[n].type == 'sensory':\n",
    "            nn.neurons[n].set_property('color', facecolors[0])\n",
    "        elif nn.neurons[n].type == 'interneuron':\n",
    "            nn.neurons[n].set_property('color', facecolors[2])\n",
    "        elif nn.neurons[n].type == 'motorneuron':\n",
    "            nn.neurons[n].set_property('color', facecolors[1])\n",
    "    return nn\n"
   ]
  },
  {
   "cell_type": "code",
   "execution_count": null,
   "metadata": {},
   "outputs": [],
   "source": [
    "center = neulist\n",
    "for np, net in w.networks.items():\n",
    "    if np == 'Neutral':\n",
    "        continue\n",
    "    net.remove_unconnected_neurons()\n",
    "    center = [n+suff for n in neulist for suff in ['L', 'R'] if n+suff in net.neurons]\n",
    "    if len(center) == 8:\n",
    "        all_neurons = len([n for n in net.neurons])\n",
    "        print(all_neurons, len(center))\n",
    "        if all_neurons<65:\n",
    "            net = set_facecolors(net, facecolors)\n",
    "            utils.plot_shell(net, center=center, figsize=(6,6), fontsize=10, save=False)"
   ]
  },
  {
   "cell_type": "code",
   "execution_count": null,
   "metadata": {},
   "outputs": [],
   "source": [
    "nn = w.networks[nprc]\n",
    "nn.remove_unconnected_neurons()"
   ]
  },
  {
   "cell_type": "markdown",
   "metadata": {},
   "source": [
    "#### Set the ***color*** property of the neurons based on their type, which is picked by the plot_shell function for plotting."
   ]
  },
  {
   "cell_type": "code",
   "execution_count": null,
   "metadata": {},
   "outputs": [],
   "source": [
    "nn = set_facecolors(nn, facecolors)\n",
    "center = ['AFDL', 'AFDR', 'DVA']\n",
    "fig = utils.plot_shell(nn, center=center, figsize=(6,6), fontsize=10, save=nprc+'.svg')"
   ]
  },
  {
   "cell_type": "code",
   "execution_count": null,
   "metadata": {},
   "outputs": [],
   "source": [
    "utils.loadNeuropeptides(w)"
   ]
  },
  {
   "cell_type": "code",
   "execution_count": null,
   "metadata": {},
   "outputs": [],
   "source": [
    "neu1 = ['AIBR', 'AIMR', 'AUAR', 'AVAL', 'AVDL', 'AVDR', 'AVEL', 'AVJL', 'CEPDL', 'CEPDR', 'CEPVR', 'I3', 'IL2DL', 'IL2VR', 'M3L', 'RIAL', 'RID', 'RMDR', 'RMEL', 'RMER', 'URXR', 'URYDR', 'URYVR']\n",
    "neu2 = ['AIBR', 'AIMR', 'AUAR', 'AVAL', 'AVDL', 'AVDR', 'AVEL', 'AVJL', 'CEPDL', 'CEPDR', 'CEPVR', 'I3', 'IL2DL', 'IL2VR', 'M3L', 'RIAL', 'RID', 'RMDR', 'RMEL', 'RMER', 'URXR', 'URYDR', 'URYVR']\n",
    "for np, net in w.networks.items():\n",
    "    for neu in neu1:\n",
    "        if neu in net.neurons:\n",
    "            conns = [conn[1].name for conn in net.neurons[neu].get_connections(direction='out')]\n",
    "            if len(conns):\n",
    "                if len(set(conns).intersection(set(neu2)))/len(set(neu2))>0.4:\n",
    "                    print(np, neu, set(conns), len(set(conns).intersection(set(neu2)))/len(set(neu2)))"
   ]
  },
  {
   "cell_type": "code",
   "execution_count": null,
   "metadata": {},
   "outputs": [],
   "source": [
    "neu = ['ADAL', 'ASEL', 'ASGL', 'AWBL', 'AWCR', 'CEPVR', 'I1L', 'I3', 'IL1DL', 'IL2R', 'NSML', 'OLQVL', 'OLQVR', 'RIVL', 'RMDDR', 'RMDVR', 'RMER', 'SMDVR', 'URBR', 'URYVL']\n",
    "for np, net in w.networks.items():\n",
    "    actual_net = set([n for n in net.neurons.keys() if len(net.neurons[n].get_connections())])\n",
    "    frac_pres = len(actual_net.intersection(set(neu)))/len(neu)\n",
    "    frac_eff = len(actual_net.intersection(set(neu)))/len(actual_net) \n",
    "    if frac_pres>0.5:\n",
    "        print(np, frac_pres, len(actual_net), frac_eff)"
   ]
  },
  {
   "cell_type": "code",
   "execution_count": null,
   "metadata": {},
   "outputs": [],
   "source": [
    "len(neu1)"
   ]
  },
  {
   "cell_type": "code",
   "execution_count": null,
   "metadata": {},
   "outputs": [],
   "source": [
    "for np, net in w.networks.items():\n",
    "    if neu in net.neurons:\n",
    "        if np == 'FLP_21_NPR_1':\n",
    "            conns = [conn[1].ne for conn in net.neurons[neu].get_connections(direction='out')]\n",
    "            print(np, conns)"
   ]
  },
  {
   "cell_type": "code",
   "execution_count": null,
   "metadata": {},
   "outputs": [],
   "source": [
    "if len(nn.connections.keys()):\n",
    "    for e,conn in nn.connections.items():\n",
    "        print(e[0], e[1], e[2], conn.connection_type)"
   ]
  },
  {
   "cell_type": "code",
   "execution_count": null,
   "metadata": {},
   "outputs": [],
   "source": []
  }
 ],
 "metadata": {
  "language_info": {
   "name": "python"
  }
 },
 "nbformat": 4,
 "nbformat_minor": 2
}
