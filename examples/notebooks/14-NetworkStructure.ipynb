{
 "cells": [
  {
   "cell_type": "code",
   "execution_count": null,
   "metadata": {},
   "outputs": [],
   "source": [
    "from cedne import cedne\n",
    "from cedne import utils\n",
    "from matplotlib import pyplot as plt\n",
    "from networkx.algorithms.community import modularity\n",
    "from collections import Counter\n",
    "import numpy as np\n",
    "import scipy.stats as ss"
   ]
  },
  {
   "cell_type": "code",
   "execution_count": null,
   "metadata": {},
   "outputs": [],
   "source": [
    "w = utils.makeWorm(chem_only=True)\n",
    "nn = w.networks[\"Neutral\"]\n",
    "utils.loadNeuropeptides(w)"
   ]
  },
  {
   "cell_type": "code",
   "execution_count": null,
   "metadata": {},
   "outputs": [],
   "source": [
    "girvan_newman = utils.nx.algorithms.community.girvan_newman"
   ]
  },
  {
   "cell_type": "code",
   "execution_count": null,
   "metadata": {},
   "outputs": [],
   "source": [
    "type(w)"
   ]
  },
  {
   "cell_type": "code",
   "execution_count": null,
   "metadata": {},
   "outputs": [],
   "source": [
    "print(len(w.networks))"
   ]
  },
  {
   "cell_type": "code",
   "execution_count": null,
   "metadata": {},
   "outputs": [],
   "source": [
    "comms = list(girvan_newman(nn))"
   ]
  },
  {
   "cell_type": "code",
   "execution_count": null,
   "metadata": {},
   "outputs": [],
   "source": [
    "def calculate_cut(S, G):\n",
    "    \"\"\"Calculate the cut between S and its complement.\"\"\"\n",
    "    return sum(1 for u in S for v in G if v not in S and G.has_edge(u, v))\n",
    "\n",
    "def calculate_vol(S, G):\n",
    "    \"\"\"Calculate the volume of a set S.\"\"\"\n",
    "    return sum(G.degree(n) for n in S)\n",
    "\n",
    "def energy(nn, comm):\n",
    "    ''' Calculates the energy for a community as the number of within community edges minus the number of between community edges.'''\n",
    "    tot_edges = len(nn.edges)\n",
    "    within = 0\n",
    "    between = 0\n",
    "    for i,n1 in enumerate(comm):\n",
    "        sub1 = nn.subnetwork(neuron_names = [n.name for n in n1], as_view=True)\n",
    "        sub1_edges = len(sub1.edges)\n",
    "        within += sub1_edges\n",
    "    between = tot_edges - within\n",
    "    return within - between\n"
   ]
  },
  {
   "cell_type": "code",
   "execution_count": null,
   "metadata": {},
   "outputs": [],
   "source": [
    "energy_comm = [energy(nn, comm) for comm in comms]"
   ]
  },
  {
   "cell_type": "code",
   "execution_count": null,
   "metadata": {},
   "outputs": [],
   "source": [
    "def is_valid_partition(G, partition):\n",
    "    \"\"\"Check if a partition is valid for a graph G.\"\"\"\n",
    "    nodes_in_partition = set(node for subset in partition for node in subset)\n",
    "    return set(G.nodes()) == nodes_in_partition and all(\n",
    "        len(set(subset)) == len(subset) for subset in partition\n",
    "    )"
   ]
  },
  {
   "cell_type": "code",
   "execution_count": null,
   "metadata": {},
   "outputs": [],
   "source": [
    "mod_score= []\n",
    "for comm in comms:\n",
    "    communities = [list(c) for c in comm]\n",
    "    print(is_valid_partition(nn, communities))\n",
    "    #mod_score.append(modularity(nn, communities))"
   ]
  },
  {
   "cell_type": "code",
   "execution_count": null,
   "metadata": {},
   "outputs": [],
   "source": [
    "comm_num = 18\n",
    "f, ax = plt.subplots(figsize=(6,6), layout='constrained')\n",
    "ax.plot(energy_comm, color='k')\n",
    "ax.axvline(x=comm_num, color='r', linestyle='--')\n",
    "ax.set_xlabel(\"Community Number\")\n",
    "ax.set_ylabel(\"Energy\")\n",
    "utils.simpleaxis(ax)\n",
    "plt.show()"
   ]
  },
  {
   "cell_type": "code",
   "execution_count": null,
   "metadata": {},
   "outputs": [],
   "source": [
    "comm = comms[comm_num]\n",
    "for j,c in enumerate(comm):\n",
    "    print(j, sorted([n.name for n in c]))"
   ]
  },
  {
   "cell_type": "code",
   "execution_count": null,
   "metadata": {},
   "outputs": [],
   "source": [
    "betweenness = utils.nx.betweenness_centrality(nn)"
   ]
  },
  {
   "cell_type": "code",
   "execution_count": null,
   "metadata": {},
   "outputs": [],
   "source": [
    "for n, b in sorted(betweenness.items(), key=lambda x: x[1], reverse=True):\n",
    "    print(n.name, b)"
   ]
  },
  {
   "cell_type": "code",
   "execution_count": null,
   "metadata": {},
   "outputs": [],
   "source": [
    "nc = utils.nx.edge_connectivity(nn)"
   ]
  },
  {
   "cell_type": "code",
   "execution_count": null,
   "metadata": {},
   "outputs": [],
   "source": [
    "from networkx.algorithms.centrality import percolation_centrality\n",
    "percolation = percolation_centrality(nn)"
   ]
  },
  {
   "cell_type": "code",
   "execution_count": null,
   "metadata": {},
   "outputs": [],
   "source": [
    "for n, p in sorted(percolation.items(), key=lambda x: x[1], reverse=True):\n",
    "    print(n.name, p)"
   ]
  },
  {
   "cell_type": "code",
   "execution_count": null,
   "metadata": {},
   "outputs": [],
   "source": [
    "conn_np = {n:[] for n in nn.neurons}\n",
    "for neup, net in w.networks.items():\n",
    "    if not neup == 'Neutral':\n",
    "        for n in nn.neurons:\n",
    "            conn_np[n].append([o.name for (_,o,_) in net.neurons[n].get_connections(direction='out').keys()])"
   ]
  },
  {
   "cell_type": "code",
   "execution_count": null,
   "metadata": {},
   "outputs": [],
   "source": [
    "adj = {}\n",
    "for n in conn_np.keys():\n",
    "    down_conns = [m for nlist in conn_np[n] for m in nlist]\n",
    "    adj[n] = {k:{'weight':weight} for k,weight in Counter(down_conns).items()}"
   ]
  },
  {
   "cell_type": "code",
   "execution_count": null,
   "metadata": {},
   "outputs": [],
   "source": [
    "nn_np = cedne.NervousSystem(worm=w, network='NP_summary')\n",
    "nn_np.create_neurons_from(nn, data=True)\n",
    "nn_np.setup_connections(adjacency=adj, connection_type='NP')"
   ]
  },
  {
   "cell_type": "code",
   "execution_count": null,
   "metadata": {},
   "outputs": [],
   "source": [
    "percolation_np = percolation_centrality(nn_np)"
   ]
  },
  {
   "cell_type": "code",
   "execution_count": null,
   "metadata": {},
   "outputs": [],
   "source": [
    "nnames, chemical, neuropep = [], [], []\n",
    "for n, p in sorted(percolation.items(), key=lambda x: x[1], reverse=True):\n",
    "    # if p>0 and percolation_np[nn_np.neurons[n.name]]>0 :\n",
    "        nnames.append(n.name)\n",
    "        chemical.append(p)\n",
    "        neuropep.append(percolation_np[nn_np.neurons[n.name]])"
   ]
  },
  {
   "cell_type": "code",
   "execution_count": null,
   "metadata": {},
   "outputs": [],
   "source": [
    "nclasses = [nn.neurons[n].category for n in nnames]\n",
    "class_list = list(set(nclasses))\n",
    "color_list = plt.cm.rainbow(np.linspace(0,1,len(class_list)))\n",
    "colors = [color_list[class_list.index(n)] for n in nclasses]\n",
    "color_1 = 'k'\n",
    "\n",
    "chemar, neuropepar = np.log10(chemical), np.log10(neuropep)\n",
    "\n",
    "f, ax = plt.subplots(figsize=(3,3))\n",
    "ax.scatter(chemar, neuropepar, color=color_1, s=12)\n",
    "res = ss.linregress(chemar, neuropepar)\n",
    "ax.plot(np.array(chemar), res.slope*np.array(chemar) + res.intercept, ls = '--')\n",
    "print(res)\n",
    "# ax.set_xscale('log')\n",
    "# ax.set_yscale('log')\n",
    "# ax.set_xlim((10**-6, 10**-1))\n",
    "# ax.set_ylim((10**-6, 10**-1))\n",
    "utils.simpleaxis(ax)\n",
    "plt.show()"
   ]
  },
  {
   "cell_type": "code",
   "execution_count": null,
   "metadata": {},
   "outputs": [],
   "source": [
    "for c,n in zip(chemar, neuropepar):\n",
    "    print(c,n)"
   ]
  },
  {
   "cell_type": "code",
   "execution_count": null,
   "metadata": {},
   "outputs": [],
   "source": [
    "out_conn_chem = []\n",
    "out_conn_np = []\n",
    "\n",
    "for n in nn.neurons:\n",
    "    out_conn_chem.append(len(nn.neurons[n].get_connections(direction='both')))\n",
    "    out_conn_np.append(len(nn_np.neurons[n].get_connections(direction='both')))"
   ]
  },
  {
   "cell_type": "code",
   "execution_count": null,
   "metadata": {},
   "outputs": [],
   "source": [
    "f, ax = plt.subplots(figsize=(3,3))\n",
    "ax.scatter(out_conn_chem, out_conn_np, color=color_1, s=12)\n",
    "# ax.set_xscale('log')\n",
    "# ax.set_yscale('log')\n",
    "# ax.set_xlim((1, 10**2.5))\n",
    "# ax.set_ylim((1, 10**2.5))\n",
    "utils.simpleaxis(ax)\n",
    "plt.show()"
   ]
  },
  {
   "cell_type": "code",
   "execution_count": null,
   "metadata": {},
   "outputs": [],
   "source": [
    "npthres= 350\n",
    "f, ax = plt.subplots(figsize=(2,2))\n",
    "ax.hist(out_conn_np, bins=50, color='gray')\n",
    "ax.axvline(x=npthres, ls = '--', color='k')\n",
    "utils.simpleaxis(ax)\n",
    "plt.show()"
   ]
  },
  {
   "cell_type": "code",
   "execution_count": null,
   "metadata": {},
   "outputs": [],
   "source": [
    "nodes_nphigh = sorted([nnames[k] for k in np.where(np.array(out_conn_np)>npthres)[0]])"
   ]
  },
  {
   "cell_type": "code",
   "execution_count": null,
   "metadata": {},
   "outputs": [],
   "source": [
    "nn_np_folded = utils.foldByNeuronType(nn_np)"
   ]
  },
  {
   "cell_type": "code",
   "execution_count": null,
   "metadata": {},
   "outputs": [],
   "source": [
    "edges = list(nn_np_folded.connections.keys())"
   ]
  },
  {
   "cell_type": "code",
   "execution_count": null,
   "metadata": {},
   "outputs": [],
   "source": [
    "fig_ent = utils.plot_shell(nn_np_folded, save='neuropep-grouped.svg', shells=[[], [nn_np_folded.neurons[n] for n in nn_np_folded.neurons]], figsize=(8,8), width_logbase=10)"
   ]
  },
  {
   "cell_type": "code",
   "execution_count": null,
   "metadata": {},
   "outputs": [],
   "source": [
    "nn"
   ]
  },
  {
   "cell_type": "code",
   "execution_count": null,
   "metadata": {},
   "outputs": [],
   "source": []
  }
 ],
 "metadata": {
  "language_info": {
   "name": "python"
  }
 },
 "nbformat": 4,
 "nbformat_minor": 2
}
