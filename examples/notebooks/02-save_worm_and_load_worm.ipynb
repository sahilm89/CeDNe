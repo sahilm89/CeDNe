{
 "cells": [
  {
   "cell_type": "code",
   "execution_count": null,
   "metadata": {},
   "outputs": [],
   "source": [
    "from cedne import load_worm\n",
    "from cedne import utils"
   ]
  },
  {
   "cell_type": "markdown",
   "metadata": {},
   "source": [
    "### Make a worm and add a property"
   ]
  },
  {
   "cell_type": "code",
   "execution_count": null,
   "metadata": {},
   "outputs": [],
   "source": [
    "## Make a worm\n",
    "w = utils.makeWorm()\n",
    "nn = w.networks[\"Neutral\"]\n",
    "\n",
    "## Adding some properties to the neurons (see Example 1)\n",
    "for n in nn.neurons:\n",
    "    if nn.neurons[n].type == 'sensory' and nn.neurons[n].modality == 'amphid':\n",
    "        nn.neurons[n].set_property('sensory-stim', True)"
   ]
  },
  {
   "cell_type": "markdown",
   "metadata": {},
   "source": [
    "### Save the worm"
   ]
  },
  {
   "cell_type": "code",
   "execution_count": null,
   "metadata": {},
   "outputs": [],
   "source": [
    "w.save(\"./worm.pkl\")"
   ]
  },
  {
   "cell_type": "markdown",
   "metadata": {},
   "source": [
    "### Load the worm"
   ]
  },
  {
   "cell_type": "code",
   "execution_count": null,
   "metadata": {},
   "outputs": [],
   "source": [
    "w_loaded =  load_worm(\"./worm.pkl\")\n",
    "nn_loaded = w_loaded.networks[\"Neutral\"]"
   ]
  },
  {
   "cell_type": "markdown",
   "metadata": {},
   "source": [
    "### New property has been stored in the neurons"
   ]
  },
  {
   "cell_type": "code",
   "execution_count": null,
   "metadata": {},
   "outputs": [],
   "source": [
    "g = nn_loaded.return_network_where(neurons_have = {'sensory-stim': True})\n",
    "utils.plot_spiral(g)"
   ]
  },
  {
   "cell_type": "code",
   "execution_count": null,
   "metadata": {},
   "outputs": [],
   "source": []
  }
 ],
 "metadata": {
  "language_info": {
   "name": "python"
  }
 },
 "nbformat": 4,
 "nbformat_minor": 2
}
