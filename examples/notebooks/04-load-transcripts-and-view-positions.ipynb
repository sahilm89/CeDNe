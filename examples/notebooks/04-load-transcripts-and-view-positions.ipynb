{
 "cells": [
  {
   "cell_type": "markdown",
   "metadata": {},
   "source": [
    "# View positions and select neurons based on transcripts\n",
    "\n",
    "It can also be valuable to spread out the classes into the whole connectome and visualize the position of neurons with respect \n",
    "to the whole nervous system and the body of the worm."
   ]
  },
  {
   "cell_type": "markdown",
   "metadata": {},
   "source": [
    "\n",
    "### Here we look at ways to view positions of specific neurons in the neuronal network in different orientations, and select a subset of neurons based on their transcripts."
   ]
  },
  {
   "cell_type": "code",
   "execution_count": null,
   "metadata": {},
   "outputs": [],
   "source": [
    "from cedne import utils"
   ]
  },
  {
   "cell_type": "markdown",
   "metadata": {},
   "source": [
    "### Load the worm and neural network as usual"
   ]
  },
  {
   "cell_type": "code",
   "execution_count": null,
   "metadata": {},
   "outputs": [],
   "source": [
    "w = utils.makeWorm()\n",
    "nn = w.networks[\"Neutral\"]"
   ]
  },
  {
   "cell_type": "markdown",
   "metadata": {},
   "source": [
    "### This function allows plotting to view the positions of the neurons and highlight a subset of neurons"
   ]
  },
  {
   "cell_type": "code",
   "execution_count": null,
   "metadata": {},
   "outputs": [],
   "source": [
    "mec_17 = ['ALML', 'ALMR', 'AVM', 'PLML', 'PLMR', 'PVM']"
   ]
  },
  {
   "cell_type": "code",
   "execution_count": null,
   "metadata": {},
   "outputs": [],
   "source": [
    "utils.plot_position(nn, highlight=mec_17, axis='AP-LR', title='mec-17', save=\"mec-17.svg\") # Possible combinations of axis: RL-AP, AP-LR, AP-DV, DV-LR, AP-RL, LR-DV, LR-AP, DV-AP"
   ]
  },
  {
   "cell_type": "markdown",
   "metadata": {},
   "source": [
    "### Now we load the CENGEN transcipts and pick neurons on the basis of expression"
   ]
  },
  {
   "cell_type": "code",
   "execution_count": null,
   "metadata": {},
   "outputs": [],
   "source": [
    "cengen_threshold_level = 4\n",
    "utils.loadTranscripts(nn, threshold=cengen_threshold_level)\n",
    "transcript_of_interest =  'sre-1'"
   ]
  },
  {
   "cell_type": "code",
   "execution_count": null,
   "metadata": {},
   "outputs": [],
   "source": [
    "neurons_of_interest = [n.name for n,t in nn.neurons_have('transcript').items() if t[transcript_of_interest]]"
   ]
  },
  {
   "cell_type": "code",
   "execution_count": null,
   "metadata": {},
   "outputs": [],
   "source": [
    "utils.plot_position(nn, highlight=neurons_of_interest, axis='AP-DV', title=transcript_of_interest, save=transcript_of_interest+\".pdf\")"
   ]
  },
  {
   "cell_type": "markdown",
   "metadata": {},
   "source": [
    "### We can also look at intersections of several CENGEN transcripts together, which can sometimes be useful to design promoters."
   ]
  },
  {
   "cell_type": "code",
   "execution_count": null,
   "metadata": {},
   "outputs": [],
   "source": [
    "transcripts_of_interest =  ['sre-1', 'sre-2']"
   ]
  },
  {
   "cell_type": "code",
   "execution_count": null,
   "metadata": {},
   "outputs": [],
   "source": [
    "neurons_of_interest = [n.name for n,t in nn.neurons_have('transcript').items() if all (t[transcript_of_interest] for transcript_of_interest in transcripts_of_interest)]"
   ]
  },
  {
   "cell_type": "code",
   "execution_count": null,
   "metadata": {},
   "outputs": [],
   "source": [
    "utils.plot_position(nn, highlight=neurons_of_interest, axis='AP-LR')"
   ]
  },
  {
   "cell_type": "markdown",
   "metadata": {},
   "source": [
    "### Further, we can also coloring overlapping neurons differently by using list of lists of highlighted neurons to visualize the subsets and their intersections."
   ]
  },
  {
   "cell_type": "code",
   "execution_count": null,
   "metadata": {},
   "outputs": [],
   "source": [
    "neurons_of_interest = [[n.name for n,t in nn.neurons_have('transcript').items() if t[transcript_of_interest]] for transcript_of_interest in transcripts_of_interest]"
   ]
  },
  {
   "cell_type": "code",
   "execution_count": null,
   "metadata": {},
   "outputs": [],
   "source": [
    "utils.plot_position(nn, highlight=neurons_of_interest, axis='AP-LR')"
   ]
  },
  {
   "cell_type": "code",
   "execution_count": null,
   "metadata": {},
   "outputs": [],
   "source": [
    "trans = list(nn.neurons['ASJL'].transcript.index)\n",
    "gcy = set([t for t in trans if t.startswith('gcy')])\n",
    "hasgcy = {}\n",
    "lengcy = {}\n",
    "for n in nn.neurons:\n",
    "    hasgcy[n] = []\n",
    "    lengcy[n] = 0\n",
    "    for g in gcy:\n",
    "        if nn.neurons[n].transcript[g]:\n",
    "            hasgcy[n].append(g)\n",
    "    lengcy[n] = len(hasgcy[n])\n",
    "print(sorted(lengcy.items(), key=lambda x: x[1], reverse=True))"
   ]
  },
  {
   "cell_type": "code",
   "execution_count": null,
   "metadata": {},
   "outputs": [],
   "source": [
    "trans = list(nn.neurons['ASJL'].transcript.index)\n",
    "acy = set([t for t in trans if t.startswith('acy')])\n",
    "hasacy = {}\n",
    "lenacy = {}\n",
    "for n in nn.neurons:\n",
    "    hasacy[n] = []\n",
    "    lenacy[n] = 0\n",
    "    for g in acy:\n",
    "        if nn.neurons[n].transcript[g]:\n",
    "            hasacy[n].append(g)\n",
    "    lenacy[n] = len(hasacy[n])\n",
    "print(sorted(lenacy.items(), key=lambda x: x[1], reverse=True))"
   ]
  },
  {
   "cell_type": "code",
   "execution_count": null,
   "metadata": {},
   "outputs": [],
   "source": [
    "trans = list(nn.neurons['ASJL'].transcript.index)\n",
    "pde = set([t for t in trans if t.startswith('pde')])\n",
    "haspde = {}\n",
    "lenpde = {}\n",
    "for n in nn.neurons:\n",
    "    haspde[n] = []\n",
    "    lenpde[n] = 0\n",
    "    for g in pde:\n",
    "        if nn.neurons[n].transcript[g]:\n",
    "            haspde[n].append(g)\n",
    "    lenpde[n] = len(haspde[n])\n",
    "print(sorted(lenpde.items(), key=lambda x: x[1], reverse=True))"
   ]
  },
  {
   "cell_type": "code",
   "execution_count": null,
   "metadata": {},
   "outputs": [],
   "source": [
    "pde"
   ]
  },
  {
   "cell_type": "code",
   "execution_count": null,
   "metadata": {},
   "outputs": [],
   "source": []
  }
 ],
 "metadata": {
  "language_info": {
   "name": "python"
  }
 },
 "nbformat": 4,
 "nbformat_minor": 2
}
