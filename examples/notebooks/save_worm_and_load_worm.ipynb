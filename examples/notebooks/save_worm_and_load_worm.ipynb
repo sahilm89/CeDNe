{
 "cells": [
  {
   "cell_type": "code",
   "execution_count": 7,
   "metadata": {},
   "outputs": [],
   "source": [
    "from cedne import cedne\n",
    "from cedne import utils"
   ]
  },
  {
   "cell_type": "code",
   "execution_count": 8,
   "metadata": {},
   "outputs": [],
   "source": [
    "w1 = utils.makeWorm()\n",
    "nn = w1.conditions[\"Neutral\"]\n",
    "utils.loadNeurotransmitters(nn)"
   ]
  },
  {
   "cell_type": "code",
   "execution_count": 9,
   "metadata": {},
   "outputs": [],
   "source": [
    "w1.save(\"./worm.pkl\")"
   ]
  },
  {
   "cell_type": "code",
   "execution_count": 10,
   "metadata": {},
   "outputs": [],
   "source": [
    "w2 =  cedne.load_worm(\"./worm.pkl\")"
   ]
  },
  {
   "cell_type": "code",
   "execution_count": 11,
   "metadata": {},
   "outputs": [
    {
     "data": {
      "text/plain": [
       "(['Glutamate'],\n",
       " {'aexr-3': nan,\n",
       "  'daf-2': 'DAF-28, INS-1, INS-7\\xa0',\n",
       "  'F59D12.1': 'Melatonin?',\n",
       "  'frpr-16': nan,\n",
       "  'frpr-2': nan,\n",
       "  'gar-1': 'Ach',\n",
       "  'glc-4': 'Glutamate',\n",
       "  'gnrr-3': nan,\n",
       "  'gnrr-5': nan,\n",
       "  'gnrr-6': nan,\n",
       "  'npr-31': nan,\n",
       "  'ser-3': 'Octopamine/serotonin?',\n",
       "  'tyra-2': 'Tyramine',\n",
       "  'unc-38': 'Ach'})"
      ]
     },
     "execution_count": 11,
     "metadata": {},
     "output_type": "execute_result"
    }
   ],
   "source": [
    "nn.neuronDict['AWCL'].preSynapse, nn.neuronDict['AWCL'].postSynapse"
   ]
  },
  {
   "cell_type": "code",
   "execution_count": 12,
   "metadata": {},
   "outputs": [
    {
     "name": "stdout",
     "output_type": "stream",
     "text": [
      "['Glutamate'] {'aexr-3': nan, 'daf-2': 'DAF-28, INS-1, INS-7\\xa0', 'F59D12.1': 'Melatonin?', 'frpr-16': nan, 'frpr-2': nan, 'gar-1': 'Ach', 'glc-4': 'Glutamate', 'gnrr-3': nan, 'gnrr-5': nan, 'gnrr-6': nan, 'npr-31': nan, 'ser-3': 'Octopamine/serotonin?', 'tyra-2': 'Tyramine', 'unc-38': 'Ach'}\n"
     ]
    }
   ],
   "source": [
    "nn2 = w2.conditions[\"Neutral\"]\n",
    "print(nn2.neuronDict['AWCL'].preSynapse, nn2.neuronDict['AWCL'].postSynapse)"
   ]
  },
  {
   "cell_type": "code",
   "execution_count": null,
   "metadata": {},
   "outputs": [],
   "source": []
  }
 ],
 "metadata": {
  "kernelspec": {
   "display_name": "cedne-OqN2BZQP-py3.12",
   "language": "python",
   "name": "python3"
  },
  "language_info": {
   "codemirror_mode": {
    "name": "ipython",
    "version": 3
   },
   "file_extension": ".py",
   "mimetype": "text/x-python",
   "name": "python",
   "nbconvert_exporter": "python",
   "pygments_lexer": "ipython3",
   "version": "3.12.3"
  }
 },
 "nbformat": 4,
 "nbformat_minor": 2
}
