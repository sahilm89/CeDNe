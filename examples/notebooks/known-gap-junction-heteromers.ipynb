{
 "cells": [
  {
   "cell_type": "code",
   "execution_count": null,
   "metadata": {},
   "outputs": [],
   "source": [
    "## Known gap junction connections."
   ]
  },
  {
   "cell_type": "code",
   "execution_count": null,
   "metadata": {},
   "outputs": [],
   "source": [
    "from cedne import utils"
   ]
  },
  {
   "cell_type": "code",
   "execution_count": null,
   "metadata": {},
   "outputs": [],
   "source": [
    "w = utils.makeWorm()\n",
    "nn = w.networks[\"Neutral\"]"
   ]
  },
  {
   "cell_type": "code",
   "execution_count": null,
   "metadata": {},
   "outputs": [],
   "source": [
    "utils.loadGapJunctions(nn)"
   ]
  },
  {
   "cell_type": "code",
   "execution_count": null,
   "metadata": {},
   "outputs": [],
   "source": [
    "conns = []\n",
    "gapjn = ('inx-19', 'inx-19')\n",
    "for e, conn in nn.connections.items():\n",
    "    if conn.connection_type == 'gap-junction':\n",
    "        if gapjn in conn.putative_gapjn_subunits:\n",
    "            conns.append((e[0].name, e[1].name))\n"
   ]
  },
  {
   "cell_type": "code",
   "execution_count": null,
   "metadata": {},
   "outputs": [],
   "source": [
    "utils.plot_layered(interesting_conns=conns, neunet=nn, nodeColors={}, edgeColors='gray')"
   ]
  },
  {
   "cell_type": "code",
   "execution_count": null,
   "metadata": {},
   "outputs": [],
   "source": [
    "# inx-19–inx-19 (z = 3.4)\n",
    "# (46), 2) unc-9–unc-9 (z = 3.1) (46), 3) inx-10–inx-11 (z = 3.0)\n",
    "# (50), 4) inx-3–inx-3 (z = 2.8) (46), and 5) inx-6–inx-6"
   ]
  }
 ],
 "metadata": {
  "language_info": {
   "name": "python"
  }
 },
 "nbformat": 4,
 "nbformat_minor": 2
}
