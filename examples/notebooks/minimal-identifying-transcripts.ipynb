{
 "cells": [
  {
   "cell_type": "code",
   "execution_count": null,
   "metadata": {},
   "outputs": [],
   "source": [
    "from cedne import utils"
   ]
  },
  {
   "cell_type": "code",
   "execution_count": null,
   "metadata": {},
   "outputs": [],
   "source": [
    "w = utils.makeWorm()\n",
    "nn = w.conditions[\"Neutral\"]"
   ]
  },
  {
   "cell_type": "code",
   "execution_count": null,
   "metadata": {},
   "outputs": [],
   "source": [
    "utils.loadTranscripts(nn)\n",
    "cengen_threshold_level = 4"
   ]
  },
  {
   "cell_type": "code",
   "execution_count": null,
   "metadata": {},
   "outputs": [],
   "source": [
    "neurons_of_interest = ['AWCL']\n",
    "exceptions = 'else'"
   ]
  },
  {
   "cell_type": "code",
   "execution_count": null,
   "metadata": {},
   "outputs": [],
   "source": [
    "transcript_of_interest_df = utils.pd.concat([nn.neuronDict[n].transcript[cengen_threshold_level] for n in neurons_of_interest], axis=1)\n",
    "transcript_of_non_interest_df = utils.pd.concat([nn.neuronDict[n].transcript[cengen_threshold_level] for n in nn.neuronDict if not n in neurons_of_interest], axis=1)\n"
   ]
  },
  {
   "cell_type": "code",
   "execution_count": null,
   "metadata": {},
   "outputs": [],
   "source": [
    "transcripts_of_interest = transcript_of_interest_df.prod(axis=1).index[(transcript_of_interest_df.prod(axis=1) & ~transcript_of_non_interest_df.sum(axis=1)) == True].tolist()"
   ]
  },
  {
   "cell_type": "code",
   "execution_count": null,
   "metadata": {},
   "outputs": [],
   "source": [
    "len(transcripts_of_interest)"
   ]
  },
  {
   "cell_type": "code",
   "execution_count": null,
   "metadata": {},
   "outputs": [],
   "source": []
  }
 ],
 "metadata": {
  "language_info": {
   "name": "python"
  }
 },
 "nbformat": 4,
 "nbformat_minor": 2
}
