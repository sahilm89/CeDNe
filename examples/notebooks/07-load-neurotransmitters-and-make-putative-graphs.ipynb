{
 "cells": [
  {
   "cell_type": "markdown",
   "metadata": {},
   "source": [
    "# Loading neurotransmitter and creating connectivity subgraphs for specific neurotransmitters\n",
    "### Here we build upon the previous script to take putative neurotransmitters for each connection between neurons and make subgraphs that contain one or two neurotransmitters. "
   ]
  },
  {
   "cell_type": "code",
   "execution_count": null,
   "metadata": {},
   "outputs": [],
   "source": [
    "from cedne import utils"
   ]
  },
  {
   "cell_type": "code",
   "execution_count": null,
   "metadata": {},
   "outputs": [],
   "source": [
    "w = utils.makeWorm()\n",
    "nn = w.networks[\"Neutral\"]\n",
    "utils.loadNeurotransmitters(nn)"
   ]
  },
  {
   "cell_type": "markdown",
   "metadata": {},
   "source": [
    "### Fold the network by neuron types (DB, VA, VC, etc.). This automatically copies the data from each of the neurons in the class to the neuron that represents the class. This aids in comaparing different sources of datasets with different formats with each other."
   ]
  },
  {
   "cell_type": "code",
   "execution_count": null,
   "metadata": {},
   "outputs": [],
   "source": [
    "nn_class = utils.foldByNeuronType(nn)"
   ]
  },
  {
   "cell_type": "code",
   "execution_count": null,
   "metadata": {},
   "outputs": [],
   "source": [
    "nn_class.neurons['CAN'].type = 'interneuron' ## For the purposes of plotting"
   ]
  },
  {
   "cell_type": "code",
   "execution_count": null,
   "metadata": {},
   "outputs": [],
   "source": [
    "conns = []\n",
    "nt_rec = ('Glutamate', 'glc-2')\n",
    "connFilter = 'chemical-synapse' #'gap-junction'\n",
    "for c,e in nn_class.connections.items():\n",
    "    if connFilter:\n",
    "        if e.edge_type == connFilter:\n",
    "            #print(e.putative_neurotrasmitter_receptors)\n",
    "            if nt_rec in e.putative_neurotrasmitter_receptors:\n",
    "                conns.append([c[0].name, c[1].name])"
   ]
  },
  {
   "cell_type": "code",
   "execution_count": null,
   "metadata": {},
   "outputs": [],
   "source": [
    "pos = utils.plot_layered(conns, nn_class, nodeColors={}, edgeColors = 'gray', save=False, title=nt_rec, extraNodes=[], extraEdges=[], pos=[], mark_anatomical=False, colorbar=False)"
   ]
  },
  {
   "cell_type": "markdown",
   "metadata": {},
   "source": [
    "### Plotting all glutamatergic connections with differnet receptor### Plotting all putative glutamatergic connections with differnet receptors."
   ]
  },
  {
   "cell_type": "code",
   "execution_count": null,
   "metadata": {},
   "outputs": [],
   "source": [
    "conns = {}\n",
    "ligands= ('Glutamate')\n",
    "connFilter = 'chemical-synapse' #'gap-junction'\n",
    "for c,e in nn_class.connections.items():\n",
    "    if connFilter:\n",
    "        if e.edge_type == connFilter:\n",
    "            #print(e.putative_neurotrasmitter_receptors)\n",
    "            if ligands in e.ligands:\n",
    "                for nt_rec in e.putative_neurotrasmitter_receptors:\n",
    "                    if nt_rec[0] in ligands:\n",
    "                        if not nt_rec in conns:\n",
    "                            conns[nt_rec] = []\n",
    "                        conns[nt_rec].append([c[0].name, c[1].name])"
   ]
  },
  {
   "cell_type": "code",
   "execution_count": null,
   "metadata": {},
   "outputs": [],
   "source": [
    "for ntr, conn in conns.items():\n",
    "    print(ntr)\n",
    "    pos = utils.plot_layered(conn, nn_class, nodeColors={}, edgeColors = 'gray', save=False, title=ntr, extraNodes=[], extraEdges=[], pos=[], mark_anatomical=False, colorbar=False)"
   ]
  },
  {
   "cell_type": "code",
   "execution_count": null,
   "metadata": {},
   "outputs": [],
   "source": []
  }
 ],
 "metadata": {
  "language_info": {
   "name": "python"
  }
 },
 "nbformat": 4,
 "nbformat_minor": 2
}
