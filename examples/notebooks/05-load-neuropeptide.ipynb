{
 "cells": [
  {
   "cell_type": "code",
   "execution_count": null,
   "metadata": {},
   "outputs": [],
   "source": [
    "from cedne import utils"
   ]
  },
  {
   "cell_type": "code",
   "execution_count": null,
   "metadata": {},
   "outputs": [],
   "source": [
    "w = utils.makeWorm()\n",
    "nprc = 'NTC_1_NTR_1'\n",
    "\n",
    "utils.loadNeuropeptides(w)#, neuropeps=nprc)"
   ]
  },
  {
   "cell_type": "code",
   "execution_count": null,
   "metadata": {},
   "outputs": [],
   "source": [
    "w.networks"
   ]
  },
  {
   "cell_type": "code",
   "execution_count": null,
   "metadata": {},
   "outputs": [],
   "source": [
    "nn = w.networks[nprc]\n",
    "nn.remove_unconnected_neurons()"
   ]
  },
  {
   "cell_type": "code",
   "execution_count": null,
   "metadata": {},
   "outputs": [],
   "source": [
    "for n in nn.neurons:\n",
    "    if nn.neurons[n].type == 'sensory':\n",
    "        nn.neurons[n].set_property('color', 'green')\n",
    "    elif nn.neurons[n].type == 'interneuron':\n",
    "        nn.neurons[n].set_property('color', 'gray')\n",
    "    elif nn.neurons[n].type == 'motorneuron':\n",
    "        nn.neurons[n].set_property('color', 'orange')"
   ]
  },
  {
   "cell_type": "code",
   "execution_count": null,
   "metadata": {},
   "outputs": [],
   "source": [
    "center = ['AFDL', 'AFDR', 'DVA']\n",
    "utils.plot_shell(nn, center=center, figsize=(6,6), fontsize=10, save=nprc+'.pdf')"
   ]
  },
  {
   "cell_type": "code",
   "execution_count": null,
   "metadata": {},
   "outputs": [],
   "source": []
  }
 ],
 "metadata": {
  "language_info": {
   "name": "python"
  }
 },
 "nbformat": 4,
 "nbformat_minor": 2
}
